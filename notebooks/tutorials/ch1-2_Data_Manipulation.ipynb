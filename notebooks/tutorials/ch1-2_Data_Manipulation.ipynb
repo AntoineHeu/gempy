{
 "cells": [
  {
   "cell_type": "markdown",
   "metadata": {},
   "source": [
    "## Chapter 1.2: Data Structure and Manipulation\n",
    "***\n",
    "In the previous tutorial we saw how we can create a model by calling a few lines of code from imported data. However modelling tends to be an iterative process. Here we will explore the tools that `GemPy` with the help of `pandas` offers to modify the input data of a model.\n",
    "\n",
    "There is 5 main  funtion \"types\" in GemPy:\n",
    "\n",
    "- *create*: \n",
    "    - create new objects\n",
    "    - return the objects\n",
    " \n",
    "- *set*\n",
    "    - set given values **inplace**\n",
    "\n",
    "- *update*\n",
    "    - update dataframe or other attribute from other object or many objects. Usually this object is not passed as argument (this is the main difference with map)\n",
    "\n",
    "- *map*\n",
    "    - update dataframe (so far mainly df) or other attribute from an object to another object.\n",
    "    - Completelly directed. One attribute/property is updated by another one.\n",
    "    - In general, we map_from so the method is in the mutated object.\n",
    "\n",
    "- *get*\n",
    "    - return an image of the object\n",
    "    \n",
    "The intention is that a function/method that does not fall in any of these categories has a name (verb in principle) self explanatory. \n",
    "\n",
    "\n",
    "As always we start importing the usual packages and reading expample data:"
   ]
  },
  {
   "cell_type": "code",
   "execution_count": 1,
   "metadata": {},
   "outputs": [],
   "source": [
    "# These two lines are necessary only if GemPy is not installed\n",
    "import sys, os\n",
    "sys.path.append(\"../..\")\n",
    "\n",
    "# Importing GemPy\n",
    "import gempy as gp\n",
    "\n",
    "# Embedding matplotlib figures in the notebooks\n",
    "%matplotlib inline\n",
    "\n",
    "# Importing auxiliary libraries\n",
    "import numpy as np\n",
    "import pandas as pn\n",
    "import matplotlib.pyplot as plt\n"
   ]
  },
  {
   "cell_type": "markdown",
   "metadata": {},
   "source": [
    "## Series\n",
    "\n",
    "Series is the object that contains the properties associated with each independent scalar field. Right now it is simply the order of the series (which is infered by the index order). But in the future will be add the unconformity relation or perhaps the type of interpolator\n",
    "\n",
    "Series and Faults classes are quite entagled since fauls are a type of series"
   ]
  },
  {
   "cell_type": "code",
   "execution_count": 2,
   "metadata": {},
   "outputs": [
    {
     "data": {
      "text/html": [
       "<div>\n",
       "<style scoped>\n",
       "    .dataframe tbody tr th:only-of-type {\n",
       "        vertical-align: middle;\n",
       "    }\n",
       "\n",
       "    .dataframe tbody tr th {\n",
       "        vertical-align: top;\n",
       "    }\n",
       "\n",
       "    .dataframe thead th {\n",
       "        text-align: right;\n",
       "    }\n",
       "</style>\n",
       "<table border=\"1\" class=\"dataframe\">\n",
       "  <thead>\n",
       "    <tr style=\"text-align: right;\">\n",
       "      <th></th>\n",
       "      <th>order_series</th>\n",
       "      <th>BottomRelation</th>\n",
       "    </tr>\n",
       "  </thead>\n",
       "  <tbody>\n",
       "    <tr>\n",
       "      <th>Default series</th>\n",
       "      <td>1</td>\n",
       "      <td>Erosion</td>\n",
       "    </tr>\n",
       "  </tbody>\n",
       "</table>\n",
       "</div>"
      ],
      "text/plain": [
       "                order_series BottomRelation\n",
       "Default series             1        Erosion"
      ]
     },
     "execution_count": 2,
     "metadata": {},
     "output_type": "execute_result"
    }
   ],
   "source": [
    "faults = gp.Faults()\n",
    "series = gp.Series(faults)\n",
    "series.df"
   ]
  },
  {
   "cell_type": "markdown",
   "metadata": {},
   "source": [
    "We can modify the series bt using `set_series_index`:"
   ]
  },
  {
   "cell_type": "code",
   "execution_count": 3,
   "metadata": {},
   "outputs": [
    {
     "data": {
      "text/html": [
       "<table border=\"1\" class=\"dataframe\">\n",
       "  <thead>\n",
       "    <tr style=\"text-align: right;\">\n",
       "      <th></th>\n",
       "      <th>order_series</th>\n",
       "      <th>BottomRelation</th>\n",
       "    </tr>\n",
       "  </thead>\n",
       "  <tbody>\n",
       "    <tr>\n",
       "      <th>foo</th>\n",
       "      <td>1</td>\n",
       "      <td>Erosion</td>\n",
       "    </tr>\n",
       "    <tr>\n",
       "      <th>foo2</th>\n",
       "      <td>2</td>\n",
       "      <td>Erosion</td>\n",
       "    </tr>\n",
       "    <tr>\n",
       "      <th>foo5</th>\n",
       "      <td>3</td>\n",
       "      <td>Erosion</td>\n",
       "    </tr>\n",
       "    <tr>\n",
       "      <th>foo7</th>\n",
       "      <td>4</td>\n",
       "      <td>Erosion</td>\n",
       "    </tr>\n",
       "  </tbody>\n",
       "</table>"
      ],
      "text/plain": [
       "      order_series BottomRelation\n",
       "foo              1        Erosion\n",
       "foo2             2        Erosion\n",
       "foo5             3        Erosion\n",
       "foo7             4        Erosion"
      ]
     },
     "execution_count": 3,
     "metadata": {},
     "output_type": "execute_result"
    }
   ],
   "source": [
    "series.set_series_index(['foo', 'foo2', 'foo5', 'foo7'])\n",
    "series"
   ]
  },
  {
   "cell_type": "markdown",
   "metadata": {},
   "source": [
    "The index of series are pandas categories. These provides quite handy backend functionality (see pandas.Categorical)."
   ]
  },
  {
   "cell_type": "code",
   "execution_count": 4,
   "metadata": {},
   "outputs": [
    {
     "data": {
      "text/plain": [
       "CategoricalIndex(['foo', 'foo2', 'foo5', 'foo7'], categories=['foo', 'foo2', 'foo5', 'foo7'], ordered=False, dtype='category')"
      ]
     },
     "execution_count": 4,
     "metadata": {},
     "output_type": "execute_result"
    }
   ],
   "source": [
    "series.df.index"
   ]
  },
  {
   "cell_type": "markdown",
   "metadata": {},
   "source": [
    "For adding new series:"
   ]
  },
  {
   "cell_type": "code",
   "execution_count": 5,
   "metadata": {},
   "outputs": [
    {
     "data": {
      "text/html": [
       "<table border=\"1\" class=\"dataframe\">\n",
       "  <thead>\n",
       "    <tr style=\"text-align: right;\">\n",
       "      <th></th>\n",
       "      <th>order_series</th>\n",
       "      <th>BottomRelation</th>\n",
       "    </tr>\n",
       "  </thead>\n",
       "  <tbody>\n",
       "    <tr>\n",
       "      <th>foo</th>\n",
       "      <td>1</td>\n",
       "      <td>Erosion</td>\n",
       "    </tr>\n",
       "    <tr>\n",
       "      <th>foo2</th>\n",
       "      <td>2</td>\n",
       "      <td>Erosion</td>\n",
       "    </tr>\n",
       "    <tr>\n",
       "      <th>foo5</th>\n",
       "      <td>3</td>\n",
       "      <td>Erosion</td>\n",
       "    </tr>\n",
       "    <tr>\n",
       "      <th>foo7</th>\n",
       "      <td>4</td>\n",
       "      <td>Erosion</td>\n",
       "    </tr>\n",
       "    <tr>\n",
       "      <th>foo3</th>\n",
       "      <td>5</td>\n",
       "      <td>Erosion</td>\n",
       "    </tr>\n",
       "  </tbody>\n",
       "</table>"
      ],
      "text/plain": [
       "      order_series BottomRelation\n",
       "foo              1        Erosion\n",
       "foo2             2        Erosion\n",
       "foo5             3        Erosion\n",
       "foo7             4        Erosion\n",
       "foo3             5        Erosion"
      ]
     },
     "execution_count": 5,
     "metadata": {},
     "output_type": "execute_result"
    }
   ],
   "source": [
    "series.add_series('foo3')\n",
    "series"
   ]
  },
  {
   "cell_type": "markdown",
   "metadata": {},
   "source": [
    "Delete series"
   ]
  },
  {
   "cell_type": "code",
   "execution_count": 6,
   "metadata": {},
   "outputs": [
    {
     "data": {
      "text/html": [
       "<table border=\"1\" class=\"dataframe\">\n",
       "  <thead>\n",
       "    <tr style=\"text-align: right;\">\n",
       "      <th></th>\n",
       "      <th>order_series</th>\n",
       "      <th>BottomRelation</th>\n",
       "    </tr>\n",
       "  </thead>\n",
       "  <tbody>\n",
       "    <tr>\n",
       "      <th>foo</th>\n",
       "      <td>1</td>\n",
       "      <td>Erosion</td>\n",
       "    </tr>\n",
       "    <tr>\n",
       "      <th>foo2</th>\n",
       "      <td>2</td>\n",
       "      <td>Erosion</td>\n",
       "    </tr>\n",
       "    <tr>\n",
       "      <th>foo5</th>\n",
       "      <td>3</td>\n",
       "      <td>Erosion</td>\n",
       "    </tr>\n",
       "    <tr>\n",
       "      <th>foo7</th>\n",
       "      <td>4</td>\n",
       "      <td>Erosion</td>\n",
       "    </tr>\n",
       "  </tbody>\n",
       "</table>"
      ],
      "text/plain": [
       "      order_series BottomRelation\n",
       "foo              1        Erosion\n",
       "foo2             2        Erosion\n",
       "foo5             3        Erosion\n",
       "foo7             4        Erosion"
      ]
     },
     "execution_count": 6,
     "metadata": {},
     "output_type": "execute_result"
    }
   ],
   "source": [
    "series.delete_series('foo3')\n",
    "series"
   ]
  },
  {
   "cell_type": "markdown",
   "metadata": {},
   "source": [
    "Rename series:"
   ]
  },
  {
   "cell_type": "code",
   "execution_count": 7,
   "metadata": {},
   "outputs": [
    {
     "data": {
      "text/html": [
       "<table border=\"1\" class=\"dataframe\">\n",
       "  <thead>\n",
       "    <tr style=\"text-align: right;\">\n",
       "      <th></th>\n",
       "      <th>order_series</th>\n",
       "      <th>BottomRelation</th>\n",
       "    </tr>\n",
       "  </thead>\n",
       "  <tbody>\n",
       "    <tr>\n",
       "      <th>boo</th>\n",
       "      <td>1</td>\n",
       "      <td>Erosion</td>\n",
       "    </tr>\n",
       "    <tr>\n",
       "      <th>foo2</th>\n",
       "      <td>2</td>\n",
       "      <td>Erosion</td>\n",
       "    </tr>\n",
       "    <tr>\n",
       "      <th>foo5</th>\n",
       "      <td>3</td>\n",
       "      <td>Erosion</td>\n",
       "    </tr>\n",
       "    <tr>\n",
       "      <th>foo7</th>\n",
       "      <td>4</td>\n",
       "      <td>Erosion</td>\n",
       "    </tr>\n",
       "  </tbody>\n",
       "</table>"
      ],
      "text/plain": [
       "      order_series BottomRelation\n",
       "boo              1        Erosion\n",
       "foo2             2        Erosion\n",
       "foo5             3        Erosion\n",
       "foo7             4        Erosion"
      ]
     },
     "execution_count": 7,
     "metadata": {},
     "output_type": "execute_result"
    }
   ],
   "source": [
    "series.rename_series({'foo':'boo'})\n",
    "series"
   ]
  },
  {
   "cell_type": "markdown",
   "metadata": {},
   "source": [
    "Reorder series:"
   ]
  },
  {
   "cell_type": "code",
   "execution_count": 8,
   "metadata": {},
   "outputs": [
    {
     "data": {
      "text/html": [
       "<table border=\"1\" class=\"dataframe\">\n",
       "  <thead>\n",
       "    <tr style=\"text-align: right;\">\n",
       "      <th></th>\n",
       "      <th>order_series</th>\n",
       "      <th>BottomRelation</th>\n",
       "    </tr>\n",
       "  </thead>\n",
       "  <tbody>\n",
       "    <tr>\n",
       "      <th>foo2</th>\n",
       "      <td>1</td>\n",
       "      <td>Erosion</td>\n",
       "    </tr>\n",
       "    <tr>\n",
       "      <th>boo</th>\n",
       "      <td>2</td>\n",
       "      <td>Erosion</td>\n",
       "    </tr>\n",
       "    <tr>\n",
       "      <th>foo7</th>\n",
       "      <td>3</td>\n",
       "      <td>Erosion</td>\n",
       "    </tr>\n",
       "    <tr>\n",
       "      <th>foo5</th>\n",
       "      <td>4</td>\n",
       "      <td>Erosion</td>\n",
       "    </tr>\n",
       "  </tbody>\n",
       "</table>"
      ],
      "text/plain": [
       "      order_series BottomRelation\n",
       "foo2             1        Erosion\n",
       "boo              2        Erosion\n",
       "foo7             3        Erosion\n",
       "foo5             4        Erosion"
      ]
     },
     "execution_count": 8,
     "metadata": {},
     "output_type": "execute_result"
    }
   ],
   "source": [
    "series.reorder_series(['foo2', 'boo', 'foo7', 'foo5'])\n",
    "series"
   ]
  },
  {
   "cell_type": "markdown",
   "metadata": {},
   "source": [
    "### Faults\n",
    "\n",
    "The *df faults* is used to charectirize which *mathematical series* behave as fault and if mentioned faults are finite or infinite. Both df should get updated automatically as we modify the series object linked to the fault object (by passing it wehn a Series object is created)."
   ]
  },
  {
   "cell_type": "code",
   "execution_count": 9,
   "metadata": {},
   "outputs": [
    {
     "data": {
      "text/html": [
       "<table border=\"1\" class=\"dataframe\">\n",
       "  <thead>\n",
       "    <tr style=\"text-align: right;\">\n",
       "      <th></th>\n",
       "      <th>isFault</th>\n",
       "      <th>isFinite</th>\n",
       "    </tr>\n",
       "  </thead>\n",
       "  <tbody>\n",
       "    <tr>\n",
       "      <th>foo2</th>\n",
       "      <td>False</td>\n",
       "      <td>False</td>\n",
       "    </tr>\n",
       "    <tr>\n",
       "      <th>boo</th>\n",
       "      <td>False</td>\n",
       "      <td>False</td>\n",
       "    </tr>\n",
       "    <tr>\n",
       "      <th>foo7</th>\n",
       "      <td>False</td>\n",
       "      <td>False</td>\n",
       "    </tr>\n",
       "    <tr>\n",
       "      <th>foo5</th>\n",
       "      <td>False</td>\n",
       "      <td>False</td>\n",
       "    </tr>\n",
       "  </tbody>\n",
       "</table>"
      ],
      "text/plain": [
       "      isFault  isFinite\n",
       "foo2    False     False\n",
       "boo     False     False\n",
       "foo7    False     False\n",
       "foo5    False     False"
      ]
     },
     "execution_count": 9,
     "metadata": {},
     "output_type": "execute_result"
    }
   ],
   "source": [
    "faults"
   ]
  },
  {
   "cell_type": "markdown",
   "metadata": {},
   "source": [
    "Finally we have the *faults relations df* which captures which *mathematical series* a given fault offset in order to reproduce complex faulting networks"
   ]
  },
  {
   "cell_type": "code",
   "execution_count": 10,
   "metadata": {},
   "outputs": [
    {
     "data": {
      "text/html": [
       "<div>\n",
       "<style scoped>\n",
       "    .dataframe tbody tr th:only-of-type {\n",
       "        vertical-align: middle;\n",
       "    }\n",
       "\n",
       "    .dataframe tbody tr th {\n",
       "        vertical-align: top;\n",
       "    }\n",
       "\n",
       "    .dataframe thead th {\n",
       "        text-align: right;\n",
       "    }\n",
       "</style>\n",
       "<table border=\"1\" class=\"dataframe\">\n",
       "  <thead>\n",
       "    <tr style=\"text-align: right;\">\n",
       "      <th></th>\n",
       "      <th>foo2</th>\n",
       "      <th>boo</th>\n",
       "      <th>foo7</th>\n",
       "      <th>foo5</th>\n",
       "    </tr>\n",
       "  </thead>\n",
       "  <tbody>\n",
       "    <tr>\n",
       "      <th>foo2</th>\n",
       "      <td>False</td>\n",
       "      <td>False</td>\n",
       "      <td>False</td>\n",
       "      <td>False</td>\n",
       "    </tr>\n",
       "    <tr>\n",
       "      <th>boo</th>\n",
       "      <td>False</td>\n",
       "      <td>False</td>\n",
       "      <td>False</td>\n",
       "      <td>False</td>\n",
       "    </tr>\n",
       "    <tr>\n",
       "      <th>foo7</th>\n",
       "      <td>False</td>\n",
       "      <td>False</td>\n",
       "      <td>False</td>\n",
       "      <td>False</td>\n",
       "    </tr>\n",
       "    <tr>\n",
       "      <th>foo5</th>\n",
       "      <td>False</td>\n",
       "      <td>False</td>\n",
       "      <td>False</td>\n",
       "      <td>False</td>\n",
       "    </tr>\n",
       "  </tbody>\n",
       "</table>\n",
       "</div>"
      ],
      "text/plain": [
       "       foo2    boo   foo7   foo5\n",
       "foo2  False  False  False  False\n",
       "boo   False  False  False  False\n",
       "foo7  False  False  False  False\n",
       "foo5  False  False  False  False"
      ]
     },
     "execution_count": 10,
     "metadata": {},
     "output_type": "execute_result"
    }
   ],
   "source": [
    "faults.faults_relations_df"
   ]
  },
  {
   "cell_type": "markdown",
   "metadata": {},
   "source": [
    "We can use `set_is_fault` to choose which of our series are faults:"
   ]
  },
  {
   "cell_type": "code",
   "execution_count": 11,
   "metadata": {},
   "outputs": [
    {
     "data": {
      "text/html": [
       "<div>\n",
       "<style scoped>\n",
       "    .dataframe tbody tr th:only-of-type {\n",
       "        vertical-align: middle;\n",
       "    }\n",
       "\n",
       "    .dataframe tbody tr th {\n",
       "        vertical-align: top;\n",
       "    }\n",
       "\n",
       "    .dataframe thead th {\n",
       "        text-align: right;\n",
       "    }\n",
       "</style>\n",
       "<table border=\"1\" class=\"dataframe\">\n",
       "  <thead>\n",
       "    <tr style=\"text-align: right;\">\n",
       "      <th></th>\n",
       "      <th>isFault</th>\n",
       "      <th>isFinite</th>\n",
       "    </tr>\n",
       "  </thead>\n",
       "  <tbody>\n",
       "    <tr>\n",
       "      <th>foo2</th>\n",
       "      <td>False</td>\n",
       "      <td>False</td>\n",
       "    </tr>\n",
       "    <tr>\n",
       "      <th>boo</th>\n",
       "      <td>True</td>\n",
       "      <td>False</td>\n",
       "    </tr>\n",
       "    <tr>\n",
       "      <th>foo7</th>\n",
       "      <td>False</td>\n",
       "      <td>False</td>\n",
       "    </tr>\n",
       "    <tr>\n",
       "      <th>foo5</th>\n",
       "      <td>False</td>\n",
       "      <td>False</td>\n",
       "    </tr>\n",
       "  </tbody>\n",
       "</table>\n",
       "</div>"
      ],
      "text/plain": [
       "      isFault  isFinite\n",
       "foo2    False     False\n",
       "boo      True     False\n",
       "foo7    False     False\n",
       "foo5    False     False"
      ]
     },
     "execution_count": 11,
     "metadata": {},
     "output_type": "execute_result"
    }
   ],
   "source": [
    "faults.set_is_fault(['boo'])"
   ]
  },
  {
   "cell_type": "markdown",
   "metadata": {},
   "source": [
    "Similar thing for the fault relations:"
   ]
  },
  {
   "cell_type": "code",
   "execution_count": 12,
   "metadata": {},
   "outputs": [
    {
     "data": {
      "text/html": [
       "<div>\n",
       "<style scoped>\n",
       "    .dataframe tbody tr th:only-of-type {\n",
       "        vertical-align: middle;\n",
       "    }\n",
       "\n",
       "    .dataframe tbody tr th {\n",
       "        vertical-align: top;\n",
       "    }\n",
       "\n",
       "    .dataframe thead th {\n",
       "        text-align: right;\n",
       "    }\n",
       "</style>\n",
       "<table border=\"1\" class=\"dataframe\">\n",
       "  <thead>\n",
       "    <tr style=\"text-align: right;\">\n",
       "      <th></th>\n",
       "      <th>foo2</th>\n",
       "      <th>boo</th>\n",
       "      <th>foo7</th>\n",
       "      <th>foo5</th>\n",
       "    </tr>\n",
       "  </thead>\n",
       "  <tbody>\n",
       "    <tr>\n",
       "      <th>foo2</th>\n",
       "      <td>False</td>\n",
       "      <td>False</td>\n",
       "      <td>False</td>\n",
       "      <td>False</td>\n",
       "    </tr>\n",
       "    <tr>\n",
       "      <th>boo</th>\n",
       "      <td>False</td>\n",
       "      <td>False</td>\n",
       "      <td>False</td>\n",
       "      <td>False</td>\n",
       "    </tr>\n",
       "    <tr>\n",
       "      <th>foo7</th>\n",
       "      <td>False</td>\n",
       "      <td>False</td>\n",
       "      <td>False</td>\n",
       "      <td>False</td>\n",
       "    </tr>\n",
       "    <tr>\n",
       "      <th>foo5</th>\n",
       "      <td>False</td>\n",
       "      <td>False</td>\n",
       "      <td>False</td>\n",
       "      <td>False</td>\n",
       "    </tr>\n",
       "  </tbody>\n",
       "</table>\n",
       "</div>"
      ],
      "text/plain": [
       "       foo2    boo   foo7   foo5\n",
       "foo2  False  False  False  False\n",
       "boo   False  False  False  False\n",
       "foo7  False  False  False  False\n",
       "foo5  False  False  False  False"
      ]
     },
     "execution_count": 12,
     "metadata": {},
     "output_type": "execute_result"
    }
   ],
   "source": [
    "fr = np.zeros((4, 4))\n",
    "fr[2, 2] = True\n",
    "faults.set_fault_relation(fr)"
   ]
  },
  {
   "cell_type": "markdown",
   "metadata": {},
   "source": [
    "Now if we change the series df and we update the series already defined will conserve their values while the new ones will be set to false:"
   ]
  },
  {
   "cell_type": "code",
   "execution_count": 13,
   "metadata": {},
   "outputs": [],
   "source": [
    "series.add_series('foo20')\n"
   ]
  },
  {
   "cell_type": "code",
   "execution_count": 14,
   "metadata": {},
   "outputs": [
    {
     "data": {
      "text/html": [
       "<table border=\"1\" class=\"dataframe\">\n",
       "  <thead>\n",
       "    <tr style=\"text-align: right;\">\n",
       "      <th></th>\n",
       "      <th>order_series</th>\n",
       "      <th>BottomRelation</th>\n",
       "    </tr>\n",
       "  </thead>\n",
       "  <tbody>\n",
       "    <tr>\n",
       "      <th>foo2</th>\n",
       "      <td>1</td>\n",
       "      <td>Erosion</td>\n",
       "    </tr>\n",
       "    <tr>\n",
       "      <th>boo</th>\n",
       "      <td>2</td>\n",
       "      <td>Erosion</td>\n",
       "    </tr>\n",
       "    <tr>\n",
       "      <th>foo7</th>\n",
       "      <td>3</td>\n",
       "      <td>Erosion</td>\n",
       "    </tr>\n",
       "    <tr>\n",
       "      <th>foo5</th>\n",
       "      <td>4</td>\n",
       "      <td>Erosion</td>\n",
       "    </tr>\n",
       "    <tr>\n",
       "      <th>foo20</th>\n",
       "      <td>5</td>\n",
       "      <td>Erosion</td>\n",
       "    </tr>\n",
       "  </tbody>\n",
       "</table>"
      ],
      "text/plain": [
       "       order_series BottomRelation\n",
       "foo2              1        Erosion\n",
       "boo               2        Erosion\n",
       "foo7              3        Erosion\n",
       "foo5              4        Erosion\n",
       "foo20             5        Erosion"
      ]
     },
     "execution_count": 14,
     "metadata": {},
     "output_type": "execute_result"
    }
   ],
   "source": [
    "series"
   ]
  },
  {
   "cell_type": "code",
   "execution_count": 15,
   "metadata": {},
   "outputs": [
    {
     "data": {
      "text/html": [
       "<table border=\"1\" class=\"dataframe\">\n",
       "  <thead>\n",
       "    <tr style=\"text-align: right;\">\n",
       "      <th></th>\n",
       "      <th>isFault</th>\n",
       "      <th>isFinite</th>\n",
       "    </tr>\n",
       "  </thead>\n",
       "  <tbody>\n",
       "    <tr>\n",
       "      <th>foo2</th>\n",
       "      <td>False</td>\n",
       "      <td>False</td>\n",
       "    </tr>\n",
       "    <tr>\n",
       "      <th>boo</th>\n",
       "      <td>True</td>\n",
       "      <td>False</td>\n",
       "    </tr>\n",
       "    <tr>\n",
       "      <th>foo7</th>\n",
       "      <td>False</td>\n",
       "      <td>False</td>\n",
       "    </tr>\n",
       "    <tr>\n",
       "      <th>foo5</th>\n",
       "      <td>False</td>\n",
       "      <td>False</td>\n",
       "    </tr>\n",
       "    <tr>\n",
       "      <th>foo20</th>\n",
       "      <td>False</td>\n",
       "      <td>False</td>\n",
       "    </tr>\n",
       "  </tbody>\n",
       "</table>"
      ],
      "text/plain": [
       "       isFault  isFinite\n",
       "foo2     False     False\n",
       "boo       True     False\n",
       "foo7     False     False\n",
       "foo5     False     False\n",
       "foo20    False     False"
      ]
     },
     "execution_count": 15,
     "metadata": {},
     "output_type": "execute_result"
    }
   ],
   "source": [
    "faults"
   ]
  },
  {
   "cell_type": "code",
   "execution_count": 16,
   "metadata": {},
   "outputs": [
    {
     "data": {
      "text/html": [
       "<div>\n",
       "<style scoped>\n",
       "    .dataframe tbody tr th:only-of-type {\n",
       "        vertical-align: middle;\n",
       "    }\n",
       "\n",
       "    .dataframe tbody tr th {\n",
       "        vertical-align: top;\n",
       "    }\n",
       "\n",
       "    .dataframe thead th {\n",
       "        text-align: right;\n",
       "    }\n",
       "</style>\n",
       "<table border=\"1\" class=\"dataframe\">\n",
       "  <thead>\n",
       "    <tr style=\"text-align: right;\">\n",
       "      <th></th>\n",
       "      <th>foo2</th>\n",
       "      <th>boo</th>\n",
       "      <th>foo7</th>\n",
       "      <th>foo5</th>\n",
       "      <th>foo20</th>\n",
       "    </tr>\n",
       "  </thead>\n",
       "  <tbody>\n",
       "    <tr>\n",
       "      <th>foo2</th>\n",
       "      <td>False</td>\n",
       "      <td>False</td>\n",
       "      <td>False</td>\n",
       "      <td>False</td>\n",
       "      <td>False</td>\n",
       "    </tr>\n",
       "    <tr>\n",
       "      <th>boo</th>\n",
       "      <td>False</td>\n",
       "      <td>False</td>\n",
       "      <td>False</td>\n",
       "      <td>False</td>\n",
       "      <td>False</td>\n",
       "    </tr>\n",
       "    <tr>\n",
       "      <th>foo7</th>\n",
       "      <td>False</td>\n",
       "      <td>False</td>\n",
       "      <td>False</td>\n",
       "      <td>False</td>\n",
       "      <td>False</td>\n",
       "    </tr>\n",
       "    <tr>\n",
       "      <th>foo5</th>\n",
       "      <td>False</td>\n",
       "      <td>False</td>\n",
       "      <td>False</td>\n",
       "      <td>False</td>\n",
       "      <td>False</td>\n",
       "    </tr>\n",
       "    <tr>\n",
       "      <th>foo20</th>\n",
       "      <td>False</td>\n",
       "      <td>False</td>\n",
       "      <td>False</td>\n",
       "      <td>False</td>\n",
       "      <td>False</td>\n",
       "    </tr>\n",
       "  </tbody>\n",
       "</table>\n",
       "</div>"
      ],
      "text/plain": [
       "        foo2    boo   foo7   foo5  foo20\n",
       "foo2   False  False  False  False  False\n",
       "boo    False  False  False  False  False\n",
       "foo7   False  False  False  False  False\n",
       "foo5   False  False  False  False  False\n",
       "foo20  False  False  False  False  False"
      ]
     },
     "execution_count": 16,
     "metadata": {},
     "output_type": "execute_result"
    }
   ],
   "source": [
    "faults.faults_relations_df"
   ]
  },
  {
   "cell_type": "markdown",
   "metadata": {},
   "source": [
    "When we add new series the values switch  to NaN. We will be careful not having any nan in the DataFrames or we will raise errors down the line."
   ]
  },
  {
   "cell_type": "code",
   "execution_count": 17,
   "metadata": {},
   "outputs": [
    {
     "data": {
      "text/html": [
       "<div>\n",
       "<style scoped>\n",
       "    .dataframe tbody tr th:only-of-type {\n",
       "        vertical-align: middle;\n",
       "    }\n",
       "\n",
       "    .dataframe tbody tr th {\n",
       "        vertical-align: top;\n",
       "    }\n",
       "\n",
       "    .dataframe thead th {\n",
       "        text-align: right;\n",
       "    }\n",
       "</style>\n",
       "<table border=\"1\" class=\"dataframe\">\n",
       "  <thead>\n",
       "    <tr style=\"text-align: right;\">\n",
       "      <th></th>\n",
       "      <th>isFault</th>\n",
       "      <th>isFinite</th>\n",
       "    </tr>\n",
       "  </thead>\n",
       "  <tbody>\n",
       "    <tr>\n",
       "      <th>foo2</th>\n",
       "      <td>False</td>\n",
       "      <td>False</td>\n",
       "    </tr>\n",
       "    <tr>\n",
       "      <th>boo</th>\n",
       "      <td>True</td>\n",
       "      <td>False</td>\n",
       "    </tr>\n",
       "    <tr>\n",
       "      <th>foo7</th>\n",
       "      <td>False</td>\n",
       "      <td>False</td>\n",
       "    </tr>\n",
       "    <tr>\n",
       "      <th>foo5</th>\n",
       "      <td>False</td>\n",
       "      <td>False</td>\n",
       "    </tr>\n",
       "    <tr>\n",
       "      <th>foo20</th>\n",
       "      <td>False</td>\n",
       "      <td>False</td>\n",
       "    </tr>\n",
       "  </tbody>\n",
       "</table>\n",
       "</div>"
      ],
      "text/plain": [
       "       isFault  isFinite\n",
       "foo2     False     False\n",
       "boo       True     False\n",
       "foo7     False     False\n",
       "foo5     False     False\n",
       "foo20    False     False"
      ]
     },
     "execution_count": 17,
     "metadata": {},
     "output_type": "execute_result"
    }
   ],
   "source": [
    "faults.set_is_fault()"
   ]
  },
  {
   "cell_type": "code",
   "execution_count": 18,
   "metadata": {},
   "outputs": [
    {
     "data": {
      "text/html": [
       "<div>\n",
       "<style scoped>\n",
       "    .dataframe tbody tr th:only-of-type {\n",
       "        vertical-align: middle;\n",
       "    }\n",
       "\n",
       "    .dataframe tbody tr th {\n",
       "        vertical-align: top;\n",
       "    }\n",
       "\n",
       "    .dataframe thead th {\n",
       "        text-align: right;\n",
       "    }\n",
       "</style>\n",
       "<table border=\"1\" class=\"dataframe\">\n",
       "  <thead>\n",
       "    <tr style=\"text-align: right;\">\n",
       "      <th></th>\n",
       "      <th>foo2</th>\n",
       "      <th>boo</th>\n",
       "      <th>foo7</th>\n",
       "      <th>foo5</th>\n",
       "      <th>foo20</th>\n",
       "    </tr>\n",
       "  </thead>\n",
       "  <tbody>\n",
       "    <tr>\n",
       "      <th>foo2</th>\n",
       "      <td>False</td>\n",
       "      <td>False</td>\n",
       "      <td>False</td>\n",
       "      <td>False</td>\n",
       "      <td>False</td>\n",
       "    </tr>\n",
       "    <tr>\n",
       "      <th>boo</th>\n",
       "      <td>False</td>\n",
       "      <td>False</td>\n",
       "      <td>False</td>\n",
       "      <td>False</td>\n",
       "      <td>False</td>\n",
       "    </tr>\n",
       "    <tr>\n",
       "      <th>foo7</th>\n",
       "      <td>False</td>\n",
       "      <td>False</td>\n",
       "      <td>False</td>\n",
       "      <td>False</td>\n",
       "      <td>False</td>\n",
       "    </tr>\n",
       "    <tr>\n",
       "      <th>foo5</th>\n",
       "      <td>False</td>\n",
       "      <td>False</td>\n",
       "      <td>False</td>\n",
       "      <td>False</td>\n",
       "      <td>False</td>\n",
       "    </tr>\n",
       "    <tr>\n",
       "      <th>foo20</th>\n",
       "      <td>False</td>\n",
       "      <td>False</td>\n",
       "      <td>False</td>\n",
       "      <td>False</td>\n",
       "      <td>False</td>\n",
       "    </tr>\n",
       "  </tbody>\n",
       "</table>\n",
       "</div>"
      ],
      "text/plain": [
       "        foo2    boo   foo7   foo5  foo20\n",
       "foo2   False  False  False  False  False\n",
       "boo    False  False  False  False  False\n",
       "foo7   False  False  False  False  False\n",
       "foo5   False  False  False  False  False\n",
       "foo20  False  False  False  False  False"
      ]
     },
     "execution_count": 18,
     "metadata": {},
     "output_type": "execute_result"
    }
   ],
   "source": [
    "faults.set_fault_relation()"
   ]
  },
  {
   "cell_type": "markdown",
   "metadata": {},
   "source": [
    "### Surfaces:\n",
    "\n",
    "The *df* surfaces contains three properties. *id* refers to the order of the surfaces on the sequential pile, i.e. the strict order of computation. *values* on the other hand is the final value that each voxel will have after discretization. This may be useful for example in the case we want to map a specific geophysical property (such as density) to a given unity. By default both are the same since to discretize lithological units the value is arbitrary."
   ]
  },
  {
   "cell_type": "markdown",
   "metadata": {},
   "source": [
    "#### From an empty df\n",
    "\n",
    "The Surfaces class needs to have an associate series object. This will limit the name of the series since they are a pandas.Category"
   ]
  },
  {
   "cell_type": "code",
   "execution_count": 22,
   "metadata": {},
   "outputs": [],
   "source": [
    "surfaces = gp.Surfaces(series)"
   ]
  },
  {
   "cell_type": "markdown",
   "metadata": {},
   "source": [
    "We can set any number of formations by passing a list with the names. By default they will take the name or the first series."
   ]
  },
  {
   "cell_type": "code",
   "execution_count": 23,
   "metadata": {},
   "outputs": [
    {
     "data": {
      "text/plain": [
       "True"
      ]
     },
     "execution_count": 23,
     "metadata": {},
     "output_type": "execute_result"
    }
   ],
   "source": [
    "surfaces.set_surfaces_names(['foo', 'foo2', 'foo5'])\n"
   ]
  },
  {
   "cell_type": "code",
   "execution_count": 24,
   "metadata": {},
   "outputs": [
    {
     "data": {
      "text/html": [
       "<table border=\"1\" class=\"dataframe\">\n",
       "  <thead>\n",
       "    <tr style=\"text-align: right;\">\n",
       "      <th></th>\n",
       "      <th>order_series</th>\n",
       "      <th>BottomRelation</th>\n",
       "    </tr>\n",
       "  </thead>\n",
       "  <tbody>\n",
       "    <tr>\n",
       "      <th>foo2</th>\n",
       "      <td>1</td>\n",
       "      <td>Erosion</td>\n",
       "    </tr>\n",
       "    <tr>\n",
       "      <th>boo</th>\n",
       "      <td>2</td>\n",
       "      <td>Erosion</td>\n",
       "    </tr>\n",
       "    <tr>\n",
       "      <th>foo7</th>\n",
       "      <td>3</td>\n",
       "      <td>Erosion</td>\n",
       "    </tr>\n",
       "    <tr>\n",
       "      <th>foo5</th>\n",
       "      <td>4</td>\n",
       "      <td>Erosion</td>\n",
       "    </tr>\n",
       "    <tr>\n",
       "      <th>foo20</th>\n",
       "      <td>5</td>\n",
       "      <td>Erosion</td>\n",
       "    </tr>\n",
       "  </tbody>\n",
       "</table>"
      ],
      "text/plain": [
       "       order_series BottomRelation\n",
       "foo2              1        Erosion\n",
       "boo               2        Erosion\n",
       "foo7              3        Erosion\n",
       "foo5              4        Erosion\n",
       "foo20             5        Erosion"
      ]
     },
     "execution_count": 24,
     "metadata": {},
     "output_type": "execute_result"
    }
   ],
   "source": [
    "series"
   ]
  },
  {
   "cell_type": "markdown",
   "metadata": {},
   "source": [
    "We can add new formations:"
   ]
  },
  {
   "cell_type": "code",
   "execution_count": 25,
   "metadata": {},
   "outputs": [
    {
     "data": {
      "text/html": [
       "<style  type=\"text/css\" >\n",
       "    #T_ac3ce12e_6d86_11e9_9cec_e82a44a18926row0_col4 {\n",
       "            background-color:  #015482;\n",
       "        }    #T_ac3ce12e_6d86_11e9_9cec_e82a44a18926row1_col4 {\n",
       "            background-color:  #9f0052;\n",
       "        }    #T_ac3ce12e_6d86_11e9_9cec_e82a44a18926row2_col4 {\n",
       "            background-color:  #ffbe00;\n",
       "        }    #T_ac3ce12e_6d86_11e9_9cec_e82a44a18926row3_col4 {\n",
       "            background-color:  #728f02;\n",
       "        }</style>  \n",
       "<table id=\"T_ac3ce12e_6d86_11e9_9cec_e82a44a18926\" > \n",
       "<thead>    <tr> \n",
       "        <th class=\"blank level0\" ></th> \n",
       "        <th class=\"col_heading level0 col0\" >surface</th> \n",
       "        <th class=\"col_heading level0 col1\" >series</th> \n",
       "        <th class=\"col_heading level0 col2\" >order_surfaces</th> \n",
       "        <th class=\"col_heading level0 col3\" >isBasement</th> \n",
       "        <th class=\"col_heading level0 col4\" >color</th> \n",
       "        <th class=\"col_heading level0 col5\" >id</th> \n",
       "    </tr></thead> \n",
       "<tbody>    <tr> \n",
       "        <th id=\"T_ac3ce12e_6d86_11e9_9cec_e82a44a18926level0_row0\" class=\"row_heading level0 row0\" >0</th> \n",
       "        <td id=\"T_ac3ce12e_6d86_11e9_9cec_e82a44a18926row0_col0\" class=\"data row0 col0\" >foo</td> \n",
       "        <td id=\"T_ac3ce12e_6d86_11e9_9cec_e82a44a18926row0_col1\" class=\"data row0 col1\" >foo20</td> \n",
       "        <td id=\"T_ac3ce12e_6d86_11e9_9cec_e82a44a18926row0_col2\" class=\"data row0 col2\" >1</td> \n",
       "        <td id=\"T_ac3ce12e_6d86_11e9_9cec_e82a44a18926row0_col3\" class=\"data row0 col3\" >False</td> \n",
       "        <td id=\"T_ac3ce12e_6d86_11e9_9cec_e82a44a18926row0_col4\" class=\"data row0 col4\" >#015482</td> \n",
       "        <td id=\"T_ac3ce12e_6d86_11e9_9cec_e82a44a18926row0_col5\" class=\"data row0 col5\" >1</td> \n",
       "    </tr>    <tr> \n",
       "        <th id=\"T_ac3ce12e_6d86_11e9_9cec_e82a44a18926level0_row1\" class=\"row_heading level0 row1\" >1</th> \n",
       "        <td id=\"T_ac3ce12e_6d86_11e9_9cec_e82a44a18926row1_col0\" class=\"data row1 col0\" >foo2</td> \n",
       "        <td id=\"T_ac3ce12e_6d86_11e9_9cec_e82a44a18926row1_col1\" class=\"data row1 col1\" >foo20</td> \n",
       "        <td id=\"T_ac3ce12e_6d86_11e9_9cec_e82a44a18926row1_col2\" class=\"data row1 col2\" >2</td> \n",
       "        <td id=\"T_ac3ce12e_6d86_11e9_9cec_e82a44a18926row1_col3\" class=\"data row1 col3\" >False</td> \n",
       "        <td id=\"T_ac3ce12e_6d86_11e9_9cec_e82a44a18926row1_col4\" class=\"data row1 col4\" >#9f0052</td> \n",
       "        <td id=\"T_ac3ce12e_6d86_11e9_9cec_e82a44a18926row1_col5\" class=\"data row1 col5\" >2</td> \n",
       "    </tr>    <tr> \n",
       "        <th id=\"T_ac3ce12e_6d86_11e9_9cec_e82a44a18926level0_row2\" class=\"row_heading level0 row2\" >2</th> \n",
       "        <td id=\"T_ac3ce12e_6d86_11e9_9cec_e82a44a18926row2_col0\" class=\"data row2 col0\" >foo5</td> \n",
       "        <td id=\"T_ac3ce12e_6d86_11e9_9cec_e82a44a18926row2_col1\" class=\"data row2 col1\" >foo20</td> \n",
       "        <td id=\"T_ac3ce12e_6d86_11e9_9cec_e82a44a18926row2_col2\" class=\"data row2 col2\" >3</td> \n",
       "        <td id=\"T_ac3ce12e_6d86_11e9_9cec_e82a44a18926row2_col3\" class=\"data row2 col3\" >False</td> \n",
       "        <td id=\"T_ac3ce12e_6d86_11e9_9cec_e82a44a18926row2_col4\" class=\"data row2 col4\" >#ffbe00</td> \n",
       "        <td id=\"T_ac3ce12e_6d86_11e9_9cec_e82a44a18926row2_col5\" class=\"data row2 col5\" >3</td> \n",
       "    </tr>    <tr> \n",
       "        <th id=\"T_ac3ce12e_6d86_11e9_9cec_e82a44a18926level0_row3\" class=\"row_heading level0 row3\" >3</th> \n",
       "        <td id=\"T_ac3ce12e_6d86_11e9_9cec_e82a44a18926row3_col0\" class=\"data row3 col0\" >feeeee</td> \n",
       "        <td id=\"T_ac3ce12e_6d86_11e9_9cec_e82a44a18926row3_col1\" class=\"data row3 col1\" >foo20</td> \n",
       "        <td id=\"T_ac3ce12e_6d86_11e9_9cec_e82a44a18926row3_col2\" class=\"data row3 col2\" >4</td> \n",
       "        <td id=\"T_ac3ce12e_6d86_11e9_9cec_e82a44a18926row3_col3\" class=\"data row3 col3\" >True</td> \n",
       "        <td id=\"T_ac3ce12e_6d86_11e9_9cec_e82a44a18926row3_col4\" class=\"data row3 col4\" >#728f02</td> \n",
       "        <td id=\"T_ac3ce12e_6d86_11e9_9cec_e82a44a18926row3_col5\" class=\"data row3 col5\" >4</td> \n",
       "    </tr></tbody> \n",
       "</table> "
      ],
      "text/plain": [
       "  surface series  order_surfaces  isBasement    color vertices edges  id\n",
       "0     foo  foo20               1       False  #015482      NaN   NaN   1\n",
       "1    foo2  foo20               2       False  #9f0052      NaN   NaN   2\n",
       "2    foo5  foo20               3       False  #ffbe00      NaN   NaN   3\n",
       "3  feeeee  foo20               4        True  #728f02      NaN   NaN   4"
      ]
     },
     "execution_count": 25,
     "metadata": {},
     "output_type": "execute_result"
    }
   ],
   "source": [
    "surfaces.add_surface(['feeeee'])\n",
    "surfaces"
   ]
  },
  {
   "cell_type": "markdown",
   "metadata": {},
   "source": [
    "The column formation is also a pandas.Categories. This will be important for the Data clases (surface_points and Orientations)"
   ]
  },
  {
   "cell_type": "code",
   "execution_count": 23,
   "metadata": {},
   "outputs": [
    {
     "data": {
      "text/plain": [
       "0       foo\n",
       "1      foo2\n",
       "2      foo5\n",
       "3    feeeee\n",
       "Name: surface, dtype: object"
      ]
     },
     "execution_count": 23,
     "metadata": {},
     "output_type": "execute_result"
    }
   ],
   "source": [
    "surfaces.df['surface']"
   ]
  },
  {
   "cell_type": "code",
   "execution_count": 24,
   "metadata": {},
   "outputs": [
    {
     "data": {
      "text/html": [
       "<style  type=\"text/css\" >\n",
       "    #T_2caeb180_6c23_11e9_bafd_13598be69376row0_col4 {\n",
       "            background-color:  #015482;\n",
       "        }    #T_2caeb180_6c23_11e9_bafd_13598be69376row1_col4 {\n",
       "            background-color:  #9f0052;\n",
       "        }    #T_2caeb180_6c23_11e9_bafd_13598be69376row2_col4 {\n",
       "            background-color:  #ffbe00;\n",
       "        }    #T_2caeb180_6c23_11e9_bafd_13598be69376row3_col4 {\n",
       "            background-color:  #728f02;\n",
       "        }</style>  \n",
       "<table id=\"T_2caeb180_6c23_11e9_bafd_13598be69376\" > \n",
       "<thead>    <tr> \n",
       "        <th class=\"blank level0\" ></th> \n",
       "        <th class=\"col_heading level0 col0\" >surface</th> \n",
       "        <th class=\"col_heading level0 col1\" >series</th> \n",
       "        <th class=\"col_heading level0 col2\" >order_surfaces</th> \n",
       "        <th class=\"col_heading level0 col3\" >isBasement</th> \n",
       "        <th class=\"col_heading level0 col4\" >color</th> \n",
       "        <th class=\"col_heading level0 col5\" >id</th> \n",
       "    </tr></thead> \n",
       "<tbody>    <tr> \n",
       "        <th id=\"T_2caeb180_6c23_11e9_bafd_13598be69376level0_row0\" class=\"row_heading level0 row0\" >0</th> \n",
       "        <td id=\"T_2caeb180_6c23_11e9_bafd_13598be69376row0_col0\" class=\"data row0 col0\" >foo</td> \n",
       "        <td id=\"T_2caeb180_6c23_11e9_bafd_13598be69376row0_col1\" class=\"data row0 col1\" >foo20</td> \n",
       "        <td id=\"T_2caeb180_6c23_11e9_bafd_13598be69376row0_col2\" class=\"data row0 col2\" >1</td> \n",
       "        <td id=\"T_2caeb180_6c23_11e9_bafd_13598be69376row0_col3\" class=\"data row0 col3\" >False</td> \n",
       "        <td id=\"T_2caeb180_6c23_11e9_bafd_13598be69376row0_col4\" class=\"data row0 col4\" >#015482</td> \n",
       "        <td id=\"T_2caeb180_6c23_11e9_bafd_13598be69376row0_col5\" class=\"data row0 col5\" >1</td> \n",
       "    </tr>    <tr> \n",
       "        <th id=\"T_2caeb180_6c23_11e9_bafd_13598be69376level0_row1\" class=\"row_heading level0 row1\" >1</th> \n",
       "        <td id=\"T_2caeb180_6c23_11e9_bafd_13598be69376row1_col0\" class=\"data row1 col0\" >foo2</td> \n",
       "        <td id=\"T_2caeb180_6c23_11e9_bafd_13598be69376row1_col1\" class=\"data row1 col1\" >foo20</td> \n",
       "        <td id=\"T_2caeb180_6c23_11e9_bafd_13598be69376row1_col2\" class=\"data row1 col2\" >2</td> \n",
       "        <td id=\"T_2caeb180_6c23_11e9_bafd_13598be69376row1_col3\" class=\"data row1 col3\" >False</td> \n",
       "        <td id=\"T_2caeb180_6c23_11e9_bafd_13598be69376row1_col4\" class=\"data row1 col4\" >#9f0052</td> \n",
       "        <td id=\"T_2caeb180_6c23_11e9_bafd_13598be69376row1_col5\" class=\"data row1 col5\" >2</td> \n",
       "    </tr>    <tr> \n",
       "        <th id=\"T_2caeb180_6c23_11e9_bafd_13598be69376level0_row2\" class=\"row_heading level0 row2\" >2</th> \n",
       "        <td id=\"T_2caeb180_6c23_11e9_bafd_13598be69376row2_col0\" class=\"data row2 col0\" >foo5</td> \n",
       "        <td id=\"T_2caeb180_6c23_11e9_bafd_13598be69376row2_col1\" class=\"data row2 col1\" >foo20</td> \n",
       "        <td id=\"T_2caeb180_6c23_11e9_bafd_13598be69376row2_col2\" class=\"data row2 col2\" >3</td> \n",
       "        <td id=\"T_2caeb180_6c23_11e9_bafd_13598be69376row2_col3\" class=\"data row2 col3\" >False</td> \n",
       "        <td id=\"T_2caeb180_6c23_11e9_bafd_13598be69376row2_col4\" class=\"data row2 col4\" >#ffbe00</td> \n",
       "        <td id=\"T_2caeb180_6c23_11e9_bafd_13598be69376row2_col5\" class=\"data row2 col5\" >3</td> \n",
       "    </tr>    <tr> \n",
       "        <th id=\"T_2caeb180_6c23_11e9_bafd_13598be69376level0_row3\" class=\"row_heading level0 row3\" >3</th> \n",
       "        <td id=\"T_2caeb180_6c23_11e9_bafd_13598be69376row3_col0\" class=\"data row3 col0\" >feeeee</td> \n",
       "        <td id=\"T_2caeb180_6c23_11e9_bafd_13598be69376row3_col1\" class=\"data row3 col1\" >foo20</td> \n",
       "        <td id=\"T_2caeb180_6c23_11e9_bafd_13598be69376row3_col2\" class=\"data row3 col2\" >4</td> \n",
       "        <td id=\"T_2caeb180_6c23_11e9_bafd_13598be69376row3_col3\" class=\"data row3 col3\" >True</td> \n",
       "        <td id=\"T_2caeb180_6c23_11e9_bafd_13598be69376row3_col4\" class=\"data row3 col4\" >#728f02</td> \n",
       "        <td id=\"T_2caeb180_6c23_11e9_bafd_13598be69376row3_col5\" class=\"data row3 col5\" >4</td> \n",
       "    </tr></tbody> \n",
       "</table> "
      ],
      "text/plain": [
       "  surface series  order_surfaces  isBasement    color vertices edges  id\n",
       "0     foo  foo20               1       False  #015482      NaN   NaN   1\n",
       "1    foo2  foo20               2       False  #9f0052      NaN   NaN   2\n",
       "2    foo5  foo20               3       False  #ffbe00      NaN   NaN   3\n",
       "3  feeeee  foo20               4        True  #728f02      NaN   NaN   4"
      ]
     },
     "execution_count": 24,
     "metadata": {},
     "output_type": "execute_result"
    }
   ],
   "source": [
    "surfaces"
   ]
  },
  {
   "cell_type": "markdown",
   "metadata": {},
   "source": [
    "### Set values\n",
    "\n",
    "To set the values we do it with the following method"
   ]
  },
  {
   "cell_type": "code",
   "execution_count": 26,
   "metadata": {},
   "outputs": [
    {
     "data": {
      "text/html": [
       "<style  type=\"text/css\" >\n",
       "    #T_b67224a4_6d86_11e9_8d9c_e82a44a18926row0_col4 {\n",
       "            background-color:  #015482;\n",
       "        }    #T_b67224a4_6d86_11e9_8d9c_e82a44a18926row1_col4 {\n",
       "            background-color:  #9f0052;\n",
       "        }    #T_b67224a4_6d86_11e9_8d9c_e82a44a18926row2_col4 {\n",
       "            background-color:  #ffbe00;\n",
       "        }    #T_b67224a4_6d86_11e9_8d9c_e82a44a18926row3_col4 {\n",
       "            background-color:  #728f02;\n",
       "        }</style>  \n",
       "<table id=\"T_b67224a4_6d86_11e9_8d9c_e82a44a18926\" > \n",
       "<thead>    <tr> \n",
       "        <th class=\"blank level0\" ></th> \n",
       "        <th class=\"col_heading level0 col0\" >surface</th> \n",
       "        <th class=\"col_heading level0 col1\" >series</th> \n",
       "        <th class=\"col_heading level0 col2\" >order_surfaces</th> \n",
       "        <th class=\"col_heading level0 col3\" >isBasement</th> \n",
       "        <th class=\"col_heading level0 col4\" >color</th> \n",
       "        <th class=\"col_heading level0 col5\" >id</th> \n",
       "        <th class=\"col_heading level0 col6\" >value_0</th> \n",
       "    </tr></thead> \n",
       "<tbody>    <tr> \n",
       "        <th id=\"T_b67224a4_6d86_11e9_8d9c_e82a44a18926level0_row0\" class=\"row_heading level0 row0\" >0</th> \n",
       "        <td id=\"T_b67224a4_6d86_11e9_8d9c_e82a44a18926row0_col0\" class=\"data row0 col0\" >foo</td> \n",
       "        <td id=\"T_b67224a4_6d86_11e9_8d9c_e82a44a18926row0_col1\" class=\"data row0 col1\" >foo20</td> \n",
       "        <td id=\"T_b67224a4_6d86_11e9_8d9c_e82a44a18926row0_col2\" class=\"data row0 col2\" >1</td> \n",
       "        <td id=\"T_b67224a4_6d86_11e9_8d9c_e82a44a18926row0_col3\" class=\"data row0 col3\" >False</td> \n",
       "        <td id=\"T_b67224a4_6d86_11e9_8d9c_e82a44a18926row0_col4\" class=\"data row0 col4\" >#015482</td> \n",
       "        <td id=\"T_b67224a4_6d86_11e9_8d9c_e82a44a18926row0_col5\" class=\"data row0 col5\" >1</td> \n",
       "        <td id=\"T_b67224a4_6d86_11e9_8d9c_e82a44a18926row0_col6\" class=\"data row0 col6\" >2</td> \n",
       "    </tr>    <tr> \n",
       "        <th id=\"T_b67224a4_6d86_11e9_8d9c_e82a44a18926level0_row1\" class=\"row_heading level0 row1\" >1</th> \n",
       "        <td id=\"T_b67224a4_6d86_11e9_8d9c_e82a44a18926row1_col0\" class=\"data row1 col0\" >foo2</td> \n",
       "        <td id=\"T_b67224a4_6d86_11e9_8d9c_e82a44a18926row1_col1\" class=\"data row1 col1\" >foo20</td> \n",
       "        <td id=\"T_b67224a4_6d86_11e9_8d9c_e82a44a18926row1_col2\" class=\"data row1 col2\" >2</td> \n",
       "        <td id=\"T_b67224a4_6d86_11e9_8d9c_e82a44a18926row1_col3\" class=\"data row1 col3\" >False</td> \n",
       "        <td id=\"T_b67224a4_6d86_11e9_8d9c_e82a44a18926row1_col4\" class=\"data row1 col4\" >#9f0052</td> \n",
       "        <td id=\"T_b67224a4_6d86_11e9_8d9c_e82a44a18926row1_col5\" class=\"data row1 col5\" >2</td> \n",
       "        <td id=\"T_b67224a4_6d86_11e9_8d9c_e82a44a18926row1_col6\" class=\"data row1 col6\" >2</td> \n",
       "    </tr>    <tr> \n",
       "        <th id=\"T_b67224a4_6d86_11e9_8d9c_e82a44a18926level0_row2\" class=\"row_heading level0 row2\" >2</th> \n",
       "        <td id=\"T_b67224a4_6d86_11e9_8d9c_e82a44a18926row2_col0\" class=\"data row2 col0\" >foo5</td> \n",
       "        <td id=\"T_b67224a4_6d86_11e9_8d9c_e82a44a18926row2_col1\" class=\"data row2 col1\" >foo20</td> \n",
       "        <td id=\"T_b67224a4_6d86_11e9_8d9c_e82a44a18926row2_col2\" class=\"data row2 col2\" >3</td> \n",
       "        <td id=\"T_b67224a4_6d86_11e9_8d9c_e82a44a18926row2_col3\" class=\"data row2 col3\" >False</td> \n",
       "        <td id=\"T_b67224a4_6d86_11e9_8d9c_e82a44a18926row2_col4\" class=\"data row2 col4\" >#ffbe00</td> \n",
       "        <td id=\"T_b67224a4_6d86_11e9_8d9c_e82a44a18926row2_col5\" class=\"data row2 col5\" >3</td> \n",
       "        <td id=\"T_b67224a4_6d86_11e9_8d9c_e82a44a18926row2_col6\" class=\"data row2 col6\" >2</td> \n",
       "    </tr>    <tr> \n",
       "        <th id=\"T_b67224a4_6d86_11e9_8d9c_e82a44a18926level0_row3\" class=\"row_heading level0 row3\" >3</th> \n",
       "        <td id=\"T_b67224a4_6d86_11e9_8d9c_e82a44a18926row3_col0\" class=\"data row3 col0\" >feeeee</td> \n",
       "        <td id=\"T_b67224a4_6d86_11e9_8d9c_e82a44a18926row3_col1\" class=\"data row3 col1\" >foo20</td> \n",
       "        <td id=\"T_b67224a4_6d86_11e9_8d9c_e82a44a18926row3_col2\" class=\"data row3 col2\" >4</td> \n",
       "        <td id=\"T_b67224a4_6d86_11e9_8d9c_e82a44a18926row3_col3\" class=\"data row3 col3\" >True</td> \n",
       "        <td id=\"T_b67224a4_6d86_11e9_8d9c_e82a44a18926row3_col4\" class=\"data row3 col4\" >#728f02</td> \n",
       "        <td id=\"T_b67224a4_6d86_11e9_8d9c_e82a44a18926row3_col5\" class=\"data row3 col5\" >4</td> \n",
       "        <td id=\"T_b67224a4_6d86_11e9_8d9c_e82a44a18926row3_col6\" class=\"data row3 col6\" >5</td> \n",
       "    </tr></tbody> \n",
       "</table> "
      ],
      "text/plain": [
       "  surface series  order_surfaces  isBasement    color  id  value_0\n",
       "0     foo  foo20               1       False  #015482   1        2\n",
       "1    foo2  foo20               2       False  #9f0052   2        2\n",
       "2    foo5  foo20               3       False  #ffbe00   3        2\n",
       "3  feeeee  foo20               4        True  #728f02   4        5"
      ]
     },
     "execution_count": 26,
     "metadata": {},
     "output_type": "execute_result"
    }
   ],
   "source": [
    "surfaces.set_surfaces_values([2,2,2,5])"
   ]
  },
  {
   "cell_type": "code",
   "execution_count": 27,
   "metadata": {},
   "outputs": [
    {
     "data": {
      "text/html": [
       "<style  type=\"text/css\" >\n",
       "    #T_b68ec086_6d86_11e9_a478_e82a44a18926row0_col4 {\n",
       "            background-color:  #015482;\n",
       "        }    #T_b68ec086_6d86_11e9_a478_e82a44a18926row1_col4 {\n",
       "            background-color:  #9f0052;\n",
       "        }    #T_b68ec086_6d86_11e9_a478_e82a44a18926row2_col4 {\n",
       "            background-color:  #ffbe00;\n",
       "        }    #T_b68ec086_6d86_11e9_a478_e82a44a18926row3_col4 {\n",
       "            background-color:  #728f02;\n",
       "        }</style>  \n",
       "<table id=\"T_b68ec086_6d86_11e9_a478_e82a44a18926\" > \n",
       "<thead>    <tr> \n",
       "        <th class=\"blank level0\" ></th> \n",
       "        <th class=\"col_heading level0 col0\" >surface</th> \n",
       "        <th class=\"col_heading level0 col1\" >series</th> \n",
       "        <th class=\"col_heading level0 col2\" >order_surfaces</th> \n",
       "        <th class=\"col_heading level0 col3\" >isBasement</th> \n",
       "        <th class=\"col_heading level0 col4\" >color</th> \n",
       "        <th class=\"col_heading level0 col5\" >id</th> \n",
       "        <th class=\"col_heading level0 col6\" >value_0</th> \n",
       "    </tr></thead> \n",
       "<tbody>    <tr> \n",
       "        <th id=\"T_b68ec086_6d86_11e9_a478_e82a44a18926level0_row0\" class=\"row_heading level0 row0\" >0</th> \n",
       "        <td id=\"T_b68ec086_6d86_11e9_a478_e82a44a18926row0_col0\" class=\"data row0 col0\" >foo</td> \n",
       "        <td id=\"T_b68ec086_6d86_11e9_a478_e82a44a18926row0_col1\" class=\"data row0 col1\" >foo20</td> \n",
       "        <td id=\"T_b68ec086_6d86_11e9_a478_e82a44a18926row0_col2\" class=\"data row0 col2\" >1</td> \n",
       "        <td id=\"T_b68ec086_6d86_11e9_a478_e82a44a18926row0_col3\" class=\"data row0 col3\" >False</td> \n",
       "        <td id=\"T_b68ec086_6d86_11e9_a478_e82a44a18926row0_col4\" class=\"data row0 col4\" >#015482</td> \n",
       "        <td id=\"T_b68ec086_6d86_11e9_a478_e82a44a18926row0_col5\" class=\"data row0 col5\" >1</td> \n",
       "        <td id=\"T_b68ec086_6d86_11e9_a478_e82a44a18926row0_col6\" class=\"data row0 col6\" >2</td> \n",
       "    </tr>    <tr> \n",
       "        <th id=\"T_b68ec086_6d86_11e9_a478_e82a44a18926level0_row1\" class=\"row_heading level0 row1\" >1</th> \n",
       "        <td id=\"T_b68ec086_6d86_11e9_a478_e82a44a18926row1_col0\" class=\"data row1 col0\" >foo2</td> \n",
       "        <td id=\"T_b68ec086_6d86_11e9_a478_e82a44a18926row1_col1\" class=\"data row1 col1\" >foo20</td> \n",
       "        <td id=\"T_b68ec086_6d86_11e9_a478_e82a44a18926row1_col2\" class=\"data row1 col2\" >2</td> \n",
       "        <td id=\"T_b68ec086_6d86_11e9_a478_e82a44a18926row1_col3\" class=\"data row1 col3\" >False</td> \n",
       "        <td id=\"T_b68ec086_6d86_11e9_a478_e82a44a18926row1_col4\" class=\"data row1 col4\" >#9f0052</td> \n",
       "        <td id=\"T_b68ec086_6d86_11e9_a478_e82a44a18926row1_col5\" class=\"data row1 col5\" >2</td> \n",
       "        <td id=\"T_b68ec086_6d86_11e9_a478_e82a44a18926row1_col6\" class=\"data row1 col6\" >2</td> \n",
       "    </tr>    <tr> \n",
       "        <th id=\"T_b68ec086_6d86_11e9_a478_e82a44a18926level0_row2\" class=\"row_heading level0 row2\" >2</th> \n",
       "        <td id=\"T_b68ec086_6d86_11e9_a478_e82a44a18926row2_col0\" class=\"data row2 col0\" >foo5</td> \n",
       "        <td id=\"T_b68ec086_6d86_11e9_a478_e82a44a18926row2_col1\" class=\"data row2 col1\" >foo20</td> \n",
       "        <td id=\"T_b68ec086_6d86_11e9_a478_e82a44a18926row2_col2\" class=\"data row2 col2\" >3</td> \n",
       "        <td id=\"T_b68ec086_6d86_11e9_a478_e82a44a18926row2_col3\" class=\"data row2 col3\" >False</td> \n",
       "        <td id=\"T_b68ec086_6d86_11e9_a478_e82a44a18926row2_col4\" class=\"data row2 col4\" >#ffbe00</td> \n",
       "        <td id=\"T_b68ec086_6d86_11e9_a478_e82a44a18926row2_col5\" class=\"data row2 col5\" >3</td> \n",
       "        <td id=\"T_b68ec086_6d86_11e9_a478_e82a44a18926row2_col6\" class=\"data row2 col6\" >2</td> \n",
       "    </tr>    <tr> \n",
       "        <th id=\"T_b68ec086_6d86_11e9_a478_e82a44a18926level0_row3\" class=\"row_heading level0 row3\" >3</th> \n",
       "        <td id=\"T_b68ec086_6d86_11e9_a478_e82a44a18926row3_col0\" class=\"data row3 col0\" >feeeee</td> \n",
       "        <td id=\"T_b68ec086_6d86_11e9_a478_e82a44a18926row3_col1\" class=\"data row3 col1\" >foo20</td> \n",
       "        <td id=\"T_b68ec086_6d86_11e9_a478_e82a44a18926row3_col2\" class=\"data row3 col2\" >4</td> \n",
       "        <td id=\"T_b68ec086_6d86_11e9_a478_e82a44a18926row3_col3\" class=\"data row3 col3\" >True</td> \n",
       "        <td id=\"T_b68ec086_6d86_11e9_a478_e82a44a18926row3_col4\" class=\"data row3 col4\" >#728f02</td> \n",
       "        <td id=\"T_b68ec086_6d86_11e9_a478_e82a44a18926row3_col5\" class=\"data row3 col5\" >4</td> \n",
       "        <td id=\"T_b68ec086_6d86_11e9_a478_e82a44a18926row3_col6\" class=\"data row3 col6\" >5</td> \n",
       "    </tr></tbody> \n",
       "</table> "
      ],
      "text/plain": [
       "  surface series  order_surfaces  isBasement    color  id  value_0\n",
       "0     foo  foo20               1       False  #015482   1        2\n",
       "1    foo2  foo20               2       False  #9f0052   2        2\n",
       "2    foo5  foo20               3       False  #ffbe00   3        2\n",
       "3  feeeee  foo20               4        True  #728f02   4        5"
      ]
     },
     "execution_count": 27,
     "metadata": {},
     "output_type": "execute_result"
    }
   ],
   "source": [
    "surfaces"
   ]
  },
  {
   "cell_type": "markdown",
   "metadata": {},
   "source": [
    "#### Set values with a given name:\n",
    "\n",
    "We can give specific names to the properties (i.e. density)"
   ]
  },
  {
   "cell_type": "code",
   "execution_count": 28,
   "metadata": {},
   "outputs": [
    {
     "data": {
      "text/html": [
       "<style  type=\"text/css\" >\n",
       "    #T_b6b4e286_6d86_11e9_b831_e82a44a18926row0_col4 {\n",
       "            background-color:  #015482;\n",
       "        }    #T_b6b4e286_6d86_11e9_b831_e82a44a18926row1_col4 {\n",
       "            background-color:  #9f0052;\n",
       "        }    #T_b6b4e286_6d86_11e9_b831_e82a44a18926row2_col4 {\n",
       "            background-color:  #ffbe00;\n",
       "        }    #T_b6b4e286_6d86_11e9_b831_e82a44a18926row3_col4 {\n",
       "            background-color:  #728f02;\n",
       "        }</style>  \n",
       "<table id=\"T_b6b4e286_6d86_11e9_b831_e82a44a18926\" > \n",
       "<thead>    <tr> \n",
       "        <th class=\"blank level0\" ></th> \n",
       "        <th class=\"col_heading level0 col0\" >surface</th> \n",
       "        <th class=\"col_heading level0 col1\" >series</th> \n",
       "        <th class=\"col_heading level0 col2\" >order_surfaces</th> \n",
       "        <th class=\"col_heading level0 col3\" >isBasement</th> \n",
       "        <th class=\"col_heading level0 col4\" >color</th> \n",
       "        <th class=\"col_heading level0 col5\" >id</th> \n",
       "        <th class=\"col_heading level0 col6\" >value_0</th> \n",
       "        <th class=\"col_heading level0 col7\" >val_foo</th> \n",
       "        <th class=\"col_heading level0 col8\" >val2_foo</th> \n",
       "    </tr></thead> \n",
       "<tbody>    <tr> \n",
       "        <th id=\"T_b6b4e286_6d86_11e9_b831_e82a44a18926level0_row0\" class=\"row_heading level0 row0\" >0</th> \n",
       "        <td id=\"T_b6b4e286_6d86_11e9_b831_e82a44a18926row0_col0\" class=\"data row0 col0\" >foo</td> \n",
       "        <td id=\"T_b6b4e286_6d86_11e9_b831_e82a44a18926row0_col1\" class=\"data row0 col1\" >foo20</td> \n",
       "        <td id=\"T_b6b4e286_6d86_11e9_b831_e82a44a18926row0_col2\" class=\"data row0 col2\" >1</td> \n",
       "        <td id=\"T_b6b4e286_6d86_11e9_b831_e82a44a18926row0_col3\" class=\"data row0 col3\" >False</td> \n",
       "        <td id=\"T_b6b4e286_6d86_11e9_b831_e82a44a18926row0_col4\" class=\"data row0 col4\" >#015482</td> \n",
       "        <td id=\"T_b6b4e286_6d86_11e9_b831_e82a44a18926row0_col5\" class=\"data row0 col5\" >1</td> \n",
       "        <td id=\"T_b6b4e286_6d86_11e9_b831_e82a44a18926row0_col6\" class=\"data row0 col6\" >2</td> \n",
       "        <td id=\"T_b6b4e286_6d86_11e9_b831_e82a44a18926row0_col7\" class=\"data row0 col7\" >2</td> \n",
       "        <td id=\"T_b6b4e286_6d86_11e9_b831_e82a44a18926row0_col8\" class=\"data row0 col8\" >2</td> \n",
       "    </tr>    <tr> \n",
       "        <th id=\"T_b6b4e286_6d86_11e9_b831_e82a44a18926level0_row1\" class=\"row_heading level0 row1\" >1</th> \n",
       "        <td id=\"T_b6b4e286_6d86_11e9_b831_e82a44a18926row1_col0\" class=\"data row1 col0\" >foo2</td> \n",
       "        <td id=\"T_b6b4e286_6d86_11e9_b831_e82a44a18926row1_col1\" class=\"data row1 col1\" >foo20</td> \n",
       "        <td id=\"T_b6b4e286_6d86_11e9_b831_e82a44a18926row1_col2\" class=\"data row1 col2\" >2</td> \n",
       "        <td id=\"T_b6b4e286_6d86_11e9_b831_e82a44a18926row1_col3\" class=\"data row1 col3\" >False</td> \n",
       "        <td id=\"T_b6b4e286_6d86_11e9_b831_e82a44a18926row1_col4\" class=\"data row1 col4\" >#9f0052</td> \n",
       "        <td id=\"T_b6b4e286_6d86_11e9_b831_e82a44a18926row1_col5\" class=\"data row1 col5\" >2</td> \n",
       "        <td id=\"T_b6b4e286_6d86_11e9_b831_e82a44a18926row1_col6\" class=\"data row1 col6\" >2</td> \n",
       "        <td id=\"T_b6b4e286_6d86_11e9_b831_e82a44a18926row1_col7\" class=\"data row1 col7\" >2</td> \n",
       "        <td id=\"T_b6b4e286_6d86_11e9_b831_e82a44a18926row1_col8\" class=\"data row1 col8\" >2</td> \n",
       "    </tr>    <tr> \n",
       "        <th id=\"T_b6b4e286_6d86_11e9_b831_e82a44a18926level0_row2\" class=\"row_heading level0 row2\" >2</th> \n",
       "        <td id=\"T_b6b4e286_6d86_11e9_b831_e82a44a18926row2_col0\" class=\"data row2 col0\" >foo5</td> \n",
       "        <td id=\"T_b6b4e286_6d86_11e9_b831_e82a44a18926row2_col1\" class=\"data row2 col1\" >foo20</td> \n",
       "        <td id=\"T_b6b4e286_6d86_11e9_b831_e82a44a18926row2_col2\" class=\"data row2 col2\" >3</td> \n",
       "        <td id=\"T_b6b4e286_6d86_11e9_b831_e82a44a18926row2_col3\" class=\"data row2 col3\" >False</td> \n",
       "        <td id=\"T_b6b4e286_6d86_11e9_b831_e82a44a18926row2_col4\" class=\"data row2 col4\" >#ffbe00</td> \n",
       "        <td id=\"T_b6b4e286_6d86_11e9_b831_e82a44a18926row2_col5\" class=\"data row2 col5\" >3</td> \n",
       "        <td id=\"T_b6b4e286_6d86_11e9_b831_e82a44a18926row2_col6\" class=\"data row2 col6\" >2</td> \n",
       "        <td id=\"T_b6b4e286_6d86_11e9_b831_e82a44a18926row2_col7\" class=\"data row2 col7\" >2</td> \n",
       "        <td id=\"T_b6b4e286_6d86_11e9_b831_e82a44a18926row2_col8\" class=\"data row2 col8\" >1</td> \n",
       "    </tr>    <tr> \n",
       "        <th id=\"T_b6b4e286_6d86_11e9_b831_e82a44a18926level0_row3\" class=\"row_heading level0 row3\" >3</th> \n",
       "        <td id=\"T_b6b4e286_6d86_11e9_b831_e82a44a18926row3_col0\" class=\"data row3 col0\" >feeeee</td> \n",
       "        <td id=\"T_b6b4e286_6d86_11e9_b831_e82a44a18926row3_col1\" class=\"data row3 col1\" >foo20</td> \n",
       "        <td id=\"T_b6b4e286_6d86_11e9_b831_e82a44a18926row3_col2\" class=\"data row3 col2\" >4</td> \n",
       "        <td id=\"T_b6b4e286_6d86_11e9_b831_e82a44a18926row3_col3\" class=\"data row3 col3\" >True</td> \n",
       "        <td id=\"T_b6b4e286_6d86_11e9_b831_e82a44a18926row3_col4\" class=\"data row3 col4\" >#728f02</td> \n",
       "        <td id=\"T_b6b4e286_6d86_11e9_b831_e82a44a18926row3_col5\" class=\"data row3 col5\" >4</td> \n",
       "        <td id=\"T_b6b4e286_6d86_11e9_b831_e82a44a18926row3_col6\" class=\"data row3 col6\" >5</td> \n",
       "        <td id=\"T_b6b4e286_6d86_11e9_b831_e82a44a18926row3_col7\" class=\"data row3 col7\" >6</td> \n",
       "        <td id=\"T_b6b4e286_6d86_11e9_b831_e82a44a18926row3_col8\" class=\"data row3 col8\" >8</td> \n",
       "    </tr></tbody> \n",
       "</table> "
      ],
      "text/plain": [
       "  surface series  order_surfaces  isBasement    color  id  value_0  val_foo  val2_foo\n",
       "0     foo  foo20               1       False  #015482   1        2        2         2\n",
       "1    foo2  foo20               2       False  #9f0052   2        2        2         2\n",
       "2    foo5  foo20               3       False  #ffbe00   3        2        2         1\n",
       "3  feeeee  foo20               4        True  #728f02   4        5        6         8"
      ]
     },
     "execution_count": 28,
     "metadata": {},
     "output_type": "execute_result"
    }
   ],
   "source": [
    "surfaces.add_surfaces_values([[2,2,2,6], [2,2,1,8]], ['val_foo', 'val2_foo'])"
   ]
  },
  {
   "cell_type": "code",
   "execution_count": 29,
   "metadata": {
    "scrolled": false
   },
   "outputs": [
    {
     "data": {
      "text/html": [
       "<style  type=\"text/css\" >\n",
       "    #T_b6d642e2_6d86_11e9_ac47_e82a44a18926row0_col4 {\n",
       "            background-color:  #015482;\n",
       "        }    #T_b6d642e2_6d86_11e9_ac47_e82a44a18926row1_col4 {\n",
       "            background-color:  #9f0052;\n",
       "        }    #T_b6d642e2_6d86_11e9_ac47_e82a44a18926row2_col4 {\n",
       "            background-color:  #ffbe00;\n",
       "        }    #T_b6d642e2_6d86_11e9_ac47_e82a44a18926row3_col4 {\n",
       "            background-color:  #728f02;\n",
       "        }</style>  \n",
       "<table id=\"T_b6d642e2_6d86_11e9_ac47_e82a44a18926\" > \n",
       "<thead>    <tr> \n",
       "        <th class=\"blank level0\" ></th> \n",
       "        <th class=\"col_heading level0 col0\" >surface</th> \n",
       "        <th class=\"col_heading level0 col1\" >series</th> \n",
       "        <th class=\"col_heading level0 col2\" >order_surfaces</th> \n",
       "        <th class=\"col_heading level0 col3\" >isBasement</th> \n",
       "        <th class=\"col_heading level0 col4\" >color</th> \n",
       "        <th class=\"col_heading level0 col5\" >id</th> \n",
       "        <th class=\"col_heading level0 col6\" >value_0</th> \n",
       "        <th class=\"col_heading level0 col7\" >val_foo</th> \n",
       "        <th class=\"col_heading level0 col8\" >val2_foo</th> \n",
       "    </tr></thead> \n",
       "<tbody>    <tr> \n",
       "        <th id=\"T_b6d642e2_6d86_11e9_ac47_e82a44a18926level0_row0\" class=\"row_heading level0 row0\" >0</th> \n",
       "        <td id=\"T_b6d642e2_6d86_11e9_ac47_e82a44a18926row0_col0\" class=\"data row0 col0\" >foo</td> \n",
       "        <td id=\"T_b6d642e2_6d86_11e9_ac47_e82a44a18926row0_col1\" class=\"data row0 col1\" >foo20</td> \n",
       "        <td id=\"T_b6d642e2_6d86_11e9_ac47_e82a44a18926row0_col2\" class=\"data row0 col2\" >1</td> \n",
       "        <td id=\"T_b6d642e2_6d86_11e9_ac47_e82a44a18926row0_col3\" class=\"data row0 col3\" >False</td> \n",
       "        <td id=\"T_b6d642e2_6d86_11e9_ac47_e82a44a18926row0_col4\" class=\"data row0 col4\" >#015482</td> \n",
       "        <td id=\"T_b6d642e2_6d86_11e9_ac47_e82a44a18926row0_col5\" class=\"data row0 col5\" >1</td> \n",
       "        <td id=\"T_b6d642e2_6d86_11e9_ac47_e82a44a18926row0_col6\" class=\"data row0 col6\" >2</td> \n",
       "        <td id=\"T_b6d642e2_6d86_11e9_ac47_e82a44a18926row0_col7\" class=\"data row0 col7\" >2</td> \n",
       "        <td id=\"T_b6d642e2_6d86_11e9_ac47_e82a44a18926row0_col8\" class=\"data row0 col8\" >2</td> \n",
       "    </tr>    <tr> \n",
       "        <th id=\"T_b6d642e2_6d86_11e9_ac47_e82a44a18926level0_row1\" class=\"row_heading level0 row1\" >1</th> \n",
       "        <td id=\"T_b6d642e2_6d86_11e9_ac47_e82a44a18926row1_col0\" class=\"data row1 col0\" >foo2</td> \n",
       "        <td id=\"T_b6d642e2_6d86_11e9_ac47_e82a44a18926row1_col1\" class=\"data row1 col1\" >foo20</td> \n",
       "        <td id=\"T_b6d642e2_6d86_11e9_ac47_e82a44a18926row1_col2\" class=\"data row1 col2\" >2</td> \n",
       "        <td id=\"T_b6d642e2_6d86_11e9_ac47_e82a44a18926row1_col3\" class=\"data row1 col3\" >False</td> \n",
       "        <td id=\"T_b6d642e2_6d86_11e9_ac47_e82a44a18926row1_col4\" class=\"data row1 col4\" >#9f0052</td> \n",
       "        <td id=\"T_b6d642e2_6d86_11e9_ac47_e82a44a18926row1_col5\" class=\"data row1 col5\" >2</td> \n",
       "        <td id=\"T_b6d642e2_6d86_11e9_ac47_e82a44a18926row1_col6\" class=\"data row1 col6\" >2</td> \n",
       "        <td id=\"T_b6d642e2_6d86_11e9_ac47_e82a44a18926row1_col7\" class=\"data row1 col7\" >2</td> \n",
       "        <td id=\"T_b6d642e2_6d86_11e9_ac47_e82a44a18926row1_col8\" class=\"data row1 col8\" >2</td> \n",
       "    </tr>    <tr> \n",
       "        <th id=\"T_b6d642e2_6d86_11e9_ac47_e82a44a18926level0_row2\" class=\"row_heading level0 row2\" >2</th> \n",
       "        <td id=\"T_b6d642e2_6d86_11e9_ac47_e82a44a18926row2_col0\" class=\"data row2 col0\" >foo5</td> \n",
       "        <td id=\"T_b6d642e2_6d86_11e9_ac47_e82a44a18926row2_col1\" class=\"data row2 col1\" >foo20</td> \n",
       "        <td id=\"T_b6d642e2_6d86_11e9_ac47_e82a44a18926row2_col2\" class=\"data row2 col2\" >3</td> \n",
       "        <td id=\"T_b6d642e2_6d86_11e9_ac47_e82a44a18926row2_col3\" class=\"data row2 col3\" >False</td> \n",
       "        <td id=\"T_b6d642e2_6d86_11e9_ac47_e82a44a18926row2_col4\" class=\"data row2 col4\" >#ffbe00</td> \n",
       "        <td id=\"T_b6d642e2_6d86_11e9_ac47_e82a44a18926row2_col5\" class=\"data row2 col5\" >3</td> \n",
       "        <td id=\"T_b6d642e2_6d86_11e9_ac47_e82a44a18926row2_col6\" class=\"data row2 col6\" >2</td> \n",
       "        <td id=\"T_b6d642e2_6d86_11e9_ac47_e82a44a18926row2_col7\" class=\"data row2 col7\" >2</td> \n",
       "        <td id=\"T_b6d642e2_6d86_11e9_ac47_e82a44a18926row2_col8\" class=\"data row2 col8\" >1</td> \n",
       "    </tr>    <tr> \n",
       "        <th id=\"T_b6d642e2_6d86_11e9_ac47_e82a44a18926level0_row3\" class=\"row_heading level0 row3\" >3</th> \n",
       "        <td id=\"T_b6d642e2_6d86_11e9_ac47_e82a44a18926row3_col0\" class=\"data row3 col0\" >feeeee</td> \n",
       "        <td id=\"T_b6d642e2_6d86_11e9_ac47_e82a44a18926row3_col1\" class=\"data row3 col1\" >foo20</td> \n",
       "        <td id=\"T_b6d642e2_6d86_11e9_ac47_e82a44a18926row3_col2\" class=\"data row3 col2\" >4</td> \n",
       "        <td id=\"T_b6d642e2_6d86_11e9_ac47_e82a44a18926row3_col3\" class=\"data row3 col3\" >True</td> \n",
       "        <td id=\"T_b6d642e2_6d86_11e9_ac47_e82a44a18926row3_col4\" class=\"data row3 col4\" >#728f02</td> \n",
       "        <td id=\"T_b6d642e2_6d86_11e9_ac47_e82a44a18926row3_col5\" class=\"data row3 col5\" >4</td> \n",
       "        <td id=\"T_b6d642e2_6d86_11e9_ac47_e82a44a18926row3_col6\" class=\"data row3 col6\" >5</td> \n",
       "        <td id=\"T_b6d642e2_6d86_11e9_ac47_e82a44a18926row3_col7\" class=\"data row3 col7\" >6</td> \n",
       "        <td id=\"T_b6d642e2_6d86_11e9_ac47_e82a44a18926row3_col8\" class=\"data row3 col8\" >8</td> \n",
       "    </tr></tbody> \n",
       "</table> "
      ],
      "text/plain": [
       "  surface series  order_surfaces  isBasement    color  id  value_0  val_foo  val2_foo\n",
       "0     foo  foo20               1       False  #015482   1        2        2         2\n",
       "1    foo2  foo20               2       False  #9f0052   2        2        2         2\n",
       "2    foo5  foo20               3       False  #ffbe00   3        2        2         1\n",
       "3  feeeee  foo20               4        True  #728f02   4        5        6         8"
      ]
     },
     "execution_count": 29,
     "metadata": {},
     "output_type": "execute_result"
    }
   ],
   "source": [
    "surfaces"
   ]
  },
  {
   "cell_type": "markdown",
   "metadata": {},
   "source": [
    "### Delete formations values\n",
    "\n",
    "To delete a full propery:"
   ]
  },
  {
   "cell_type": "code",
   "execution_count": 30,
   "metadata": {},
   "outputs": [
    {
     "data": {
      "text/plain": [
       "True"
      ]
     },
     "execution_count": 30,
     "metadata": {},
     "output_type": "execute_result"
    }
   ],
   "source": [
    "surfaces.delete_surface_values(['val_foo', 'value_0'])"
   ]
  },
  {
   "cell_type": "markdown",
   "metadata": {},
   "source": [
    "#### One of the formations must be set be the basement:"
   ]
  },
  {
   "cell_type": "code",
   "execution_count": 31,
   "metadata": {},
   "outputs": [
    {
     "data": {
      "text/html": [
       "<style  type=\"text/css\" >\n",
       "    #T_b76c6c7a_6d86_11e9_8e3e_e82a44a18926row0_col4 {\n",
       "            background-color:  #015482;\n",
       "        }    #T_b76c6c7a_6d86_11e9_8e3e_e82a44a18926row1_col4 {\n",
       "            background-color:  #9f0052;\n",
       "        }    #T_b76c6c7a_6d86_11e9_8e3e_e82a44a18926row2_col4 {\n",
       "            background-color:  #ffbe00;\n",
       "        }    #T_b76c6c7a_6d86_11e9_8e3e_e82a44a18926row3_col4 {\n",
       "            background-color:  #728f02;\n",
       "        }</style>  \n",
       "<table id=\"T_b76c6c7a_6d86_11e9_8e3e_e82a44a18926\" > \n",
       "<thead>    <tr> \n",
       "        <th class=\"blank level0\" ></th> \n",
       "        <th class=\"col_heading level0 col0\" >surface</th> \n",
       "        <th class=\"col_heading level0 col1\" >series</th> \n",
       "        <th class=\"col_heading level0 col2\" >order_surfaces</th> \n",
       "        <th class=\"col_heading level0 col3\" >isBasement</th> \n",
       "        <th class=\"col_heading level0 col4\" >color</th> \n",
       "        <th class=\"col_heading level0 col5\" >id</th> \n",
       "        <th class=\"col_heading level0 col6\" >val2_foo</th> \n",
       "    </tr></thead> \n",
       "<tbody>    <tr> \n",
       "        <th id=\"T_b76c6c7a_6d86_11e9_8e3e_e82a44a18926level0_row0\" class=\"row_heading level0 row0\" >0</th> \n",
       "        <td id=\"T_b76c6c7a_6d86_11e9_8e3e_e82a44a18926row0_col0\" class=\"data row0 col0\" >foo</td> \n",
       "        <td id=\"T_b76c6c7a_6d86_11e9_8e3e_e82a44a18926row0_col1\" class=\"data row0 col1\" >foo20</td> \n",
       "        <td id=\"T_b76c6c7a_6d86_11e9_8e3e_e82a44a18926row0_col2\" class=\"data row0 col2\" >1</td> \n",
       "        <td id=\"T_b76c6c7a_6d86_11e9_8e3e_e82a44a18926row0_col3\" class=\"data row0 col3\" >False</td> \n",
       "        <td id=\"T_b76c6c7a_6d86_11e9_8e3e_e82a44a18926row0_col4\" class=\"data row0 col4\" >#015482</td> \n",
       "        <td id=\"T_b76c6c7a_6d86_11e9_8e3e_e82a44a18926row0_col5\" class=\"data row0 col5\" >1</td> \n",
       "        <td id=\"T_b76c6c7a_6d86_11e9_8e3e_e82a44a18926row0_col6\" class=\"data row0 col6\" >2</td> \n",
       "    </tr>    <tr> \n",
       "        <th id=\"T_b76c6c7a_6d86_11e9_8e3e_e82a44a18926level0_row1\" class=\"row_heading level0 row1\" >1</th> \n",
       "        <td id=\"T_b76c6c7a_6d86_11e9_8e3e_e82a44a18926row1_col0\" class=\"data row1 col0\" >foo2</td> \n",
       "        <td id=\"T_b76c6c7a_6d86_11e9_8e3e_e82a44a18926row1_col1\" class=\"data row1 col1\" >foo20</td> \n",
       "        <td id=\"T_b76c6c7a_6d86_11e9_8e3e_e82a44a18926row1_col2\" class=\"data row1 col2\" >2</td> \n",
       "        <td id=\"T_b76c6c7a_6d86_11e9_8e3e_e82a44a18926row1_col3\" class=\"data row1 col3\" >False</td> \n",
       "        <td id=\"T_b76c6c7a_6d86_11e9_8e3e_e82a44a18926row1_col4\" class=\"data row1 col4\" >#9f0052</td> \n",
       "        <td id=\"T_b76c6c7a_6d86_11e9_8e3e_e82a44a18926row1_col5\" class=\"data row1 col5\" >2</td> \n",
       "        <td id=\"T_b76c6c7a_6d86_11e9_8e3e_e82a44a18926row1_col6\" class=\"data row1 col6\" >2</td> \n",
       "    </tr>    <tr> \n",
       "        <th id=\"T_b76c6c7a_6d86_11e9_8e3e_e82a44a18926level0_row2\" class=\"row_heading level0 row2\" >2</th> \n",
       "        <td id=\"T_b76c6c7a_6d86_11e9_8e3e_e82a44a18926row2_col0\" class=\"data row2 col0\" >foo5</td> \n",
       "        <td id=\"T_b76c6c7a_6d86_11e9_8e3e_e82a44a18926row2_col1\" class=\"data row2 col1\" >foo20</td> \n",
       "        <td id=\"T_b76c6c7a_6d86_11e9_8e3e_e82a44a18926row2_col2\" class=\"data row2 col2\" >3</td> \n",
       "        <td id=\"T_b76c6c7a_6d86_11e9_8e3e_e82a44a18926row2_col3\" class=\"data row2 col3\" >False</td> \n",
       "        <td id=\"T_b76c6c7a_6d86_11e9_8e3e_e82a44a18926row2_col4\" class=\"data row2 col4\" >#ffbe00</td> \n",
       "        <td id=\"T_b76c6c7a_6d86_11e9_8e3e_e82a44a18926row2_col5\" class=\"data row2 col5\" >3</td> \n",
       "        <td id=\"T_b76c6c7a_6d86_11e9_8e3e_e82a44a18926row2_col6\" class=\"data row2 col6\" >1</td> \n",
       "    </tr>    <tr> \n",
       "        <th id=\"T_b76c6c7a_6d86_11e9_8e3e_e82a44a18926level0_row3\" class=\"row_heading level0 row3\" >3</th> \n",
       "        <td id=\"T_b76c6c7a_6d86_11e9_8e3e_e82a44a18926row3_col0\" class=\"data row3 col0\" >feeeee</td> \n",
       "        <td id=\"T_b76c6c7a_6d86_11e9_8e3e_e82a44a18926row3_col1\" class=\"data row3 col1\" >foo20</td> \n",
       "        <td id=\"T_b76c6c7a_6d86_11e9_8e3e_e82a44a18926row3_col2\" class=\"data row3 col2\" >4</td> \n",
       "        <td id=\"T_b76c6c7a_6d86_11e9_8e3e_e82a44a18926row3_col3\" class=\"data row3 col3\" >True</td> \n",
       "        <td id=\"T_b76c6c7a_6d86_11e9_8e3e_e82a44a18926row3_col4\" class=\"data row3 col4\" >#728f02</td> \n",
       "        <td id=\"T_b76c6c7a_6d86_11e9_8e3e_e82a44a18926row3_col5\" class=\"data row3 col5\" >4</td> \n",
       "        <td id=\"T_b76c6c7a_6d86_11e9_8e3e_e82a44a18926row3_col6\" class=\"data row3 col6\" >8</td> \n",
       "    </tr></tbody> \n",
       "</table> "
      ],
      "text/plain": [
       "  surface series  order_surfaces  isBasement    color  id  val2_foo\n",
       "0     foo  foo20               1       False  #015482   1         2\n",
       "1    foo2  foo20               2       False  #9f0052   2         2\n",
       "2    foo5  foo20               3       False  #ffbe00   3         1\n",
       "3  feeeee  foo20               4        True  #728f02   4         8"
      ]
     },
     "execution_count": 31,
     "metadata": {},
     "output_type": "execute_result"
    }
   ],
   "source": [
    "surfaces.set_basement()\n",
    "surfaces"
   ]
  },
  {
   "cell_type": "markdown",
   "metadata": {},
   "source": [
    "#### Set formation values\n",
    "\n",
    "We can also use set values instead adding. This will delete the previous properties and add the new one"
   ]
  },
  {
   "cell_type": "code",
   "execution_count": 32,
   "metadata": {
    "scrolled": true
   },
   "outputs": [
    {
     "data": {
      "text/html": [
       "<style  type=\"text/css\" >\n",
       "    #T_b8703eb0_6d86_11e9_a440_e82a44a18926row0_col4 {\n",
       "            background-color:  #015482;\n",
       "        }    #T_b8703eb0_6d86_11e9_a440_e82a44a18926row1_col4 {\n",
       "            background-color:  #9f0052;\n",
       "        }    #T_b8703eb0_6d86_11e9_a440_e82a44a18926row2_col4 {\n",
       "            background-color:  #ffbe00;\n",
       "        }    #T_b8703eb0_6d86_11e9_a440_e82a44a18926row3_col4 {\n",
       "            background-color:  #728f02;\n",
       "        }</style>  \n",
       "<table id=\"T_b8703eb0_6d86_11e9_a440_e82a44a18926\" > \n",
       "<thead>    <tr> \n",
       "        <th class=\"blank level0\" ></th> \n",
       "        <th class=\"col_heading level0 col0\" >surface</th> \n",
       "        <th class=\"col_heading level0 col1\" >series</th> \n",
       "        <th class=\"col_heading level0 col2\" >order_surfaces</th> \n",
       "        <th class=\"col_heading level0 col3\" >isBasement</th> \n",
       "        <th class=\"col_heading level0 col4\" >color</th> \n",
       "        <th class=\"col_heading level0 col5\" >id</th> \n",
       "        <th class=\"col_heading level0 col6\" >val_foo</th> \n",
       "        <th class=\"col_heading level0 col7\" >val2_foo</th> \n",
       "    </tr></thead> \n",
       "<tbody>    <tr> \n",
       "        <th id=\"T_b8703eb0_6d86_11e9_a440_e82a44a18926level0_row0\" class=\"row_heading level0 row0\" >0</th> \n",
       "        <td id=\"T_b8703eb0_6d86_11e9_a440_e82a44a18926row0_col0\" class=\"data row0 col0\" >foo</td> \n",
       "        <td id=\"T_b8703eb0_6d86_11e9_a440_e82a44a18926row0_col1\" class=\"data row0 col1\" >foo20</td> \n",
       "        <td id=\"T_b8703eb0_6d86_11e9_a440_e82a44a18926row0_col2\" class=\"data row0 col2\" >1</td> \n",
       "        <td id=\"T_b8703eb0_6d86_11e9_a440_e82a44a18926row0_col3\" class=\"data row0 col3\" >False</td> \n",
       "        <td id=\"T_b8703eb0_6d86_11e9_a440_e82a44a18926row0_col4\" class=\"data row0 col4\" >#015482</td> \n",
       "        <td id=\"T_b8703eb0_6d86_11e9_a440_e82a44a18926row0_col5\" class=\"data row0 col5\" >1</td> \n",
       "        <td id=\"T_b8703eb0_6d86_11e9_a440_e82a44a18926row0_col6\" class=\"data row0 col6\" >2</td> \n",
       "        <td id=\"T_b8703eb0_6d86_11e9_a440_e82a44a18926row0_col7\" class=\"data row0 col7\" >2</td> \n",
       "    </tr>    <tr> \n",
       "        <th id=\"T_b8703eb0_6d86_11e9_a440_e82a44a18926level0_row1\" class=\"row_heading level0 row1\" >1</th> \n",
       "        <td id=\"T_b8703eb0_6d86_11e9_a440_e82a44a18926row1_col0\" class=\"data row1 col0\" >foo2</td> \n",
       "        <td id=\"T_b8703eb0_6d86_11e9_a440_e82a44a18926row1_col1\" class=\"data row1 col1\" >foo20</td> \n",
       "        <td id=\"T_b8703eb0_6d86_11e9_a440_e82a44a18926row1_col2\" class=\"data row1 col2\" >2</td> \n",
       "        <td id=\"T_b8703eb0_6d86_11e9_a440_e82a44a18926row1_col3\" class=\"data row1 col3\" >False</td> \n",
       "        <td id=\"T_b8703eb0_6d86_11e9_a440_e82a44a18926row1_col4\" class=\"data row1 col4\" >#9f0052</td> \n",
       "        <td id=\"T_b8703eb0_6d86_11e9_a440_e82a44a18926row1_col5\" class=\"data row1 col5\" >2</td> \n",
       "        <td id=\"T_b8703eb0_6d86_11e9_a440_e82a44a18926row1_col6\" class=\"data row1 col6\" >2</td> \n",
       "        <td id=\"T_b8703eb0_6d86_11e9_a440_e82a44a18926row1_col7\" class=\"data row1 col7\" >2</td> \n",
       "    </tr>    <tr> \n",
       "        <th id=\"T_b8703eb0_6d86_11e9_a440_e82a44a18926level0_row2\" class=\"row_heading level0 row2\" >2</th> \n",
       "        <td id=\"T_b8703eb0_6d86_11e9_a440_e82a44a18926row2_col0\" class=\"data row2 col0\" >foo5</td> \n",
       "        <td id=\"T_b8703eb0_6d86_11e9_a440_e82a44a18926row2_col1\" class=\"data row2 col1\" >foo20</td> \n",
       "        <td id=\"T_b8703eb0_6d86_11e9_a440_e82a44a18926row2_col2\" class=\"data row2 col2\" >3</td> \n",
       "        <td id=\"T_b8703eb0_6d86_11e9_a440_e82a44a18926row2_col3\" class=\"data row2 col3\" >False</td> \n",
       "        <td id=\"T_b8703eb0_6d86_11e9_a440_e82a44a18926row2_col4\" class=\"data row2 col4\" >#ffbe00</td> \n",
       "        <td id=\"T_b8703eb0_6d86_11e9_a440_e82a44a18926row2_col5\" class=\"data row2 col5\" >3</td> \n",
       "        <td id=\"T_b8703eb0_6d86_11e9_a440_e82a44a18926row2_col6\" class=\"data row2 col6\" >2</td> \n",
       "        <td id=\"T_b8703eb0_6d86_11e9_a440_e82a44a18926row2_col7\" class=\"data row2 col7\" >1</td> \n",
       "    </tr>    <tr> \n",
       "        <th id=\"T_b8703eb0_6d86_11e9_a440_e82a44a18926level0_row3\" class=\"row_heading level0 row3\" >3</th> \n",
       "        <td id=\"T_b8703eb0_6d86_11e9_a440_e82a44a18926row3_col0\" class=\"data row3 col0\" >feeeee</td> \n",
       "        <td id=\"T_b8703eb0_6d86_11e9_a440_e82a44a18926row3_col1\" class=\"data row3 col1\" >foo20</td> \n",
       "        <td id=\"T_b8703eb0_6d86_11e9_a440_e82a44a18926row3_col2\" class=\"data row3 col2\" >4</td> \n",
       "        <td id=\"T_b8703eb0_6d86_11e9_a440_e82a44a18926row3_col3\" class=\"data row3 col3\" >True</td> \n",
       "        <td id=\"T_b8703eb0_6d86_11e9_a440_e82a44a18926row3_col4\" class=\"data row3 col4\" >#728f02</td> \n",
       "        <td id=\"T_b8703eb0_6d86_11e9_a440_e82a44a18926row3_col5\" class=\"data row3 col5\" >4</td> \n",
       "        <td id=\"T_b8703eb0_6d86_11e9_a440_e82a44a18926row3_col6\" class=\"data row3 col6\" >6</td> \n",
       "        <td id=\"T_b8703eb0_6d86_11e9_a440_e82a44a18926row3_col7\" class=\"data row3 col7\" >8</td> \n",
       "    </tr></tbody> \n",
       "</table> "
      ],
      "text/plain": [
       "  surface series  order_surfaces  isBasement    color  id  val_foo  val2_foo\n",
       "0     foo  foo20               1       False  #015482   1        2         2\n",
       "1    foo2  foo20               2       False  #9f0052   2        2         2\n",
       "2    foo5  foo20               3       False  #ffbe00   3        2         1\n",
       "3  feeeee  foo20               4        True  #728f02   4        6         8"
      ]
     },
     "execution_count": 32,
     "metadata": {},
     "output_type": "execute_result"
    }
   ],
   "source": [
    "surfaces.set_surfaces_values([[2,2,2,6], [2,2,1,8]], ['val_foo', 'val2_foo'])\n",
    "surfaces"
   ]
  },
  {
   "cell_type": "markdown",
   "metadata": {},
   "source": [
    "The last property is the correspondant series that each formation belong to. `series` and `formation` are pandas categories. To get a overview of what this mean check https://pandas.pydata.org/pandas-docs/stable/categorical.html."
   ]
  },
  {
   "cell_type": "code",
   "execution_count": 33,
   "metadata": {},
   "outputs": [
    {
     "data": {
      "text/plain": [
       "0    foo20\n",
       "1    foo20\n",
       "2    foo20\n",
       "3    foo20\n",
       "Name: series, dtype: category\n",
       "Categories (5, object): [foo2, boo, foo7, foo5, foo20]"
      ]
     },
     "execution_count": 33,
     "metadata": {},
     "output_type": "execute_result"
    }
   ],
   "source": [
    "surfaces.df['series']"
   ]
  },
  {
   "cell_type": "code",
   "execution_count": 34,
   "metadata": {},
   "outputs": [
    {
     "data": {
      "text/plain": [
       "0       foo\n",
       "1      foo2\n",
       "2      foo5\n",
       "3    feeeee\n",
       "Name: surface, dtype: object"
      ]
     },
     "execution_count": 34,
     "metadata": {},
     "output_type": "execute_result"
    }
   ],
   "source": [
    "surfaces.df['surface']"
   ]
  },
  {
   "cell_type": "markdown",
   "metadata": {},
   "source": [
    "### Map series to formation"
   ]
  },
  {
   "cell_type": "markdown",
   "metadata": {},
   "source": [
    "To map a series to a formation we can do it by passing a dict:"
   ]
  },
  {
   "cell_type": "code",
   "execution_count": 35,
   "metadata": {},
   "outputs": [
    {
     "data": {
      "text/html": [
       "<style  type=\"text/css\" >\n",
       "    #T_bc22b0a4_6d86_11e9_a7c7_e82a44a18926row0_col4 {\n",
       "            background-color:  #015482;\n",
       "        }    #T_bc22b0a4_6d86_11e9_a7c7_e82a44a18926row1_col4 {\n",
       "            background-color:  #9f0052;\n",
       "        }    #T_bc22b0a4_6d86_11e9_a7c7_e82a44a18926row2_col4 {\n",
       "            background-color:  #ffbe00;\n",
       "        }    #T_bc22b0a4_6d86_11e9_a7c7_e82a44a18926row3_col4 {\n",
       "            background-color:  #728f02;\n",
       "        }</style>  \n",
       "<table id=\"T_bc22b0a4_6d86_11e9_a7c7_e82a44a18926\" > \n",
       "<thead>    <tr> \n",
       "        <th class=\"blank level0\" ></th> \n",
       "        <th class=\"col_heading level0 col0\" >surface</th> \n",
       "        <th class=\"col_heading level0 col1\" >series</th> \n",
       "        <th class=\"col_heading level0 col2\" >order_surfaces</th> \n",
       "        <th class=\"col_heading level0 col3\" >isBasement</th> \n",
       "        <th class=\"col_heading level0 col4\" >color</th> \n",
       "        <th class=\"col_heading level0 col5\" >id</th> \n",
       "        <th class=\"col_heading level0 col6\" >val_foo</th> \n",
       "        <th class=\"col_heading level0 col7\" >val2_foo</th> \n",
       "    </tr></thead> \n",
       "<tbody>    <tr> \n",
       "        <th id=\"T_bc22b0a4_6d86_11e9_a7c7_e82a44a18926level0_row0\" class=\"row_heading level0 row0\" >0</th> \n",
       "        <td id=\"T_bc22b0a4_6d86_11e9_a7c7_e82a44a18926row0_col0\" class=\"data row0 col0\" >foo</td> \n",
       "        <td id=\"T_bc22b0a4_6d86_11e9_a7c7_e82a44a18926row0_col1\" class=\"data row0 col1\" >foo20</td> \n",
       "        <td id=\"T_bc22b0a4_6d86_11e9_a7c7_e82a44a18926row0_col2\" class=\"data row0 col2\" >1</td> \n",
       "        <td id=\"T_bc22b0a4_6d86_11e9_a7c7_e82a44a18926row0_col3\" class=\"data row0 col3\" >False</td> \n",
       "        <td id=\"T_bc22b0a4_6d86_11e9_a7c7_e82a44a18926row0_col4\" class=\"data row0 col4\" >#015482</td> \n",
       "        <td id=\"T_bc22b0a4_6d86_11e9_a7c7_e82a44a18926row0_col5\" class=\"data row0 col5\" >1</td> \n",
       "        <td id=\"T_bc22b0a4_6d86_11e9_a7c7_e82a44a18926row0_col6\" class=\"data row0 col6\" >2</td> \n",
       "        <td id=\"T_bc22b0a4_6d86_11e9_a7c7_e82a44a18926row0_col7\" class=\"data row0 col7\" >2</td> \n",
       "    </tr>    <tr> \n",
       "        <th id=\"T_bc22b0a4_6d86_11e9_a7c7_e82a44a18926level0_row1\" class=\"row_heading level0 row1\" >1</th> \n",
       "        <td id=\"T_bc22b0a4_6d86_11e9_a7c7_e82a44a18926row1_col0\" class=\"data row1 col0\" >foo2</td> \n",
       "        <td id=\"T_bc22b0a4_6d86_11e9_a7c7_e82a44a18926row1_col1\" class=\"data row1 col1\" >foo20</td> \n",
       "        <td id=\"T_bc22b0a4_6d86_11e9_a7c7_e82a44a18926row1_col2\" class=\"data row1 col2\" >2</td> \n",
       "        <td id=\"T_bc22b0a4_6d86_11e9_a7c7_e82a44a18926row1_col3\" class=\"data row1 col3\" >False</td> \n",
       "        <td id=\"T_bc22b0a4_6d86_11e9_a7c7_e82a44a18926row1_col4\" class=\"data row1 col4\" >#9f0052</td> \n",
       "        <td id=\"T_bc22b0a4_6d86_11e9_a7c7_e82a44a18926row1_col5\" class=\"data row1 col5\" >2</td> \n",
       "        <td id=\"T_bc22b0a4_6d86_11e9_a7c7_e82a44a18926row1_col6\" class=\"data row1 col6\" >2</td> \n",
       "        <td id=\"T_bc22b0a4_6d86_11e9_a7c7_e82a44a18926row1_col7\" class=\"data row1 col7\" >2</td> \n",
       "    </tr>    <tr> \n",
       "        <th id=\"T_bc22b0a4_6d86_11e9_a7c7_e82a44a18926level0_row2\" class=\"row_heading level0 row2\" >2</th> \n",
       "        <td id=\"T_bc22b0a4_6d86_11e9_a7c7_e82a44a18926row2_col0\" class=\"data row2 col0\" >foo5</td> \n",
       "        <td id=\"T_bc22b0a4_6d86_11e9_a7c7_e82a44a18926row2_col1\" class=\"data row2 col1\" >foo20</td> \n",
       "        <td id=\"T_bc22b0a4_6d86_11e9_a7c7_e82a44a18926row2_col2\" class=\"data row2 col2\" >3</td> \n",
       "        <td id=\"T_bc22b0a4_6d86_11e9_a7c7_e82a44a18926row2_col3\" class=\"data row2 col3\" >False</td> \n",
       "        <td id=\"T_bc22b0a4_6d86_11e9_a7c7_e82a44a18926row2_col4\" class=\"data row2 col4\" >#ffbe00</td> \n",
       "        <td id=\"T_bc22b0a4_6d86_11e9_a7c7_e82a44a18926row2_col5\" class=\"data row2 col5\" >3</td> \n",
       "        <td id=\"T_bc22b0a4_6d86_11e9_a7c7_e82a44a18926row2_col6\" class=\"data row2 col6\" >2</td> \n",
       "        <td id=\"T_bc22b0a4_6d86_11e9_a7c7_e82a44a18926row2_col7\" class=\"data row2 col7\" >1</td> \n",
       "    </tr>    <tr> \n",
       "        <th id=\"T_bc22b0a4_6d86_11e9_a7c7_e82a44a18926level0_row3\" class=\"row_heading level0 row3\" >3</th> \n",
       "        <td id=\"T_bc22b0a4_6d86_11e9_a7c7_e82a44a18926row3_col0\" class=\"data row3 col0\" >feeeee</td> \n",
       "        <td id=\"T_bc22b0a4_6d86_11e9_a7c7_e82a44a18926row3_col1\" class=\"data row3 col1\" >foo20</td> \n",
       "        <td id=\"T_bc22b0a4_6d86_11e9_a7c7_e82a44a18926row3_col2\" class=\"data row3 col2\" >4</td> \n",
       "        <td id=\"T_bc22b0a4_6d86_11e9_a7c7_e82a44a18926row3_col3\" class=\"data row3 col3\" >True</td> \n",
       "        <td id=\"T_bc22b0a4_6d86_11e9_a7c7_e82a44a18926row3_col4\" class=\"data row3 col4\" >#728f02</td> \n",
       "        <td id=\"T_bc22b0a4_6d86_11e9_a7c7_e82a44a18926row3_col5\" class=\"data row3 col5\" >4</td> \n",
       "        <td id=\"T_bc22b0a4_6d86_11e9_a7c7_e82a44a18926row3_col6\" class=\"data row3 col6\" >6</td> \n",
       "        <td id=\"T_bc22b0a4_6d86_11e9_a7c7_e82a44a18926row3_col7\" class=\"data row3 col7\" >8</td> \n",
       "    </tr></tbody> \n",
       "</table> "
      ],
      "text/plain": [
       "  surface series  order_surfaces  isBasement    color  id  val_foo  val2_foo\n",
       "0     foo  foo20               1       False  #015482   1        2         2\n",
       "1    foo2  foo20               2       False  #9f0052   2        2         2\n",
       "2    foo5  foo20               3       False  #ffbe00   3        2         1\n",
       "3  feeeee  foo20               4        True  #728f02   4        6         8"
      ]
     },
     "execution_count": 35,
     "metadata": {},
     "output_type": "execute_result"
    }
   ],
   "source": [
    "surfaces"
   ]
  },
  {
   "cell_type": "code",
   "execution_count": 36,
   "metadata": {},
   "outputs": [
    {
     "data": {
      "text/html": [
       "<table border=\"1\" class=\"dataframe\">\n",
       "  <thead>\n",
       "    <tr style=\"text-align: right;\">\n",
       "      <th></th>\n",
       "      <th>order_series</th>\n",
       "      <th>BottomRelation</th>\n",
       "    </tr>\n",
       "  </thead>\n",
       "  <tbody>\n",
       "    <tr>\n",
       "      <th>foo2</th>\n",
       "      <td>1</td>\n",
       "      <td>Erosion</td>\n",
       "    </tr>\n",
       "    <tr>\n",
       "      <th>boo</th>\n",
       "      <td>2</td>\n",
       "      <td>Erosion</td>\n",
       "    </tr>\n",
       "    <tr>\n",
       "      <th>foo7</th>\n",
       "      <td>3</td>\n",
       "      <td>Erosion</td>\n",
       "    </tr>\n",
       "    <tr>\n",
       "      <th>foo5</th>\n",
       "      <td>4</td>\n",
       "      <td>Erosion</td>\n",
       "    </tr>\n",
       "    <tr>\n",
       "      <th>foo20</th>\n",
       "      <td>5</td>\n",
       "      <td>Erosion</td>\n",
       "    </tr>\n",
       "  </tbody>\n",
       "</table>"
      ],
      "text/plain": [
       "       order_series BottomRelation\n",
       "foo2              1        Erosion\n",
       "boo               2        Erosion\n",
       "foo7              3        Erosion\n",
       "foo5              4        Erosion\n",
       "foo20             5        Erosion"
      ]
     },
     "execution_count": 36,
     "metadata": {},
     "output_type": "execute_result"
    }
   ],
   "source": [
    "series"
   ]
  },
  {
   "cell_type": "markdown",
   "metadata": {},
   "source": [
    "If a series does not exist in the `Series` object, we rise a warning and we set those formations to nans"
   ]
  },
  {
   "cell_type": "code",
   "execution_count": 37,
   "metadata": {},
   "outputs": [],
   "source": [
    "d =  {\"foo7\":'foo', \"booX\": ('foo2','foo5', 'fee')}"
   ]
  },
  {
   "cell_type": "code",
   "execution_count": 38,
   "metadata": {},
   "outputs": [],
   "source": [
    "surfaces.map_series(d)"
   ]
  },
  {
   "cell_type": "code",
   "execution_count": 39,
   "metadata": {},
   "outputs": [],
   "source": [
    "surfaces.map_series({\"foo7\":'foo', \"boo\": ('foo2','foo5', 'fee')})"
   ]
  },
  {
   "cell_type": "code",
   "execution_count": 40,
   "metadata": {},
   "outputs": [
    {
     "data": {
      "text/html": [
       "<style  type=\"text/css\" >\n",
       "    #T_2cd7761a_6c23_11e9_bafd_13598be69376row0_col4 {\n",
       "            background-color:  #9f0052;\n",
       "        }    #T_2cd7761a_6c23_11e9_bafd_13598be69376row1_col4 {\n",
       "            background-color:  #ffbe00;\n",
       "        }    #T_2cd7761a_6c23_11e9_bafd_13598be69376row2_col4 {\n",
       "            background-color:  #015482;\n",
       "        }    #T_2cd7761a_6c23_11e9_bafd_13598be69376row3_col4 {\n",
       "            background-color:  #728f02;\n",
       "        }</style>  \n",
       "<table id=\"T_2cd7761a_6c23_11e9_bafd_13598be69376\" > \n",
       "<thead>    <tr> \n",
       "        <th class=\"blank level0\" ></th> \n",
       "        <th class=\"col_heading level0 col0\" >surface</th> \n",
       "        <th class=\"col_heading level0 col1\" >series</th> \n",
       "        <th class=\"col_heading level0 col2\" >order_surfaces</th> \n",
       "        <th class=\"col_heading level0 col3\" >isBasement</th> \n",
       "        <th class=\"col_heading level0 col4\" >color</th> \n",
       "        <th class=\"col_heading level0 col5\" >id</th> \n",
       "        <th class=\"col_heading level0 col6\" >val_foo</th> \n",
       "        <th class=\"col_heading level0 col7\" >val2_foo</th> \n",
       "    </tr></thead> \n",
       "<tbody>    <tr> \n",
       "        <th id=\"T_2cd7761a_6c23_11e9_bafd_13598be69376level0_row0\" class=\"row_heading level0 row0\" >1</th> \n",
       "        <td id=\"T_2cd7761a_6c23_11e9_bafd_13598be69376row0_col0\" class=\"data row0 col0\" >foo2</td> \n",
       "        <td id=\"T_2cd7761a_6c23_11e9_bafd_13598be69376row0_col1\" class=\"data row0 col1\" >boo</td> \n",
       "        <td id=\"T_2cd7761a_6c23_11e9_bafd_13598be69376row0_col2\" class=\"data row0 col2\" >1</td> \n",
       "        <td id=\"T_2cd7761a_6c23_11e9_bafd_13598be69376row0_col3\" class=\"data row0 col3\" >False</td> \n",
       "        <td id=\"T_2cd7761a_6c23_11e9_bafd_13598be69376row0_col4\" class=\"data row0 col4\" >#9f0052</td> \n",
       "        <td id=\"T_2cd7761a_6c23_11e9_bafd_13598be69376row0_col5\" class=\"data row0 col5\" >1</td> \n",
       "        <td id=\"T_2cd7761a_6c23_11e9_bafd_13598be69376row0_col6\" class=\"data row0 col6\" >2</td> \n",
       "        <td id=\"T_2cd7761a_6c23_11e9_bafd_13598be69376row0_col7\" class=\"data row0 col7\" >2</td> \n",
       "    </tr>    <tr> \n",
       "        <th id=\"T_2cd7761a_6c23_11e9_bafd_13598be69376level0_row1\" class=\"row_heading level0 row1\" >2</th> \n",
       "        <td id=\"T_2cd7761a_6c23_11e9_bafd_13598be69376row1_col0\" class=\"data row1 col0\" >foo5</td> \n",
       "        <td id=\"T_2cd7761a_6c23_11e9_bafd_13598be69376row1_col1\" class=\"data row1 col1\" >boo</td> \n",
       "        <td id=\"T_2cd7761a_6c23_11e9_bafd_13598be69376row1_col2\" class=\"data row1 col2\" >2</td> \n",
       "        <td id=\"T_2cd7761a_6c23_11e9_bafd_13598be69376row1_col3\" class=\"data row1 col3\" >False</td> \n",
       "        <td id=\"T_2cd7761a_6c23_11e9_bafd_13598be69376row1_col4\" class=\"data row1 col4\" >#ffbe00</td> \n",
       "        <td id=\"T_2cd7761a_6c23_11e9_bafd_13598be69376row1_col5\" class=\"data row1 col5\" >2</td> \n",
       "        <td id=\"T_2cd7761a_6c23_11e9_bafd_13598be69376row1_col6\" class=\"data row1 col6\" >2</td> \n",
       "        <td id=\"T_2cd7761a_6c23_11e9_bafd_13598be69376row1_col7\" class=\"data row1 col7\" >1</td> \n",
       "    </tr>    <tr> \n",
       "        <th id=\"T_2cd7761a_6c23_11e9_bafd_13598be69376level0_row2\" class=\"row_heading level0 row2\" >0</th> \n",
       "        <td id=\"T_2cd7761a_6c23_11e9_bafd_13598be69376row2_col0\" class=\"data row2 col0\" >foo</td> \n",
       "        <td id=\"T_2cd7761a_6c23_11e9_bafd_13598be69376row2_col1\" class=\"data row2 col1\" >foo7</td> \n",
       "        <td id=\"T_2cd7761a_6c23_11e9_bafd_13598be69376row2_col2\" class=\"data row2 col2\" >1</td> \n",
       "        <td id=\"T_2cd7761a_6c23_11e9_bafd_13598be69376row2_col3\" class=\"data row2 col3\" >False</td> \n",
       "        <td id=\"T_2cd7761a_6c23_11e9_bafd_13598be69376row2_col4\" class=\"data row2 col4\" >#015482</td> \n",
       "        <td id=\"T_2cd7761a_6c23_11e9_bafd_13598be69376row2_col5\" class=\"data row2 col5\" >3</td> \n",
       "        <td id=\"T_2cd7761a_6c23_11e9_bafd_13598be69376row2_col6\" class=\"data row2 col6\" >2</td> \n",
       "        <td id=\"T_2cd7761a_6c23_11e9_bafd_13598be69376row2_col7\" class=\"data row2 col7\" >2</td> \n",
       "    </tr>    <tr> \n",
       "        <th id=\"T_2cd7761a_6c23_11e9_bafd_13598be69376level0_row3\" class=\"row_heading level0 row3\" >3</th> \n",
       "        <td id=\"T_2cd7761a_6c23_11e9_bafd_13598be69376row3_col0\" class=\"data row3 col0\" >feeeee</td> \n",
       "        <td id=\"T_2cd7761a_6c23_11e9_bafd_13598be69376row3_col1\" class=\"data row3 col1\" >foo20</td> \n",
       "        <td id=\"T_2cd7761a_6c23_11e9_bafd_13598be69376row3_col2\" class=\"data row3 col2\" >1</td> \n",
       "        <td id=\"T_2cd7761a_6c23_11e9_bafd_13598be69376row3_col3\" class=\"data row3 col3\" >True</td> \n",
       "        <td id=\"T_2cd7761a_6c23_11e9_bafd_13598be69376row3_col4\" class=\"data row3 col4\" >#728f02</td> \n",
       "        <td id=\"T_2cd7761a_6c23_11e9_bafd_13598be69376row3_col5\" class=\"data row3 col5\" >4</td> \n",
       "        <td id=\"T_2cd7761a_6c23_11e9_bafd_13598be69376row3_col6\" class=\"data row3 col6\" >6</td> \n",
       "        <td id=\"T_2cd7761a_6c23_11e9_bafd_13598be69376row3_col7\" class=\"data row3 col7\" >8</td> \n",
       "    </tr></tbody> \n",
       "</table> "
      ],
      "text/plain": [
       "  surface series  order_surfaces  isBasement    color  id  val_foo  val2_foo\n",
       "1    foo2    boo               1       False  #9f0052   1        2         2\n",
       "2    foo5    boo               2       False  #ffbe00   2        2         1\n",
       "0     foo   foo7               1       False  #015482   3        2         2\n",
       "3  feeeee  foo20               1        True  #728f02   4        6         8"
      ]
     },
     "execution_count": 40,
     "metadata": {},
     "output_type": "execute_result"
    }
   ],
   "source": [
    "surfaces"
   ]
  },
  {
   "cell_type": "markdown",
   "metadata": {},
   "source": [
    "An advantage of categories is that they are order so no we can tidy the df by series and formation"
   ]
  },
  {
   "cell_type": "markdown",
   "metadata": {},
   "source": [
    "### Modify formation name"
   ]
  },
  {
   "cell_type": "code",
   "execution_count": 41,
   "metadata": {},
   "outputs": [
    {
     "data": {
      "text/plain": [
       "True"
      ]
     },
     "execution_count": 41,
     "metadata": {},
     "output_type": "execute_result"
    }
   ],
   "source": [
    "surfaces.rename_surfaces({'foo2':'lala'})"
   ]
  },
  {
   "cell_type": "code",
   "execution_count": 42,
   "metadata": {
    "scrolled": true
   },
   "outputs": [
    {
     "data": {
      "text/html": [
       "<style  type=\"text/css\" >\n",
       "    #T_2cdaf7b8_6c23_11e9_bafd_13598be69376row0_col4 {\n",
       "            background-color:  #9f0052;\n",
       "        }    #T_2cdaf7b8_6c23_11e9_bafd_13598be69376row1_col4 {\n",
       "            background-color:  #ffbe00;\n",
       "        }    #T_2cdaf7b8_6c23_11e9_bafd_13598be69376row2_col4 {\n",
       "            background-color:  #015482;\n",
       "        }    #T_2cdaf7b8_6c23_11e9_bafd_13598be69376row3_col4 {\n",
       "            background-color:  #728f02;\n",
       "        }</style>  \n",
       "<table id=\"T_2cdaf7b8_6c23_11e9_bafd_13598be69376\" > \n",
       "<thead>    <tr> \n",
       "        <th class=\"blank level0\" ></th> \n",
       "        <th class=\"col_heading level0 col0\" >surface</th> \n",
       "        <th class=\"col_heading level0 col1\" >series</th> \n",
       "        <th class=\"col_heading level0 col2\" >order_surfaces</th> \n",
       "        <th class=\"col_heading level0 col3\" >isBasement</th> \n",
       "        <th class=\"col_heading level0 col4\" >color</th> \n",
       "        <th class=\"col_heading level0 col5\" >id</th> \n",
       "        <th class=\"col_heading level0 col6\" >val_foo</th> \n",
       "        <th class=\"col_heading level0 col7\" >val2_foo</th> \n",
       "    </tr></thead> \n",
       "<tbody>    <tr> \n",
       "        <th id=\"T_2cdaf7b8_6c23_11e9_bafd_13598be69376level0_row0\" class=\"row_heading level0 row0\" >1</th> \n",
       "        <td id=\"T_2cdaf7b8_6c23_11e9_bafd_13598be69376row0_col0\" class=\"data row0 col0\" >lala</td> \n",
       "        <td id=\"T_2cdaf7b8_6c23_11e9_bafd_13598be69376row0_col1\" class=\"data row0 col1\" >boo</td> \n",
       "        <td id=\"T_2cdaf7b8_6c23_11e9_bafd_13598be69376row0_col2\" class=\"data row0 col2\" >1</td> \n",
       "        <td id=\"T_2cdaf7b8_6c23_11e9_bafd_13598be69376row0_col3\" class=\"data row0 col3\" >False</td> \n",
       "        <td id=\"T_2cdaf7b8_6c23_11e9_bafd_13598be69376row0_col4\" class=\"data row0 col4\" >#9f0052</td> \n",
       "        <td id=\"T_2cdaf7b8_6c23_11e9_bafd_13598be69376row0_col5\" class=\"data row0 col5\" >1</td> \n",
       "        <td id=\"T_2cdaf7b8_6c23_11e9_bafd_13598be69376row0_col6\" class=\"data row0 col6\" >2</td> \n",
       "        <td id=\"T_2cdaf7b8_6c23_11e9_bafd_13598be69376row0_col7\" class=\"data row0 col7\" >2</td> \n",
       "    </tr>    <tr> \n",
       "        <th id=\"T_2cdaf7b8_6c23_11e9_bafd_13598be69376level0_row1\" class=\"row_heading level0 row1\" >2</th> \n",
       "        <td id=\"T_2cdaf7b8_6c23_11e9_bafd_13598be69376row1_col0\" class=\"data row1 col0\" >foo5</td> \n",
       "        <td id=\"T_2cdaf7b8_6c23_11e9_bafd_13598be69376row1_col1\" class=\"data row1 col1\" >boo</td> \n",
       "        <td id=\"T_2cdaf7b8_6c23_11e9_bafd_13598be69376row1_col2\" class=\"data row1 col2\" >2</td> \n",
       "        <td id=\"T_2cdaf7b8_6c23_11e9_bafd_13598be69376row1_col3\" class=\"data row1 col3\" >False</td> \n",
       "        <td id=\"T_2cdaf7b8_6c23_11e9_bafd_13598be69376row1_col4\" class=\"data row1 col4\" >#ffbe00</td> \n",
       "        <td id=\"T_2cdaf7b8_6c23_11e9_bafd_13598be69376row1_col5\" class=\"data row1 col5\" >2</td> \n",
       "        <td id=\"T_2cdaf7b8_6c23_11e9_bafd_13598be69376row1_col6\" class=\"data row1 col6\" >2</td> \n",
       "        <td id=\"T_2cdaf7b8_6c23_11e9_bafd_13598be69376row1_col7\" class=\"data row1 col7\" >1</td> \n",
       "    </tr>    <tr> \n",
       "        <th id=\"T_2cdaf7b8_6c23_11e9_bafd_13598be69376level0_row2\" class=\"row_heading level0 row2\" >0</th> \n",
       "        <td id=\"T_2cdaf7b8_6c23_11e9_bafd_13598be69376row2_col0\" class=\"data row2 col0\" >foo</td> \n",
       "        <td id=\"T_2cdaf7b8_6c23_11e9_bafd_13598be69376row2_col1\" class=\"data row2 col1\" >foo7</td> \n",
       "        <td id=\"T_2cdaf7b8_6c23_11e9_bafd_13598be69376row2_col2\" class=\"data row2 col2\" >1</td> \n",
       "        <td id=\"T_2cdaf7b8_6c23_11e9_bafd_13598be69376row2_col3\" class=\"data row2 col3\" >False</td> \n",
       "        <td id=\"T_2cdaf7b8_6c23_11e9_bafd_13598be69376row2_col4\" class=\"data row2 col4\" >#015482</td> \n",
       "        <td id=\"T_2cdaf7b8_6c23_11e9_bafd_13598be69376row2_col5\" class=\"data row2 col5\" >3</td> \n",
       "        <td id=\"T_2cdaf7b8_6c23_11e9_bafd_13598be69376row2_col6\" class=\"data row2 col6\" >2</td> \n",
       "        <td id=\"T_2cdaf7b8_6c23_11e9_bafd_13598be69376row2_col7\" class=\"data row2 col7\" >2</td> \n",
       "    </tr>    <tr> \n",
       "        <th id=\"T_2cdaf7b8_6c23_11e9_bafd_13598be69376level0_row3\" class=\"row_heading level0 row3\" >3</th> \n",
       "        <td id=\"T_2cdaf7b8_6c23_11e9_bafd_13598be69376row3_col0\" class=\"data row3 col0\" >feeeee</td> \n",
       "        <td id=\"T_2cdaf7b8_6c23_11e9_bafd_13598be69376row3_col1\" class=\"data row3 col1\" >foo20</td> \n",
       "        <td id=\"T_2cdaf7b8_6c23_11e9_bafd_13598be69376row3_col2\" class=\"data row3 col2\" >1</td> \n",
       "        <td id=\"T_2cdaf7b8_6c23_11e9_bafd_13598be69376row3_col3\" class=\"data row3 col3\" >True</td> \n",
       "        <td id=\"T_2cdaf7b8_6c23_11e9_bafd_13598be69376row3_col4\" class=\"data row3 col4\" >#728f02</td> \n",
       "        <td id=\"T_2cdaf7b8_6c23_11e9_bafd_13598be69376row3_col5\" class=\"data row3 col5\" >4</td> \n",
       "        <td id=\"T_2cdaf7b8_6c23_11e9_bafd_13598be69376row3_col6\" class=\"data row3 col6\" >6</td> \n",
       "        <td id=\"T_2cdaf7b8_6c23_11e9_bafd_13598be69376row3_col7\" class=\"data row3 col7\" >8</td> \n",
       "    </tr></tbody> \n",
       "</table> "
      ],
      "text/plain": [
       "  surface series  order_surfaces  isBasement    color  id  val_foo  val2_foo\n",
       "1    lala    boo               1       False  #9f0052   1        2         2\n",
       "2    foo5    boo               2       False  #ffbe00   2        2         1\n",
       "0     foo   foo7               1       False  #015482   3        2         2\n",
       "3  feeeee  foo20               1        True  #728f02   4        6         8"
      ]
     },
     "execution_count": 42,
     "metadata": {},
     "output_type": "execute_result"
    }
   ],
   "source": [
    "surfaces"
   ]
  },
  {
   "cell_type": "code",
   "execution_count": 43,
   "metadata": {},
   "outputs": [],
   "source": [
    "surfaces.df.loc[2, 'val_foo'] = 22"
   ]
  },
  {
   "cell_type": "code",
   "execution_count": 44,
   "metadata": {},
   "outputs": [
    {
     "data": {
      "text/html": [
       "<style  type=\"text/css\" >\n",
       "    #T_2cdd8c80_6c23_11e9_bafd_13598be69376row0_col4 {\n",
       "            background-color:  #9f0052;\n",
       "        }    #T_2cdd8c80_6c23_11e9_bafd_13598be69376row1_col4 {\n",
       "            background-color:  #ffbe00;\n",
       "        }    #T_2cdd8c80_6c23_11e9_bafd_13598be69376row2_col4 {\n",
       "            background-color:  #015482;\n",
       "        }    #T_2cdd8c80_6c23_11e9_bafd_13598be69376row3_col4 {\n",
       "            background-color:  #728f02;\n",
       "        }</style>  \n",
       "<table id=\"T_2cdd8c80_6c23_11e9_bafd_13598be69376\" > \n",
       "<thead>    <tr> \n",
       "        <th class=\"blank level0\" ></th> \n",
       "        <th class=\"col_heading level0 col0\" >surface</th> \n",
       "        <th class=\"col_heading level0 col1\" >series</th> \n",
       "        <th class=\"col_heading level0 col2\" >order_surfaces</th> \n",
       "        <th class=\"col_heading level0 col3\" >isBasement</th> \n",
       "        <th class=\"col_heading level0 col4\" >color</th> \n",
       "        <th class=\"col_heading level0 col5\" >id</th> \n",
       "        <th class=\"col_heading level0 col6\" >val_foo</th> \n",
       "        <th class=\"col_heading level0 col7\" >val2_foo</th> \n",
       "    </tr></thead> \n",
       "<tbody>    <tr> \n",
       "        <th id=\"T_2cdd8c80_6c23_11e9_bafd_13598be69376level0_row0\" class=\"row_heading level0 row0\" >1</th> \n",
       "        <td id=\"T_2cdd8c80_6c23_11e9_bafd_13598be69376row0_col0\" class=\"data row0 col0\" >lala</td> \n",
       "        <td id=\"T_2cdd8c80_6c23_11e9_bafd_13598be69376row0_col1\" class=\"data row0 col1\" >boo</td> \n",
       "        <td id=\"T_2cdd8c80_6c23_11e9_bafd_13598be69376row0_col2\" class=\"data row0 col2\" >1</td> \n",
       "        <td id=\"T_2cdd8c80_6c23_11e9_bafd_13598be69376row0_col3\" class=\"data row0 col3\" >False</td> \n",
       "        <td id=\"T_2cdd8c80_6c23_11e9_bafd_13598be69376row0_col4\" class=\"data row0 col4\" >#9f0052</td> \n",
       "        <td id=\"T_2cdd8c80_6c23_11e9_bafd_13598be69376row0_col5\" class=\"data row0 col5\" >1</td> \n",
       "        <td id=\"T_2cdd8c80_6c23_11e9_bafd_13598be69376row0_col6\" class=\"data row0 col6\" >2</td> \n",
       "        <td id=\"T_2cdd8c80_6c23_11e9_bafd_13598be69376row0_col7\" class=\"data row0 col7\" >2</td> \n",
       "    </tr>    <tr> \n",
       "        <th id=\"T_2cdd8c80_6c23_11e9_bafd_13598be69376level0_row1\" class=\"row_heading level0 row1\" >2</th> \n",
       "        <td id=\"T_2cdd8c80_6c23_11e9_bafd_13598be69376row1_col0\" class=\"data row1 col0\" >foo5</td> \n",
       "        <td id=\"T_2cdd8c80_6c23_11e9_bafd_13598be69376row1_col1\" class=\"data row1 col1\" >boo</td> \n",
       "        <td id=\"T_2cdd8c80_6c23_11e9_bafd_13598be69376row1_col2\" class=\"data row1 col2\" >2</td> \n",
       "        <td id=\"T_2cdd8c80_6c23_11e9_bafd_13598be69376row1_col3\" class=\"data row1 col3\" >False</td> \n",
       "        <td id=\"T_2cdd8c80_6c23_11e9_bafd_13598be69376row1_col4\" class=\"data row1 col4\" >#ffbe00</td> \n",
       "        <td id=\"T_2cdd8c80_6c23_11e9_bafd_13598be69376row1_col5\" class=\"data row1 col5\" >2</td> \n",
       "        <td id=\"T_2cdd8c80_6c23_11e9_bafd_13598be69376row1_col6\" class=\"data row1 col6\" >22</td> \n",
       "        <td id=\"T_2cdd8c80_6c23_11e9_bafd_13598be69376row1_col7\" class=\"data row1 col7\" >1</td> \n",
       "    </tr>    <tr> \n",
       "        <th id=\"T_2cdd8c80_6c23_11e9_bafd_13598be69376level0_row2\" class=\"row_heading level0 row2\" >0</th> \n",
       "        <td id=\"T_2cdd8c80_6c23_11e9_bafd_13598be69376row2_col0\" class=\"data row2 col0\" >foo</td> \n",
       "        <td id=\"T_2cdd8c80_6c23_11e9_bafd_13598be69376row2_col1\" class=\"data row2 col1\" >foo7</td> \n",
       "        <td id=\"T_2cdd8c80_6c23_11e9_bafd_13598be69376row2_col2\" class=\"data row2 col2\" >1</td> \n",
       "        <td id=\"T_2cdd8c80_6c23_11e9_bafd_13598be69376row2_col3\" class=\"data row2 col3\" >False</td> \n",
       "        <td id=\"T_2cdd8c80_6c23_11e9_bafd_13598be69376row2_col4\" class=\"data row2 col4\" >#015482</td> \n",
       "        <td id=\"T_2cdd8c80_6c23_11e9_bafd_13598be69376row2_col5\" class=\"data row2 col5\" >3</td> \n",
       "        <td id=\"T_2cdd8c80_6c23_11e9_bafd_13598be69376row2_col6\" class=\"data row2 col6\" >2</td> \n",
       "        <td id=\"T_2cdd8c80_6c23_11e9_bafd_13598be69376row2_col7\" class=\"data row2 col7\" >2</td> \n",
       "    </tr>    <tr> \n",
       "        <th id=\"T_2cdd8c80_6c23_11e9_bafd_13598be69376level0_row3\" class=\"row_heading level0 row3\" >3</th> \n",
       "        <td id=\"T_2cdd8c80_6c23_11e9_bafd_13598be69376row3_col0\" class=\"data row3 col0\" >feeeee</td> \n",
       "        <td id=\"T_2cdd8c80_6c23_11e9_bafd_13598be69376row3_col1\" class=\"data row3 col1\" >foo20</td> \n",
       "        <td id=\"T_2cdd8c80_6c23_11e9_bafd_13598be69376row3_col2\" class=\"data row3 col2\" >1</td> \n",
       "        <td id=\"T_2cdd8c80_6c23_11e9_bafd_13598be69376row3_col3\" class=\"data row3 col3\" >True</td> \n",
       "        <td id=\"T_2cdd8c80_6c23_11e9_bafd_13598be69376row3_col4\" class=\"data row3 col4\" >#728f02</td> \n",
       "        <td id=\"T_2cdd8c80_6c23_11e9_bafd_13598be69376row3_col5\" class=\"data row3 col5\" >4</td> \n",
       "        <td id=\"T_2cdd8c80_6c23_11e9_bafd_13598be69376row3_col6\" class=\"data row3 col6\" >6</td> \n",
       "        <td id=\"T_2cdd8c80_6c23_11e9_bafd_13598be69376row3_col7\" class=\"data row3 col7\" >8</td> \n",
       "    </tr></tbody> \n",
       "</table> "
      ],
      "text/plain": [
       "  surface series  order_surfaces  isBasement    color  id  val_foo  val2_foo\n",
       "1    lala    boo               1       False  #9f0052   1        2         2\n",
       "2    foo5    boo               2       False  #ffbe00   2       22         1\n",
       "0     foo   foo7               1       False  #015482   3        2         2\n",
       "3  feeeee  foo20               1        True  #728f02   4        6         8"
      ]
     },
     "execution_count": 44,
     "metadata": {},
     "output_type": "execute_result"
    }
   ],
   "source": [
    "surfaces"
   ]
  },
  {
   "cell_type": "markdown",
   "metadata": {},
   "source": [
    "### Modify formation color"
   ]
  },
  {
   "cell_type": "markdown",
   "metadata": {},
   "source": [
    "The surfaces DataFrame also contains a column for the color in which the surfaces are displayed. To change the color, call "
   ]
  },
  {
   "cell_type": "code",
   "execution_count": 42,
   "metadata": {},
   "outputs": [
    {
     "name": "stdout",
     "output_type": "stream",
     "text": [
      "Click to select new colors.\n"
     ]
    },
    {
     "data": {
      "application/vnd.jupyter.widget-view+json": {
       "model_id": "2e347718b1fd4dfa83ac9ef8a2e10e38",
       "version_major": 2,
       "version_minor": 0
      },
      "text/plain": [
       "VBox(children=(ColorPicker(value='#ff8000', description='foo'), ColorPicker(value='#9f0052', description='foo2…"
      ]
     },
     "metadata": {},
     "output_type": "display_data"
    }
   ],
   "source": [
    "surfaces.colors.change_colors()"
   ]
  },
  {
   "cell_type": "markdown",
   "metadata": {},
   "source": [
    "This allow to change the colors interactively. If you already know which colors you want to use, you can also update them with a dictionary mapping the surface name to a hex color string:"
   ]
  },
  {
   "cell_type": "code",
   "execution_count": 41,
   "metadata": {},
   "outputs": [
    {
     "data": {
      "text/html": [
       "<style  type=\"text/css\" >\n",
       "    #T_16a0e1a8_6d98_11e9_bb36_e82a44a18926row0_col4 {\n",
       "            background-color:  #ff8000;\n",
       "        }    #T_16a0e1a8_6d98_11e9_bb36_e82a44a18926row1_col4 {\n",
       "            background-color:  #9f0052;\n",
       "        }    #T_16a0e1a8_6d98_11e9_bb36_e82a44a18926row2_col4 {\n",
       "            background-color:  #4741be;\n",
       "        }    #T_16a0e1a8_6d98_11e9_bb36_e82a44a18926row3_col4 {\n",
       "            background-color:  #728f02;\n",
       "        }</style>  \n",
       "<table id=\"T_16a0e1a8_6d98_11e9_bb36_e82a44a18926\" > \n",
       "<thead>    <tr> \n",
       "        <th class=\"blank level0\" ></th> \n",
       "        <th class=\"col_heading level0 col0\" >surface</th> \n",
       "        <th class=\"col_heading level0 col1\" >series</th> \n",
       "        <th class=\"col_heading level0 col2\" >order_surfaces</th> \n",
       "        <th class=\"col_heading level0 col3\" >isBasement</th> \n",
       "        <th class=\"col_heading level0 col4\" >color</th> \n",
       "        <th class=\"col_heading level0 col5\" >id</th> \n",
       "        <th class=\"col_heading level0 col6\" >val_foo</th> \n",
       "        <th class=\"col_heading level0 col7\" >val2_foo</th> \n",
       "    </tr></thead> \n",
       "<tbody>    <tr> \n",
       "        <th id=\"T_16a0e1a8_6d98_11e9_bb36_e82a44a18926level0_row0\" class=\"row_heading level0 row0\" >0</th> \n",
       "        <td id=\"T_16a0e1a8_6d98_11e9_bb36_e82a44a18926row0_col0\" class=\"data row0 col0\" >foo</td> \n",
       "        <td id=\"T_16a0e1a8_6d98_11e9_bb36_e82a44a18926row0_col1\" class=\"data row0 col1\" >foo20</td> \n",
       "        <td id=\"T_16a0e1a8_6d98_11e9_bb36_e82a44a18926row0_col2\" class=\"data row0 col2\" >1</td> \n",
       "        <td id=\"T_16a0e1a8_6d98_11e9_bb36_e82a44a18926row0_col3\" class=\"data row0 col3\" >False</td> \n",
       "        <td id=\"T_16a0e1a8_6d98_11e9_bb36_e82a44a18926row0_col4\" class=\"data row0 col4\" >#ff8000</td> \n",
       "        <td id=\"T_16a0e1a8_6d98_11e9_bb36_e82a44a18926row0_col5\" class=\"data row0 col5\" >1</td> \n",
       "        <td id=\"T_16a0e1a8_6d98_11e9_bb36_e82a44a18926row0_col6\" class=\"data row0 col6\" >2</td> \n",
       "        <td id=\"T_16a0e1a8_6d98_11e9_bb36_e82a44a18926row0_col7\" class=\"data row0 col7\" >2</td> \n",
       "    </tr>    <tr> \n",
       "        <th id=\"T_16a0e1a8_6d98_11e9_bb36_e82a44a18926level0_row1\" class=\"row_heading level0 row1\" >1</th> \n",
       "        <td id=\"T_16a0e1a8_6d98_11e9_bb36_e82a44a18926row1_col0\" class=\"data row1 col0\" >foo2</td> \n",
       "        <td id=\"T_16a0e1a8_6d98_11e9_bb36_e82a44a18926row1_col1\" class=\"data row1 col1\" >foo20</td> \n",
       "        <td id=\"T_16a0e1a8_6d98_11e9_bb36_e82a44a18926row1_col2\" class=\"data row1 col2\" >2</td> \n",
       "        <td id=\"T_16a0e1a8_6d98_11e9_bb36_e82a44a18926row1_col3\" class=\"data row1 col3\" >False</td> \n",
       "        <td id=\"T_16a0e1a8_6d98_11e9_bb36_e82a44a18926row1_col4\" class=\"data row1 col4\" >#9f0052</td> \n",
       "        <td id=\"T_16a0e1a8_6d98_11e9_bb36_e82a44a18926row1_col5\" class=\"data row1 col5\" >2</td> \n",
       "        <td id=\"T_16a0e1a8_6d98_11e9_bb36_e82a44a18926row1_col6\" class=\"data row1 col6\" >2</td> \n",
       "        <td id=\"T_16a0e1a8_6d98_11e9_bb36_e82a44a18926row1_col7\" class=\"data row1 col7\" >2</td> \n",
       "    </tr>    <tr> \n",
       "        <th id=\"T_16a0e1a8_6d98_11e9_bb36_e82a44a18926level0_row2\" class=\"row_heading level0 row2\" >2</th> \n",
       "        <td id=\"T_16a0e1a8_6d98_11e9_bb36_e82a44a18926row2_col0\" class=\"data row2 col0\" >foo5</td> \n",
       "        <td id=\"T_16a0e1a8_6d98_11e9_bb36_e82a44a18926row2_col1\" class=\"data row2 col1\" >foo20</td> \n",
       "        <td id=\"T_16a0e1a8_6d98_11e9_bb36_e82a44a18926row2_col2\" class=\"data row2 col2\" >3</td> \n",
       "        <td id=\"T_16a0e1a8_6d98_11e9_bb36_e82a44a18926row2_col3\" class=\"data row2 col3\" >False</td> \n",
       "        <td id=\"T_16a0e1a8_6d98_11e9_bb36_e82a44a18926row2_col4\" class=\"data row2 col4\" >#4741be</td> \n",
       "        <td id=\"T_16a0e1a8_6d98_11e9_bb36_e82a44a18926row2_col5\" class=\"data row2 col5\" >3</td> \n",
       "        <td id=\"T_16a0e1a8_6d98_11e9_bb36_e82a44a18926row2_col6\" class=\"data row2 col6\" >2</td> \n",
       "        <td id=\"T_16a0e1a8_6d98_11e9_bb36_e82a44a18926row2_col7\" class=\"data row2 col7\" >1</td> \n",
       "    </tr>    <tr> \n",
       "        <th id=\"T_16a0e1a8_6d98_11e9_bb36_e82a44a18926level0_row3\" class=\"row_heading level0 row3\" >3</th> \n",
       "        <td id=\"T_16a0e1a8_6d98_11e9_bb36_e82a44a18926row3_col0\" class=\"data row3 col0\" >feeeee</td> \n",
       "        <td id=\"T_16a0e1a8_6d98_11e9_bb36_e82a44a18926row3_col1\" class=\"data row3 col1\" >foo20</td> \n",
       "        <td id=\"T_16a0e1a8_6d98_11e9_bb36_e82a44a18926row3_col2\" class=\"data row3 col2\" >4</td> \n",
       "        <td id=\"T_16a0e1a8_6d98_11e9_bb36_e82a44a18926row3_col3\" class=\"data row3 col3\" >True</td> \n",
       "        <td id=\"T_16a0e1a8_6d98_11e9_bb36_e82a44a18926row3_col4\" class=\"data row3 col4\" >#728f02</td> \n",
       "        <td id=\"T_16a0e1a8_6d98_11e9_bb36_e82a44a18926row3_col5\" class=\"data row3 col5\" >4</td> \n",
       "        <td id=\"T_16a0e1a8_6d98_11e9_bb36_e82a44a18926row3_col6\" class=\"data row3 col6\" >6</td> \n",
       "        <td id=\"T_16a0e1a8_6d98_11e9_bb36_e82a44a18926row3_col7\" class=\"data row3 col7\" >8</td> \n",
       "    </tr></tbody> \n",
       "</table> "
      ],
      "text/plain": [
       "  surface series  order_surfaces  isBasement    color  id  val_foo  val2_foo\n",
       "0     foo  foo20               1       False  #ff8000   1        2         2\n",
       "1    foo2  foo20               2       False  #9f0052   2        2         2\n",
       "2    foo5  foo20               3       False  #4741be   3        2         1\n",
       "3  feeeee  foo20               4        True  #728f02   4        6         8"
      ]
     },
     "execution_count": 41,
     "metadata": {},
     "output_type": "execute_result"
    }
   ],
   "source": [
    "new_colors={'foo':'#ff8000', 'foo5':'#4741be'}\n",
    "surfaces.colors.change_colors(new_colors)"
   ]
  },
  {
   "cell_type": "markdown",
   "metadata": {},
   "source": [
    "# Data\n",
    "#### surface_points\n",
    "These two DataFrames (df from now on) will contain the individual information of each point at an interface or orientation. Some properties of this table are mapped from the *df* below."
   ]
  },
  {
   "cell_type": "code",
   "execution_count": 47,
   "metadata": {},
   "outputs": [],
   "source": [
    "surface_points = gp.SurfacePoints(surfaces)\n",
    "#orientations = gp.Orientations()"
   ]
  },
  {
   "cell_type": "code",
   "execution_count": 48,
   "metadata": {},
   "outputs": [
    {
     "data": {
      "text/html": [
       "<table border=\"1\" class=\"dataframe\">\n",
       "  <thead>\n",
       "    <tr style=\"text-align: right;\">\n",
       "      <th></th>\n",
       "      <th>X</th>\n",
       "      <th>Y</th>\n",
       "      <th>Z</th>\n",
       "      <th>X_r</th>\n",
       "      <th>Y_r</th>\n",
       "      <th>Z_r</th>\n",
       "      <th>surface</th>\n",
       "      <th>series</th>\n",
       "      <th>id</th>\n",
       "      <th>order_series</th>\n",
       "    </tr>\n",
       "  </thead>\n",
       "  <tbody>\n",
       "  </tbody>\n",
       "</table>"
      ],
      "text/plain": [
       "Empty DataFrame\n",
       "Columns: [X, Y, Z, X_r, Y_r, Z_r, surface, series, id, order_series]\n",
       "Index: []"
      ]
     },
     "execution_count": 48,
     "metadata": {},
     "output_type": "execute_result"
    }
   ],
   "source": [
    "surface_points"
   ]
  },
  {
   "cell_type": "code",
   "execution_count": 49,
   "metadata": {},
   "outputs": [],
   "source": [
    "surface_points.set_surface_points(pn.DataFrame(np.random.rand(6,3)), ['foo', 'foo5', 'lala', 'foo5', 'lala', 'feeeee'])"
   ]
  },
  {
   "cell_type": "code",
   "execution_count": 50,
   "metadata": {},
   "outputs": [
    {
     "data": {
      "text/html": [
       "<table border=\"1\" class=\"dataframe\">\n",
       "  <thead>\n",
       "    <tr style=\"text-align: right;\">\n",
       "      <th></th>\n",
       "      <th>X</th>\n",
       "      <th>Y</th>\n",
       "      <th>Z</th>\n",
       "      <th>X_r</th>\n",
       "      <th>Y_r</th>\n",
       "      <th>Z_r</th>\n",
       "      <th>surface</th>\n",
       "      <th>series</th>\n",
       "      <th>id</th>\n",
       "      <th>order_series</th>\n",
       "    </tr>\n",
       "  </thead>\n",
       "  <tbody>\n",
       "    <tr>\n",
       "      <th>0</th>\n",
       "      <td>0.989980</td>\n",
       "      <td>0.199619</td>\n",
       "      <td>0.131031</td>\n",
       "      <td>NaN</td>\n",
       "      <td>NaN</td>\n",
       "      <td>NaN</td>\n",
       "      <td>foo</td>\n",
       "      <td>NaN</td>\n",
       "      <td>NaN</td>\n",
       "      <td>1</td>\n",
       "    </tr>\n",
       "    <tr>\n",
       "      <th>1</th>\n",
       "      <td>0.733557</td>\n",
       "      <td>0.710490</td>\n",
       "      <td>0.657090</td>\n",
       "      <td>NaN</td>\n",
       "      <td>NaN</td>\n",
       "      <td>NaN</td>\n",
       "      <td>foo5</td>\n",
       "      <td>NaN</td>\n",
       "      <td>NaN</td>\n",
       "      <td>1</td>\n",
       "    </tr>\n",
       "    <tr>\n",
       "      <th>2</th>\n",
       "      <td>0.059345</td>\n",
       "      <td>0.010588</td>\n",
       "      <td>0.681098</td>\n",
       "      <td>NaN</td>\n",
       "      <td>NaN</td>\n",
       "      <td>NaN</td>\n",
       "      <td>lala</td>\n",
       "      <td>NaN</td>\n",
       "      <td>NaN</td>\n",
       "      <td>1</td>\n",
       "    </tr>\n",
       "    <tr>\n",
       "      <th>3</th>\n",
       "      <td>0.696453</td>\n",
       "      <td>0.191715</td>\n",
       "      <td>0.119883</td>\n",
       "      <td>NaN</td>\n",
       "      <td>NaN</td>\n",
       "      <td>NaN</td>\n",
       "      <td>foo5</td>\n",
       "      <td>NaN</td>\n",
       "      <td>NaN</td>\n",
       "      <td>1</td>\n",
       "    </tr>\n",
       "    <tr>\n",
       "      <th>4</th>\n",
       "      <td>0.404212</td>\n",
       "      <td>0.451895</td>\n",
       "      <td>0.428327</td>\n",
       "      <td>NaN</td>\n",
       "      <td>NaN</td>\n",
       "      <td>NaN</td>\n",
       "      <td>lala</td>\n",
       "      <td>NaN</td>\n",
       "      <td>NaN</td>\n",
       "      <td>1</td>\n",
       "    </tr>\n",
       "    <tr>\n",
       "      <th>5</th>\n",
       "      <td>0.235594</td>\n",
       "      <td>0.583180</td>\n",
       "      <td>0.299830</td>\n",
       "      <td>NaN</td>\n",
       "      <td>NaN</td>\n",
       "      <td>NaN</td>\n",
       "      <td>feeeee</td>\n",
       "      <td>NaN</td>\n",
       "      <td>NaN</td>\n",
       "      <td>1</td>\n",
       "    </tr>\n",
       "  </tbody>\n",
       "</table>"
      ],
      "text/plain": [
       "          X         Y         Z  X_r  Y_r  Z_r surface series  id  order_series\n",
       "0  0.989980  0.199619  0.131031  NaN  NaN  NaN     foo    NaN NaN             1\n",
       "1  0.733557  0.710490  0.657090  NaN  NaN  NaN    foo5    NaN NaN             1\n",
       "2  0.059345  0.010588  0.681098  NaN  NaN  NaN    lala    NaN NaN             1\n",
       "3  0.696453  0.191715  0.119883  NaN  NaN  NaN    foo5    NaN NaN             1\n",
       "4  0.404212  0.451895  0.428327  NaN  NaN  NaN    lala    NaN NaN             1\n",
       "5  0.235594  0.583180  0.299830  NaN  NaN  NaN  feeeee    NaN NaN             1"
      ]
     },
     "execution_count": 50,
     "metadata": {},
     "output_type": "execute_result"
    }
   ],
   "source": [
    "surface_points"
   ]
  },
  {
   "cell_type": "code",
   "execution_count": 51,
   "metadata": {},
   "outputs": [
    {
     "data": {
      "text/html": [
       "<table border=\"1\" class=\"dataframe\">\n",
       "  <thead>\n",
       "    <tr style=\"text-align: right;\">\n",
       "      <th></th>\n",
       "      <th>X</th>\n",
       "      <th>Y</th>\n",
       "      <th>Z</th>\n",
       "      <th>X_r</th>\n",
       "      <th>Y_r</th>\n",
       "      <th>Z_r</th>\n",
       "      <th>surface</th>\n",
       "      <th>series</th>\n",
       "      <th>id</th>\n",
       "      <th>order_series</th>\n",
       "    </tr>\n",
       "  </thead>\n",
       "  <tbody>\n",
       "    <tr>\n",
       "      <th>0</th>\n",
       "      <td>0.989980</td>\n",
       "      <td>0.199619</td>\n",
       "      <td>0.131031</td>\n",
       "      <td>NaN</td>\n",
       "      <td>NaN</td>\n",
       "      <td>NaN</td>\n",
       "      <td>foo</td>\n",
       "      <td>foo7</td>\n",
       "      <td>NaN</td>\n",
       "      <td>1</td>\n",
       "    </tr>\n",
       "    <tr>\n",
       "      <th>1</th>\n",
       "      <td>0.733557</td>\n",
       "      <td>0.710490</td>\n",
       "      <td>0.657090</td>\n",
       "      <td>NaN</td>\n",
       "      <td>NaN</td>\n",
       "      <td>NaN</td>\n",
       "      <td>foo5</td>\n",
       "      <td>boo</td>\n",
       "      <td>NaN</td>\n",
       "      <td>1</td>\n",
       "    </tr>\n",
       "    <tr>\n",
       "      <th>2</th>\n",
       "      <td>0.059345</td>\n",
       "      <td>0.010588</td>\n",
       "      <td>0.681098</td>\n",
       "      <td>NaN</td>\n",
       "      <td>NaN</td>\n",
       "      <td>NaN</td>\n",
       "      <td>lala</td>\n",
       "      <td>boo</td>\n",
       "      <td>NaN</td>\n",
       "      <td>1</td>\n",
       "    </tr>\n",
       "    <tr>\n",
       "      <th>3</th>\n",
       "      <td>0.696453</td>\n",
       "      <td>0.191715</td>\n",
       "      <td>0.119883</td>\n",
       "      <td>NaN</td>\n",
       "      <td>NaN</td>\n",
       "      <td>NaN</td>\n",
       "      <td>foo5</td>\n",
       "      <td>boo</td>\n",
       "      <td>NaN</td>\n",
       "      <td>1</td>\n",
       "    </tr>\n",
       "    <tr>\n",
       "      <th>4</th>\n",
       "      <td>0.404212</td>\n",
       "      <td>0.451895</td>\n",
       "      <td>0.428327</td>\n",
       "      <td>NaN</td>\n",
       "      <td>NaN</td>\n",
       "      <td>NaN</td>\n",
       "      <td>lala</td>\n",
       "      <td>boo</td>\n",
       "      <td>NaN</td>\n",
       "      <td>1</td>\n",
       "    </tr>\n",
       "    <tr>\n",
       "      <th>5</th>\n",
       "      <td>0.235594</td>\n",
       "      <td>0.583180</td>\n",
       "      <td>0.299830</td>\n",
       "      <td>NaN</td>\n",
       "      <td>NaN</td>\n",
       "      <td>NaN</td>\n",
       "      <td>feeeee</td>\n",
       "      <td>foo20</td>\n",
       "      <td>NaN</td>\n",
       "      <td>1</td>\n",
       "    </tr>\n",
       "  </tbody>\n",
       "</table>"
      ],
      "text/plain": [
       "          X         Y         Z  X_r  Y_r  Z_r surface series  id  order_series\n",
       "0  0.989980  0.199619  0.131031  NaN  NaN  NaN     foo   foo7 NaN             1\n",
       "1  0.733557  0.710490  0.657090  NaN  NaN  NaN    foo5    boo NaN             1\n",
       "2  0.059345  0.010588  0.681098  NaN  NaN  NaN    lala    boo NaN             1\n",
       "3  0.696453  0.191715  0.119883  NaN  NaN  NaN    foo5    boo NaN             1\n",
       "4  0.404212  0.451895  0.428327  NaN  NaN  NaN    lala    boo NaN             1\n",
       "5  0.235594  0.583180  0.299830  NaN  NaN  NaN  feeeee  foo20 NaN             1"
      ]
     },
     "execution_count": 51,
     "metadata": {},
     "output_type": "execute_result"
    }
   ],
   "source": [
    "surface_points.map_data_from_surfaces(surfaces, 'series')\n",
    "surface_points"
   ]
  },
  {
   "cell_type": "code",
   "execution_count": 52,
   "metadata": {},
   "outputs": [
    {
     "data": {
      "text/html": [
       "<table border=\"1\" class=\"dataframe\">\n",
       "  <thead>\n",
       "    <tr style=\"text-align: right;\">\n",
       "      <th></th>\n",
       "      <th>X</th>\n",
       "      <th>Y</th>\n",
       "      <th>Z</th>\n",
       "      <th>X_r</th>\n",
       "      <th>Y_r</th>\n",
       "      <th>Z_r</th>\n",
       "      <th>surface</th>\n",
       "      <th>series</th>\n",
       "      <th>id</th>\n",
       "      <th>order_series</th>\n",
       "    </tr>\n",
       "  </thead>\n",
       "  <tbody>\n",
       "    <tr>\n",
       "      <th>0</th>\n",
       "      <td>0.989980</td>\n",
       "      <td>0.199619</td>\n",
       "      <td>0.131031</td>\n",
       "      <td>NaN</td>\n",
       "      <td>NaN</td>\n",
       "      <td>NaN</td>\n",
       "      <td>foo</td>\n",
       "      <td>foo7</td>\n",
       "      <td>3</td>\n",
       "      <td>1</td>\n",
       "    </tr>\n",
       "    <tr>\n",
       "      <th>1</th>\n",
       "      <td>0.733557</td>\n",
       "      <td>0.710490</td>\n",
       "      <td>0.657090</td>\n",
       "      <td>NaN</td>\n",
       "      <td>NaN</td>\n",
       "      <td>NaN</td>\n",
       "      <td>foo5</td>\n",
       "      <td>boo</td>\n",
       "      <td>2</td>\n",
       "      <td>1</td>\n",
       "    </tr>\n",
       "    <tr>\n",
       "      <th>2</th>\n",
       "      <td>0.059345</td>\n",
       "      <td>0.010588</td>\n",
       "      <td>0.681098</td>\n",
       "      <td>NaN</td>\n",
       "      <td>NaN</td>\n",
       "      <td>NaN</td>\n",
       "      <td>lala</td>\n",
       "      <td>boo</td>\n",
       "      <td>1</td>\n",
       "      <td>1</td>\n",
       "    </tr>\n",
       "    <tr>\n",
       "      <th>3</th>\n",
       "      <td>0.696453</td>\n",
       "      <td>0.191715</td>\n",
       "      <td>0.119883</td>\n",
       "      <td>NaN</td>\n",
       "      <td>NaN</td>\n",
       "      <td>NaN</td>\n",
       "      <td>foo5</td>\n",
       "      <td>boo</td>\n",
       "      <td>2</td>\n",
       "      <td>1</td>\n",
       "    </tr>\n",
       "    <tr>\n",
       "      <th>4</th>\n",
       "      <td>0.404212</td>\n",
       "      <td>0.451895</td>\n",
       "      <td>0.428327</td>\n",
       "      <td>NaN</td>\n",
       "      <td>NaN</td>\n",
       "      <td>NaN</td>\n",
       "      <td>lala</td>\n",
       "      <td>boo</td>\n",
       "      <td>1</td>\n",
       "      <td>1</td>\n",
       "    </tr>\n",
       "    <tr>\n",
       "      <th>5</th>\n",
       "      <td>0.235594</td>\n",
       "      <td>0.583180</td>\n",
       "      <td>0.299830</td>\n",
       "      <td>NaN</td>\n",
       "      <td>NaN</td>\n",
       "      <td>NaN</td>\n",
       "      <td>feeeee</td>\n",
       "      <td>foo20</td>\n",
       "      <td>4</td>\n",
       "      <td>1</td>\n",
       "    </tr>\n",
       "  </tbody>\n",
       "</table>"
      ],
      "text/plain": [
       "          X         Y         Z  X_r  Y_r  Z_r surface series  id  order_series\n",
       "0  0.989980  0.199619  0.131031  NaN  NaN  NaN     foo   foo7   3             1\n",
       "1  0.733557  0.710490  0.657090  NaN  NaN  NaN    foo5    boo   2             1\n",
       "2  0.059345  0.010588  0.681098  NaN  NaN  NaN    lala    boo   1             1\n",
       "3  0.696453  0.191715  0.119883  NaN  NaN  NaN    foo5    boo   2             1\n",
       "4  0.404212  0.451895  0.428327  NaN  NaN  NaN    lala    boo   1             1\n",
       "5  0.235594  0.583180  0.299830  NaN  NaN  NaN  feeeee  foo20   4             1"
      ]
     },
     "execution_count": 52,
     "metadata": {},
     "output_type": "execute_result"
    }
   ],
   "source": [
    "surface_points.map_data_from_surfaces(surfaces, 'id')\n",
    "surface_points"
   ]
  },
  {
   "cell_type": "code",
   "execution_count": 53,
   "metadata": {},
   "outputs": [
    {
     "data": {
      "text/html": [
       "<table border=\"1\" class=\"dataframe\">\n",
       "  <thead>\n",
       "    <tr style=\"text-align: right;\">\n",
       "      <th></th>\n",
       "      <th>order_series</th>\n",
       "      <th>BottomRelation</th>\n",
       "    </tr>\n",
       "  </thead>\n",
       "  <tbody>\n",
       "    <tr>\n",
       "      <th>foo2</th>\n",
       "      <td>1</td>\n",
       "      <td>Erosion</td>\n",
       "    </tr>\n",
       "    <tr>\n",
       "      <th>boo</th>\n",
       "      <td>2</td>\n",
       "      <td>Erosion</td>\n",
       "    </tr>\n",
       "    <tr>\n",
       "      <th>foo7</th>\n",
       "      <td>3</td>\n",
       "      <td>Erosion</td>\n",
       "    </tr>\n",
       "    <tr>\n",
       "      <th>foo5</th>\n",
       "      <td>4</td>\n",
       "      <td>Erosion</td>\n",
       "    </tr>\n",
       "    <tr>\n",
       "      <th>foo20</th>\n",
       "      <td>5</td>\n",
       "      <td>Erosion</td>\n",
       "    </tr>\n",
       "  </tbody>\n",
       "</table>"
      ],
      "text/plain": [
       "       order_series BottomRelation\n",
       "foo2              1        Erosion\n",
       "boo               2        Erosion\n",
       "foo7              3        Erosion\n",
       "foo5              4        Erosion\n",
       "foo20             5        Erosion"
      ]
     },
     "execution_count": 53,
     "metadata": {},
     "output_type": "execute_result"
    }
   ],
   "source": [
    "series"
   ]
  },
  {
   "cell_type": "code",
   "execution_count": 54,
   "metadata": {},
   "outputs": [
    {
     "data": {
      "text/html": [
       "<table border=\"1\" class=\"dataframe\">\n",
       "  <thead>\n",
       "    <tr style=\"text-align: right;\">\n",
       "      <th></th>\n",
       "      <th>X</th>\n",
       "      <th>Y</th>\n",
       "      <th>Z</th>\n",
       "      <th>X_r</th>\n",
       "      <th>Y_r</th>\n",
       "      <th>Z_r</th>\n",
       "      <th>surface</th>\n",
       "      <th>series</th>\n",
       "      <th>id</th>\n",
       "      <th>order_series</th>\n",
       "    </tr>\n",
       "  </thead>\n",
       "  <tbody>\n",
       "    <tr>\n",
       "      <th>0</th>\n",
       "      <td>0.989980</td>\n",
       "      <td>0.199619</td>\n",
       "      <td>0.131031</td>\n",
       "      <td>NaN</td>\n",
       "      <td>NaN</td>\n",
       "      <td>NaN</td>\n",
       "      <td>foo</td>\n",
       "      <td>foo7</td>\n",
       "      <td>3</td>\n",
       "      <td>3</td>\n",
       "    </tr>\n",
       "    <tr>\n",
       "      <th>1</th>\n",
       "      <td>0.733557</td>\n",
       "      <td>0.710490</td>\n",
       "      <td>0.657090</td>\n",
       "      <td>NaN</td>\n",
       "      <td>NaN</td>\n",
       "      <td>NaN</td>\n",
       "      <td>foo5</td>\n",
       "      <td>boo</td>\n",
       "      <td>2</td>\n",
       "      <td>2</td>\n",
       "    </tr>\n",
       "    <tr>\n",
       "      <th>2</th>\n",
       "      <td>0.059345</td>\n",
       "      <td>0.010588</td>\n",
       "      <td>0.681098</td>\n",
       "      <td>NaN</td>\n",
       "      <td>NaN</td>\n",
       "      <td>NaN</td>\n",
       "      <td>lala</td>\n",
       "      <td>boo</td>\n",
       "      <td>1</td>\n",
       "      <td>2</td>\n",
       "    </tr>\n",
       "    <tr>\n",
       "      <th>3</th>\n",
       "      <td>0.696453</td>\n",
       "      <td>0.191715</td>\n",
       "      <td>0.119883</td>\n",
       "      <td>NaN</td>\n",
       "      <td>NaN</td>\n",
       "      <td>NaN</td>\n",
       "      <td>foo5</td>\n",
       "      <td>boo</td>\n",
       "      <td>2</td>\n",
       "      <td>2</td>\n",
       "    </tr>\n",
       "    <tr>\n",
       "      <th>4</th>\n",
       "      <td>0.404212</td>\n",
       "      <td>0.451895</td>\n",
       "      <td>0.428327</td>\n",
       "      <td>NaN</td>\n",
       "      <td>NaN</td>\n",
       "      <td>NaN</td>\n",
       "      <td>lala</td>\n",
       "      <td>boo</td>\n",
       "      <td>1</td>\n",
       "      <td>2</td>\n",
       "    </tr>\n",
       "    <tr>\n",
       "      <th>5</th>\n",
       "      <td>0.235594</td>\n",
       "      <td>0.583180</td>\n",
       "      <td>0.299830</td>\n",
       "      <td>NaN</td>\n",
       "      <td>NaN</td>\n",
       "      <td>NaN</td>\n",
       "      <td>feeeee</td>\n",
       "      <td>foo20</td>\n",
       "      <td>4</td>\n",
       "      <td>5</td>\n",
       "    </tr>\n",
       "  </tbody>\n",
       "</table>"
      ],
      "text/plain": [
       "          X         Y         Z  X_r  Y_r  Z_r surface series  id  order_series\n",
       "0  0.989980  0.199619  0.131031  NaN  NaN  NaN     foo   foo7   3             3\n",
       "1  0.733557  0.710490  0.657090  NaN  NaN  NaN    foo5    boo   2             2\n",
       "2  0.059345  0.010588  0.681098  NaN  NaN  NaN    lala    boo   1             2\n",
       "3  0.696453  0.191715  0.119883  NaN  NaN  NaN    foo5    boo   2             2\n",
       "4  0.404212  0.451895  0.428327  NaN  NaN  NaN    lala    boo   1             2\n",
       "5  0.235594  0.583180  0.299830  NaN  NaN  NaN  feeeee  foo20   4             5"
      ]
     },
     "execution_count": 54,
     "metadata": {},
     "output_type": "execute_result"
    }
   ],
   "source": [
    "surface_points.map_data_from_series(series, 'order_series')\n",
    "surface_points"
   ]
  },
  {
   "cell_type": "code",
   "execution_count": 55,
   "metadata": {},
   "outputs": [
    {
     "data": {
      "text/html": [
       "<table border=\"1\" class=\"dataframe\">\n",
       "  <thead>\n",
       "    <tr style=\"text-align: right;\">\n",
       "      <th></th>\n",
       "      <th>X</th>\n",
       "      <th>Y</th>\n",
       "      <th>Z</th>\n",
       "      <th>X_r</th>\n",
       "      <th>Y_r</th>\n",
       "      <th>Z_r</th>\n",
       "      <th>surface</th>\n",
       "      <th>series</th>\n",
       "      <th>id</th>\n",
       "      <th>order_series</th>\n",
       "    </tr>\n",
       "  </thead>\n",
       "  <tbody>\n",
       "    <tr>\n",
       "      <th>2</th>\n",
       "      <td>0.059345</td>\n",
       "      <td>0.010588</td>\n",
       "      <td>0.681098</td>\n",
       "      <td>NaN</td>\n",
       "      <td>NaN</td>\n",
       "      <td>NaN</td>\n",
       "      <td>lala</td>\n",
       "      <td>boo</td>\n",
       "      <td>1</td>\n",
       "      <td>2</td>\n",
       "    </tr>\n",
       "    <tr>\n",
       "      <th>4</th>\n",
       "      <td>0.404212</td>\n",
       "      <td>0.451895</td>\n",
       "      <td>0.428327</td>\n",
       "      <td>NaN</td>\n",
       "      <td>NaN</td>\n",
       "      <td>NaN</td>\n",
       "      <td>lala</td>\n",
       "      <td>boo</td>\n",
       "      <td>1</td>\n",
       "      <td>2</td>\n",
       "    </tr>\n",
       "    <tr>\n",
       "      <th>1</th>\n",
       "      <td>0.733557</td>\n",
       "      <td>0.710490</td>\n",
       "      <td>0.657090</td>\n",
       "      <td>NaN</td>\n",
       "      <td>NaN</td>\n",
       "      <td>NaN</td>\n",
       "      <td>foo5</td>\n",
       "      <td>boo</td>\n",
       "      <td>2</td>\n",
       "      <td>2</td>\n",
       "    </tr>\n",
       "    <tr>\n",
       "      <th>3</th>\n",
       "      <td>0.696453</td>\n",
       "      <td>0.191715</td>\n",
       "      <td>0.119883</td>\n",
       "      <td>NaN</td>\n",
       "      <td>NaN</td>\n",
       "      <td>NaN</td>\n",
       "      <td>foo5</td>\n",
       "      <td>boo</td>\n",
       "      <td>2</td>\n",
       "      <td>2</td>\n",
       "    </tr>\n",
       "    <tr>\n",
       "      <th>0</th>\n",
       "      <td>0.989980</td>\n",
       "      <td>0.199619</td>\n",
       "      <td>0.131031</td>\n",
       "      <td>NaN</td>\n",
       "      <td>NaN</td>\n",
       "      <td>NaN</td>\n",
       "      <td>foo</td>\n",
       "      <td>foo7</td>\n",
       "      <td>3</td>\n",
       "      <td>3</td>\n",
       "    </tr>\n",
       "    <tr>\n",
       "      <th>5</th>\n",
       "      <td>0.235594</td>\n",
       "      <td>0.583180</td>\n",
       "      <td>0.299830</td>\n",
       "      <td>NaN</td>\n",
       "      <td>NaN</td>\n",
       "      <td>NaN</td>\n",
       "      <td>feeeee</td>\n",
       "      <td>foo20</td>\n",
       "      <td>4</td>\n",
       "      <td>5</td>\n",
       "    </tr>\n",
       "  </tbody>\n",
       "</table>"
      ],
      "text/plain": [
       "          X         Y         Z  X_r  Y_r  Z_r surface series  id  order_series\n",
       "2  0.059345  0.010588  0.681098  NaN  NaN  NaN    lala    boo   1             2\n",
       "4  0.404212  0.451895  0.428327  NaN  NaN  NaN    lala    boo   1             2\n",
       "1  0.733557  0.710490  0.657090  NaN  NaN  NaN    foo5    boo   2             2\n",
       "3  0.696453  0.191715  0.119883  NaN  NaN  NaN    foo5    boo   2             2\n",
       "0  0.989980  0.199619  0.131031  NaN  NaN  NaN     foo   foo7   3             3\n",
       "5  0.235594  0.583180  0.299830  NaN  NaN  NaN  feeeee  foo20   4             5"
      ]
     },
     "execution_count": 55,
     "metadata": {},
     "output_type": "execute_result"
    }
   ],
   "source": [
    "surface_points.sort_table()\n",
    "surface_points"
   ]
  },
  {
   "cell_type": "code",
   "execution_count": 56,
   "metadata": {},
   "outputs": [
    {
     "data": {
      "text/html": [
       "<table border=\"1\" class=\"dataframe\">\n",
       "  <thead>\n",
       "    <tr style=\"text-align: right;\">\n",
       "      <th></th>\n",
       "      <th>isFault</th>\n",
       "      <th>isFinite</th>\n",
       "    </tr>\n",
       "  </thead>\n",
       "  <tbody>\n",
       "    <tr>\n",
       "      <th>foo2</th>\n",
       "      <td>False</td>\n",
       "      <td>False</td>\n",
       "    </tr>\n",
       "    <tr>\n",
       "      <th>boo</th>\n",
       "      <td>True</td>\n",
       "      <td>False</td>\n",
       "    </tr>\n",
       "    <tr>\n",
       "      <th>foo7</th>\n",
       "      <td>False</td>\n",
       "      <td>False</td>\n",
       "    </tr>\n",
       "    <tr>\n",
       "      <th>foo5</th>\n",
       "      <td>False</td>\n",
       "      <td>False</td>\n",
       "    </tr>\n",
       "    <tr>\n",
       "      <th>foo20</th>\n",
       "      <td>False</td>\n",
       "      <td>False</td>\n",
       "    </tr>\n",
       "  </tbody>\n",
       "</table>"
      ],
      "text/plain": [
       "       isFault  isFinite\n",
       "foo2     False     False\n",
       "boo       True     False\n",
       "foo7     False     False\n",
       "foo5     False     False\n",
       "foo20    False     False"
      ]
     },
     "execution_count": 56,
     "metadata": {},
     "output_type": "execute_result"
    }
   ],
   "source": [
    "faults"
   ]
  },
  {
   "cell_type": "markdown",
   "metadata": {},
   "source": [
    "### Orientations"
   ]
  },
  {
   "cell_type": "code",
   "execution_count": 57,
   "metadata": {},
   "outputs": [],
   "source": [
    "orientations = gp.Orientations(surfaces)"
   ]
  },
  {
   "cell_type": "code",
   "execution_count": 58,
   "metadata": {},
   "outputs": [
    {
     "data": {
      "text/html": [
       "<table border=\"1\" class=\"dataframe\">\n",
       "  <thead>\n",
       "    <tr style=\"text-align: right;\">\n",
       "      <th></th>\n",
       "      <th>X</th>\n",
       "      <th>Y</th>\n",
       "      <th>Z</th>\n",
       "      <th>X_r</th>\n",
       "      <th>Y_r</th>\n",
       "      <th>Z_r</th>\n",
       "      <th>G_x</th>\n",
       "      <th>G_y</th>\n",
       "      <th>G_z</th>\n",
       "      <th>dip</th>\n",
       "      <th>azimuth</th>\n",
       "      <th>polarity</th>\n",
       "      <th>surface</th>\n",
       "      <th>series</th>\n",
       "      <th>id</th>\n",
       "      <th>order_series</th>\n",
       "    </tr>\n",
       "  </thead>\n",
       "  <tbody>\n",
       "  </tbody>\n",
       "</table>"
      ],
      "text/plain": [
       "Empty DataFrame\n",
       "Columns: [X, Y, Z, X_r, Y_r, Z_r, G_x, G_y, G_z, dip, azimuth, polarity, surface, series, id, order_series]\n",
       "Index: []"
      ]
     },
     "execution_count": 58,
     "metadata": {},
     "output_type": "execute_result"
    }
   ],
   "source": [
    "orientations"
   ]
  },
  {
   "cell_type": "markdown",
   "metadata": {},
   "source": [
    "### Set values passing pole vectors:"
   ]
  },
  {
   "cell_type": "code",
   "execution_count": 59,
   "metadata": {},
   "outputs": [],
   "source": [
    "orientations.set_orientations(np.random.rand(6,3)*10,\n",
    "                            np.random.rand(6,3),\n",
    "                            surface=['foo', 'foo5', 'lala', 'foo5', 'lala', 'feeeee'])"
   ]
  },
  {
   "cell_type": "code",
   "execution_count": 60,
   "metadata": {},
   "outputs": [
    {
     "data": {
      "text/html": [
       "<table border=\"1\" class=\"dataframe\">\n",
       "  <thead>\n",
       "    <tr style=\"text-align: right;\">\n",
       "      <th></th>\n",
       "      <th>X</th>\n",
       "      <th>Y</th>\n",
       "      <th>Z</th>\n",
       "      <th>X_r</th>\n",
       "      <th>Y_r</th>\n",
       "      <th>Z_r</th>\n",
       "      <th>G_x</th>\n",
       "      <th>G_y</th>\n",
       "      <th>G_z</th>\n",
       "      <th>dip</th>\n",
       "      <th>azimuth</th>\n",
       "      <th>polarity</th>\n",
       "      <th>surface</th>\n",
       "      <th>series</th>\n",
       "      <th>id</th>\n",
       "      <th>order_series</th>\n",
       "    </tr>\n",
       "  </thead>\n",
       "  <tbody>\n",
       "    <tr>\n",
       "      <th>0</th>\n",
       "      <td>6.754686</td>\n",
       "      <td>5.690667</td>\n",
       "      <td>1.158848</td>\n",
       "      <td>NaN</td>\n",
       "      <td>NaN</td>\n",
       "      <td>NaN</td>\n",
       "      <td>0.821686</td>\n",
       "      <td>0.107580</td>\n",
       "      <td>0.253786</td>\n",
       "      <td>75.298341</td>\n",
       "      <td>82.540911</td>\n",
       "      <td>1</td>\n",
       "      <td>foo</td>\n",
       "      <td>NaN</td>\n",
       "      <td>NaN</td>\n",
       "      <td>1</td>\n",
       "    </tr>\n",
       "    <tr>\n",
       "      <th>1</th>\n",
       "      <td>6.374983</td>\n",
       "      <td>4.590934</td>\n",
       "      <td>3.348953</td>\n",
       "      <td>NaN</td>\n",
       "      <td>NaN</td>\n",
       "      <td>NaN</td>\n",
       "      <td>0.418877</td>\n",
       "      <td>0.406944</td>\n",
       "      <td>0.134333</td>\n",
       "      <td>82.279939</td>\n",
       "      <td>45.827846</td>\n",
       "      <td>1</td>\n",
       "      <td>foo5</td>\n",
       "      <td>NaN</td>\n",
       "      <td>NaN</td>\n",
       "      <td>1</td>\n",
       "    </tr>\n",
       "    <tr>\n",
       "      <th>2</th>\n",
       "      <td>3.145834</td>\n",
       "      <td>6.076850</td>\n",
       "      <td>9.363157</td>\n",
       "      <td>NaN</td>\n",
       "      <td>NaN</td>\n",
       "      <td>NaN</td>\n",
       "      <td>0.279984</td>\n",
       "      <td>0.284805</td>\n",
       "      <td>0.175311</td>\n",
       "      <td>79.903256</td>\n",
       "      <td>44.511000</td>\n",
       "      <td>1</td>\n",
       "      <td>lala</td>\n",
       "      <td>NaN</td>\n",
       "      <td>NaN</td>\n",
       "      <td>1</td>\n",
       "    </tr>\n",
       "    <tr>\n",
       "      <th>3</th>\n",
       "      <td>1.472914</td>\n",
       "      <td>7.915580</td>\n",
       "      <td>0.675355</td>\n",
       "      <td>NaN</td>\n",
       "      <td>NaN</td>\n",
       "      <td>NaN</td>\n",
       "      <td>0.816654</td>\n",
       "      <td>0.023639</td>\n",
       "      <td>0.724555</td>\n",
       "      <td>43.568158</td>\n",
       "      <td>88.341968</td>\n",
       "      <td>1</td>\n",
       "      <td>foo5</td>\n",
       "      <td>NaN</td>\n",
       "      <td>NaN</td>\n",
       "      <td>1</td>\n",
       "    </tr>\n",
       "    <tr>\n",
       "      <th>4</th>\n",
       "      <td>8.989578</td>\n",
       "      <td>9.016743</td>\n",
       "      <td>5.295090</td>\n",
       "      <td>NaN</td>\n",
       "      <td>NaN</td>\n",
       "      <td>NaN</td>\n",
       "      <td>0.571805</td>\n",
       "      <td>0.610214</td>\n",
       "      <td>0.650213</td>\n",
       "      <td>49.442320</td>\n",
       "      <td>43.138833</td>\n",
       "      <td>1</td>\n",
       "      <td>lala</td>\n",
       "      <td>NaN</td>\n",
       "      <td>NaN</td>\n",
       "      <td>1</td>\n",
       "    </tr>\n",
       "    <tr>\n",
       "      <th>5</th>\n",
       "      <td>1.879135</td>\n",
       "      <td>7.531495</td>\n",
       "      <td>4.821511</td>\n",
       "      <td>NaN</td>\n",
       "      <td>NaN</td>\n",
       "      <td>NaN</td>\n",
       "      <td>0.222093</td>\n",
       "      <td>0.883543</td>\n",
       "      <td>0.888190</td>\n",
       "      <td>27.353344</td>\n",
       "      <td>14.109922</td>\n",
       "      <td>1</td>\n",
       "      <td>feeeee</td>\n",
       "      <td>NaN</td>\n",
       "      <td>NaN</td>\n",
       "      <td>1</td>\n",
       "    </tr>\n",
       "  </tbody>\n",
       "</table>"
      ],
      "text/plain": [
       "          X         Y         Z  X_r  Y_r  Z_r       G_x       G_y       G_z        dip    azimuth  polarity surface series  id  order_series\n",
       "0  6.754686  5.690667  1.158848  NaN  NaN  NaN  0.821686  0.107580  0.253786  75.298341  82.540911         1     foo    NaN NaN             1\n",
       "1  6.374983  4.590934  3.348953  NaN  NaN  NaN  0.418877  0.406944  0.134333  82.279939  45.827846         1    foo5    NaN NaN             1\n",
       "2  3.145834  6.076850  9.363157  NaN  NaN  NaN  0.279984  0.284805  0.175311  79.903256  44.511000         1    lala    NaN NaN             1\n",
       "3  1.472914  7.915580  0.675355  NaN  NaN  NaN  0.816654  0.023639  0.724555  43.568158  88.341968         1    foo5    NaN NaN             1\n",
       "4  8.989578  9.016743  5.295090  NaN  NaN  NaN  0.571805  0.610214  0.650213  49.442320  43.138833         1    lala    NaN NaN             1\n",
       "5  1.879135  7.531495  4.821511  NaN  NaN  NaN  0.222093  0.883543  0.888190  27.353344  14.109922         1  feeeee    NaN NaN             1"
      ]
     },
     "execution_count": 60,
     "metadata": {},
     "output_type": "execute_result"
    }
   ],
   "source": [
    "orientations"
   ]
  },
  {
   "cell_type": "markdown",
   "metadata": {},
   "source": [
    "### Set values pasing orientation data: azimuth, dip, pole (dip direction)"
   ]
  },
  {
   "cell_type": "code",
   "execution_count": 61,
   "metadata": {},
   "outputs": [],
   "source": [
    "orientations.set_orientations(np.random.rand(6,3)*10,\n",
    "                            orientation = np.random.rand(6,3)*20,\n",
    "                            surface=['foo', 'foo5', 'lala', 'foo5', 'lala', 'feeeee'])"
   ]
  },
  {
   "cell_type": "code",
   "execution_count": 62,
   "metadata": {},
   "outputs": [
    {
     "data": {
      "text/html": [
       "<table border=\"1\" class=\"dataframe\">\n",
       "  <thead>\n",
       "    <tr style=\"text-align: right;\">\n",
       "      <th></th>\n",
       "      <th>X</th>\n",
       "      <th>Y</th>\n",
       "      <th>Z</th>\n",
       "      <th>X_r</th>\n",
       "      <th>Y_r</th>\n",
       "      <th>Z_r</th>\n",
       "      <th>G_x</th>\n",
       "      <th>G_y</th>\n",
       "      <th>G_z</th>\n",
       "      <th>dip</th>\n",
       "      <th>azimuth</th>\n",
       "      <th>polarity</th>\n",
       "      <th>surface</th>\n",
       "      <th>series</th>\n",
       "      <th>id</th>\n",
       "      <th>order_series</th>\n",
       "    </tr>\n",
       "  </thead>\n",
       "  <tbody>\n",
       "    <tr>\n",
       "      <th>0</th>\n",
       "      <td>2.236362</td>\n",
       "      <td>9.289332</td>\n",
       "      <td>7.069177</td>\n",
       "      <td>NaN</td>\n",
       "      <td>NaN</td>\n",
       "      <td>NaN</td>\n",
       "      <td>0.009900</td>\n",
       "      <td>0.064134</td>\n",
       "      <td>0.239981</td>\n",
       "      <td>15.131408</td>\n",
       "      <td>8.775031</td>\n",
       "      <td>0.248601</td>\n",
       "      <td>foo</td>\n",
       "      <td>NaN</td>\n",
       "      <td>NaN</td>\n",
       "      <td>1</td>\n",
       "    </tr>\n",
       "    <tr>\n",
       "      <th>1</th>\n",
       "      <td>3.746931</td>\n",
       "      <td>5.376924</td>\n",
       "      <td>3.602518</td>\n",
       "      <td>NaN</td>\n",
       "      <td>NaN</td>\n",
       "      <td>NaN</td>\n",
       "      <td>1.293404</td>\n",
       "      <td>3.921952</td>\n",
       "      <td>12.104145</td>\n",
       "      <td>18.838738</td>\n",
       "      <td>18.251817</td>\n",
       "      <td>12.789250</td>\n",
       "      <td>foo5</td>\n",
       "      <td>NaN</td>\n",
       "      <td>NaN</td>\n",
       "      <td>1</td>\n",
       "    </tr>\n",
       "    <tr>\n",
       "      <th>2</th>\n",
       "      <td>1.009549</td>\n",
       "      <td>0.824145</td>\n",
       "      <td>7.769260</td>\n",
       "      <td>NaN</td>\n",
       "      <td>NaN</td>\n",
       "      <td>NaN</td>\n",
       "      <td>0.635225</td>\n",
       "      <td>3.700102</td>\n",
       "      <td>13.204787</td>\n",
       "      <td>15.870903</td>\n",
       "      <td>9.741438</td>\n",
       "      <td>13.728097</td>\n",
       "      <td>lala</td>\n",
       "      <td>NaN</td>\n",
       "      <td>NaN</td>\n",
       "      <td>1</td>\n",
       "    </tr>\n",
       "    <tr>\n",
       "      <th>3</th>\n",
       "      <td>7.664131</td>\n",
       "      <td>0.616635</td>\n",
       "      <td>7.039326</td>\n",
       "      <td>NaN</td>\n",
       "      <td>NaN</td>\n",
       "      <td>NaN</td>\n",
       "      <td>0.034972</td>\n",
       "      <td>0.271297</td>\n",
       "      <td>10.147020</td>\n",
       "      <td>1.544194</td>\n",
       "      <td>7.345296</td>\n",
       "      <td>10.150706</td>\n",
       "      <td>foo5</td>\n",
       "      <td>NaN</td>\n",
       "      <td>NaN</td>\n",
       "      <td>1</td>\n",
       "    </tr>\n",
       "    <tr>\n",
       "      <th>4</th>\n",
       "      <td>4.119740</td>\n",
       "      <td>2.983007</td>\n",
       "      <td>6.754145</td>\n",
       "      <td>NaN</td>\n",
       "      <td>NaN</td>\n",
       "      <td>NaN</td>\n",
       "      <td>0.019351</td>\n",
       "      <td>0.621533</td>\n",
       "      <td>2.959713</td>\n",
       "      <td>11.865248</td>\n",
       "      <td>1.783266</td>\n",
       "      <td>3.024331</td>\n",
       "      <td>lala</td>\n",
       "      <td>NaN</td>\n",
       "      <td>NaN</td>\n",
       "      <td>1</td>\n",
       "    </tr>\n",
       "    <tr>\n",
       "      <th>5</th>\n",
       "      <td>7.300673</td>\n",
       "      <td>3.089303</td>\n",
       "      <td>9.703372</td>\n",
       "      <td>NaN</td>\n",
       "      <td>NaN</td>\n",
       "      <td>NaN</td>\n",
       "      <td>0.240818</td>\n",
       "      <td>0.719070</td>\n",
       "      <td>5.363631</td>\n",
       "      <td>8.047284</td>\n",
       "      <td>18.515804</td>\n",
       "      <td>5.416973</td>\n",
       "      <td>feeeee</td>\n",
       "      <td>NaN</td>\n",
       "      <td>NaN</td>\n",
       "      <td>1</td>\n",
       "    </tr>\n",
       "  </tbody>\n",
       "</table>"
      ],
      "text/plain": [
       "          X         Y         Z  X_r  Y_r  Z_r       G_x       G_y        G_z        dip    azimuth   polarity surface series  id  order_series\n",
       "0  2.236362  9.289332  7.069177  NaN  NaN  NaN  0.009900  0.064134   0.239981  15.131408   8.775031   0.248601     foo    NaN NaN             1\n",
       "1  3.746931  5.376924  3.602518  NaN  NaN  NaN  1.293404  3.921952  12.104145  18.838738  18.251817  12.789250    foo5    NaN NaN             1\n",
       "2  1.009549  0.824145  7.769260  NaN  NaN  NaN  0.635225  3.700102  13.204787  15.870903   9.741438  13.728097    lala    NaN NaN             1\n",
       "3  7.664131  0.616635  7.039326  NaN  NaN  NaN  0.034972  0.271297  10.147020   1.544194   7.345296  10.150706    foo5    NaN NaN             1\n",
       "4  4.119740  2.983007  6.754145  NaN  NaN  NaN  0.019351  0.621533   2.959713  11.865248   1.783266   3.024331    lala    NaN NaN             1\n",
       "5  7.300673  3.089303  9.703372  NaN  NaN  NaN  0.240818  0.719070   5.363631   8.047284  18.515804   5.416973  feeeee    NaN NaN             1"
      ]
     },
     "execution_count": 62,
     "metadata": {},
     "output_type": "execute_result"
    }
   ],
   "source": [
    "orientations"
   ]
  },
  {
   "cell_type": "markdown",
   "metadata": {},
   "source": [
    "### Mapping data from the other df"
   ]
  },
  {
   "cell_type": "code",
   "execution_count": 63,
   "metadata": {},
   "outputs": [
    {
     "data": {
      "text/html": [
       "<table border=\"1\" class=\"dataframe\">\n",
       "  <thead>\n",
       "    <tr style=\"text-align: right;\">\n",
       "      <th></th>\n",
       "      <th>X</th>\n",
       "      <th>Y</th>\n",
       "      <th>Z</th>\n",
       "      <th>X_r</th>\n",
       "      <th>Y_r</th>\n",
       "      <th>Z_r</th>\n",
       "      <th>G_x</th>\n",
       "      <th>G_y</th>\n",
       "      <th>G_z</th>\n",
       "      <th>dip</th>\n",
       "      <th>azimuth</th>\n",
       "      <th>polarity</th>\n",
       "      <th>surface</th>\n",
       "      <th>series</th>\n",
       "      <th>id</th>\n",
       "      <th>order_series</th>\n",
       "    </tr>\n",
       "  </thead>\n",
       "  <tbody>\n",
       "    <tr>\n",
       "      <th>0</th>\n",
       "      <td>2.236362</td>\n",
       "      <td>9.289332</td>\n",
       "      <td>7.069177</td>\n",
       "      <td>NaN</td>\n",
       "      <td>NaN</td>\n",
       "      <td>NaN</td>\n",
       "      <td>0.009900</td>\n",
       "      <td>0.064134</td>\n",
       "      <td>0.239981</td>\n",
       "      <td>15.131408</td>\n",
       "      <td>8.775031</td>\n",
       "      <td>0.248601</td>\n",
       "      <td>foo</td>\n",
       "      <td>foo7</td>\n",
       "      <td>NaN</td>\n",
       "      <td>1</td>\n",
       "    </tr>\n",
       "    <tr>\n",
       "      <th>1</th>\n",
       "      <td>3.746931</td>\n",
       "      <td>5.376924</td>\n",
       "      <td>3.602518</td>\n",
       "      <td>NaN</td>\n",
       "      <td>NaN</td>\n",
       "      <td>NaN</td>\n",
       "      <td>1.293404</td>\n",
       "      <td>3.921952</td>\n",
       "      <td>12.104145</td>\n",
       "      <td>18.838738</td>\n",
       "      <td>18.251817</td>\n",
       "      <td>12.789250</td>\n",
       "      <td>foo5</td>\n",
       "      <td>boo</td>\n",
       "      <td>NaN</td>\n",
       "      <td>1</td>\n",
       "    </tr>\n",
       "    <tr>\n",
       "      <th>2</th>\n",
       "      <td>1.009549</td>\n",
       "      <td>0.824145</td>\n",
       "      <td>7.769260</td>\n",
       "      <td>NaN</td>\n",
       "      <td>NaN</td>\n",
       "      <td>NaN</td>\n",
       "      <td>0.635225</td>\n",
       "      <td>3.700102</td>\n",
       "      <td>13.204787</td>\n",
       "      <td>15.870903</td>\n",
       "      <td>9.741438</td>\n",
       "      <td>13.728097</td>\n",
       "      <td>lala</td>\n",
       "      <td>boo</td>\n",
       "      <td>NaN</td>\n",
       "      <td>1</td>\n",
       "    </tr>\n",
       "    <tr>\n",
       "      <th>3</th>\n",
       "      <td>7.664131</td>\n",
       "      <td>0.616635</td>\n",
       "      <td>7.039326</td>\n",
       "      <td>NaN</td>\n",
       "      <td>NaN</td>\n",
       "      <td>NaN</td>\n",
       "      <td>0.034972</td>\n",
       "      <td>0.271297</td>\n",
       "      <td>10.147020</td>\n",
       "      <td>1.544194</td>\n",
       "      <td>7.345296</td>\n",
       "      <td>10.150706</td>\n",
       "      <td>foo5</td>\n",
       "      <td>boo</td>\n",
       "      <td>NaN</td>\n",
       "      <td>1</td>\n",
       "    </tr>\n",
       "    <tr>\n",
       "      <th>4</th>\n",
       "      <td>4.119740</td>\n",
       "      <td>2.983007</td>\n",
       "      <td>6.754145</td>\n",
       "      <td>NaN</td>\n",
       "      <td>NaN</td>\n",
       "      <td>NaN</td>\n",
       "      <td>0.019351</td>\n",
       "      <td>0.621533</td>\n",
       "      <td>2.959713</td>\n",
       "      <td>11.865248</td>\n",
       "      <td>1.783266</td>\n",
       "      <td>3.024331</td>\n",
       "      <td>lala</td>\n",
       "      <td>boo</td>\n",
       "      <td>NaN</td>\n",
       "      <td>1</td>\n",
       "    </tr>\n",
       "    <tr>\n",
       "      <th>5</th>\n",
       "      <td>7.300673</td>\n",
       "      <td>3.089303</td>\n",
       "      <td>9.703372</td>\n",
       "      <td>NaN</td>\n",
       "      <td>NaN</td>\n",
       "      <td>NaN</td>\n",
       "      <td>0.240818</td>\n",
       "      <td>0.719070</td>\n",
       "      <td>5.363631</td>\n",
       "      <td>8.047284</td>\n",
       "      <td>18.515804</td>\n",
       "      <td>5.416973</td>\n",
       "      <td>feeeee</td>\n",
       "      <td>foo20</td>\n",
       "      <td>NaN</td>\n",
       "      <td>1</td>\n",
       "    </tr>\n",
       "  </tbody>\n",
       "</table>"
      ],
      "text/plain": [
       "          X         Y         Z  X_r  Y_r  Z_r       G_x       G_y        G_z        dip    azimuth   polarity surface series  id  order_series\n",
       "0  2.236362  9.289332  7.069177  NaN  NaN  NaN  0.009900  0.064134   0.239981  15.131408   8.775031   0.248601     foo   foo7 NaN             1\n",
       "1  3.746931  5.376924  3.602518  NaN  NaN  NaN  1.293404  3.921952  12.104145  18.838738  18.251817  12.789250    foo5    boo NaN             1\n",
       "2  1.009549  0.824145  7.769260  NaN  NaN  NaN  0.635225  3.700102  13.204787  15.870903   9.741438  13.728097    lala    boo NaN             1\n",
       "3  7.664131  0.616635  7.039326  NaN  NaN  NaN  0.034972  0.271297  10.147020   1.544194   7.345296  10.150706    foo5    boo NaN             1\n",
       "4  4.119740  2.983007  6.754145  NaN  NaN  NaN  0.019351  0.621533   2.959713  11.865248   1.783266   3.024331    lala    boo NaN             1\n",
       "5  7.300673  3.089303  9.703372  NaN  NaN  NaN  0.240818  0.719070   5.363631   8.047284  18.515804   5.416973  feeeee  foo20 NaN             1"
      ]
     },
     "execution_count": 63,
     "metadata": {},
     "output_type": "execute_result"
    }
   ],
   "source": [
    "orientations.map_data_from_surfaces(surfaces, 'series')\n",
    "orientations"
   ]
  },
  {
   "cell_type": "code",
   "execution_count": 64,
   "metadata": {},
   "outputs": [
    {
     "data": {
      "text/html": [
       "<table border=\"1\" class=\"dataframe\">\n",
       "  <thead>\n",
       "    <tr style=\"text-align: right;\">\n",
       "      <th></th>\n",
       "      <th>X</th>\n",
       "      <th>Y</th>\n",
       "      <th>Z</th>\n",
       "      <th>X_r</th>\n",
       "      <th>Y_r</th>\n",
       "      <th>Z_r</th>\n",
       "      <th>G_x</th>\n",
       "      <th>G_y</th>\n",
       "      <th>G_z</th>\n",
       "      <th>dip</th>\n",
       "      <th>azimuth</th>\n",
       "      <th>polarity</th>\n",
       "      <th>surface</th>\n",
       "      <th>series</th>\n",
       "      <th>id</th>\n",
       "      <th>order_series</th>\n",
       "    </tr>\n",
       "  </thead>\n",
       "  <tbody>\n",
       "    <tr>\n",
       "      <th>0</th>\n",
       "      <td>2.236362</td>\n",
       "      <td>9.289332</td>\n",
       "      <td>7.069177</td>\n",
       "      <td>NaN</td>\n",
       "      <td>NaN</td>\n",
       "      <td>NaN</td>\n",
       "      <td>0.009900</td>\n",
       "      <td>0.064134</td>\n",
       "      <td>0.239981</td>\n",
       "      <td>15.131408</td>\n",
       "      <td>8.775031</td>\n",
       "      <td>0.248601</td>\n",
       "      <td>foo</td>\n",
       "      <td>foo7</td>\n",
       "      <td>3</td>\n",
       "      <td>1</td>\n",
       "    </tr>\n",
       "    <tr>\n",
       "      <th>1</th>\n",
       "      <td>3.746931</td>\n",
       "      <td>5.376924</td>\n",
       "      <td>3.602518</td>\n",
       "      <td>NaN</td>\n",
       "      <td>NaN</td>\n",
       "      <td>NaN</td>\n",
       "      <td>1.293404</td>\n",
       "      <td>3.921952</td>\n",
       "      <td>12.104145</td>\n",
       "      <td>18.838738</td>\n",
       "      <td>18.251817</td>\n",
       "      <td>12.789250</td>\n",
       "      <td>foo5</td>\n",
       "      <td>boo</td>\n",
       "      <td>2</td>\n",
       "      <td>1</td>\n",
       "    </tr>\n",
       "    <tr>\n",
       "      <th>2</th>\n",
       "      <td>1.009549</td>\n",
       "      <td>0.824145</td>\n",
       "      <td>7.769260</td>\n",
       "      <td>NaN</td>\n",
       "      <td>NaN</td>\n",
       "      <td>NaN</td>\n",
       "      <td>0.635225</td>\n",
       "      <td>3.700102</td>\n",
       "      <td>13.204787</td>\n",
       "      <td>15.870903</td>\n",
       "      <td>9.741438</td>\n",
       "      <td>13.728097</td>\n",
       "      <td>lala</td>\n",
       "      <td>boo</td>\n",
       "      <td>1</td>\n",
       "      <td>1</td>\n",
       "    </tr>\n",
       "    <tr>\n",
       "      <th>3</th>\n",
       "      <td>7.664131</td>\n",
       "      <td>0.616635</td>\n",
       "      <td>7.039326</td>\n",
       "      <td>NaN</td>\n",
       "      <td>NaN</td>\n",
       "      <td>NaN</td>\n",
       "      <td>0.034972</td>\n",
       "      <td>0.271297</td>\n",
       "      <td>10.147020</td>\n",
       "      <td>1.544194</td>\n",
       "      <td>7.345296</td>\n",
       "      <td>10.150706</td>\n",
       "      <td>foo5</td>\n",
       "      <td>boo</td>\n",
       "      <td>2</td>\n",
       "      <td>1</td>\n",
       "    </tr>\n",
       "    <tr>\n",
       "      <th>4</th>\n",
       "      <td>4.119740</td>\n",
       "      <td>2.983007</td>\n",
       "      <td>6.754145</td>\n",
       "      <td>NaN</td>\n",
       "      <td>NaN</td>\n",
       "      <td>NaN</td>\n",
       "      <td>0.019351</td>\n",
       "      <td>0.621533</td>\n",
       "      <td>2.959713</td>\n",
       "      <td>11.865248</td>\n",
       "      <td>1.783266</td>\n",
       "      <td>3.024331</td>\n",
       "      <td>lala</td>\n",
       "      <td>boo</td>\n",
       "      <td>1</td>\n",
       "      <td>1</td>\n",
       "    </tr>\n",
       "    <tr>\n",
       "      <th>5</th>\n",
       "      <td>7.300673</td>\n",
       "      <td>3.089303</td>\n",
       "      <td>9.703372</td>\n",
       "      <td>NaN</td>\n",
       "      <td>NaN</td>\n",
       "      <td>NaN</td>\n",
       "      <td>0.240818</td>\n",
       "      <td>0.719070</td>\n",
       "      <td>5.363631</td>\n",
       "      <td>8.047284</td>\n",
       "      <td>18.515804</td>\n",
       "      <td>5.416973</td>\n",
       "      <td>feeeee</td>\n",
       "      <td>foo20</td>\n",
       "      <td>4</td>\n",
       "      <td>1</td>\n",
       "    </tr>\n",
       "  </tbody>\n",
       "</table>"
      ],
      "text/plain": [
       "          X         Y         Z  X_r  Y_r  Z_r       G_x       G_y        G_z        dip    azimuth   polarity surface series  id  order_series\n",
       "0  2.236362  9.289332  7.069177  NaN  NaN  NaN  0.009900  0.064134   0.239981  15.131408   8.775031   0.248601     foo   foo7   3             1\n",
       "1  3.746931  5.376924  3.602518  NaN  NaN  NaN  1.293404  3.921952  12.104145  18.838738  18.251817  12.789250    foo5    boo   2             1\n",
       "2  1.009549  0.824145  7.769260  NaN  NaN  NaN  0.635225  3.700102  13.204787  15.870903   9.741438  13.728097    lala    boo   1             1\n",
       "3  7.664131  0.616635  7.039326  NaN  NaN  NaN  0.034972  0.271297  10.147020   1.544194   7.345296  10.150706    foo5    boo   2             1\n",
       "4  4.119740  2.983007  6.754145  NaN  NaN  NaN  0.019351  0.621533   2.959713  11.865248   1.783266   3.024331    lala    boo   1             1\n",
       "5  7.300673  3.089303  9.703372  NaN  NaN  NaN  0.240818  0.719070   5.363631   8.047284  18.515804   5.416973  feeeee  foo20   4             1"
      ]
     },
     "execution_count": 64,
     "metadata": {},
     "output_type": "execute_result"
    }
   ],
   "source": [
    "orientations.map_data_from_surfaces(surfaces, 'id')\n",
    "orientations"
   ]
  },
  {
   "cell_type": "code",
   "execution_count": 65,
   "metadata": {},
   "outputs": [
    {
     "data": {
      "text/html": [
       "<table border=\"1\" class=\"dataframe\">\n",
       "  <thead>\n",
       "    <tr style=\"text-align: right;\">\n",
       "      <th></th>\n",
       "      <th>X</th>\n",
       "      <th>Y</th>\n",
       "      <th>Z</th>\n",
       "      <th>X_r</th>\n",
       "      <th>Y_r</th>\n",
       "      <th>Z_r</th>\n",
       "      <th>G_x</th>\n",
       "      <th>G_y</th>\n",
       "      <th>G_z</th>\n",
       "      <th>dip</th>\n",
       "      <th>azimuth</th>\n",
       "      <th>polarity</th>\n",
       "      <th>surface</th>\n",
       "      <th>series</th>\n",
       "      <th>id</th>\n",
       "      <th>order_series</th>\n",
       "    </tr>\n",
       "  </thead>\n",
       "  <tbody>\n",
       "    <tr>\n",
       "      <th>0</th>\n",
       "      <td>2.236362</td>\n",
       "      <td>9.289332</td>\n",
       "      <td>7.069177</td>\n",
       "      <td>NaN</td>\n",
       "      <td>NaN</td>\n",
       "      <td>NaN</td>\n",
       "      <td>0.009900</td>\n",
       "      <td>0.064134</td>\n",
       "      <td>0.239981</td>\n",
       "      <td>15.131408</td>\n",
       "      <td>8.775031</td>\n",
       "      <td>0.248601</td>\n",
       "      <td>foo</td>\n",
       "      <td>foo7</td>\n",
       "      <td>3</td>\n",
       "      <td>3</td>\n",
       "    </tr>\n",
       "    <tr>\n",
       "      <th>1</th>\n",
       "      <td>3.746931</td>\n",
       "      <td>5.376924</td>\n",
       "      <td>3.602518</td>\n",
       "      <td>NaN</td>\n",
       "      <td>NaN</td>\n",
       "      <td>NaN</td>\n",
       "      <td>1.293404</td>\n",
       "      <td>3.921952</td>\n",
       "      <td>12.104145</td>\n",
       "      <td>18.838738</td>\n",
       "      <td>18.251817</td>\n",
       "      <td>12.789250</td>\n",
       "      <td>foo5</td>\n",
       "      <td>boo</td>\n",
       "      <td>2</td>\n",
       "      <td>2</td>\n",
       "    </tr>\n",
       "    <tr>\n",
       "      <th>2</th>\n",
       "      <td>1.009549</td>\n",
       "      <td>0.824145</td>\n",
       "      <td>7.769260</td>\n",
       "      <td>NaN</td>\n",
       "      <td>NaN</td>\n",
       "      <td>NaN</td>\n",
       "      <td>0.635225</td>\n",
       "      <td>3.700102</td>\n",
       "      <td>13.204787</td>\n",
       "      <td>15.870903</td>\n",
       "      <td>9.741438</td>\n",
       "      <td>13.728097</td>\n",
       "      <td>lala</td>\n",
       "      <td>boo</td>\n",
       "      <td>1</td>\n",
       "      <td>2</td>\n",
       "    </tr>\n",
       "    <tr>\n",
       "      <th>3</th>\n",
       "      <td>7.664131</td>\n",
       "      <td>0.616635</td>\n",
       "      <td>7.039326</td>\n",
       "      <td>NaN</td>\n",
       "      <td>NaN</td>\n",
       "      <td>NaN</td>\n",
       "      <td>0.034972</td>\n",
       "      <td>0.271297</td>\n",
       "      <td>10.147020</td>\n",
       "      <td>1.544194</td>\n",
       "      <td>7.345296</td>\n",
       "      <td>10.150706</td>\n",
       "      <td>foo5</td>\n",
       "      <td>boo</td>\n",
       "      <td>2</td>\n",
       "      <td>2</td>\n",
       "    </tr>\n",
       "    <tr>\n",
       "      <th>4</th>\n",
       "      <td>4.119740</td>\n",
       "      <td>2.983007</td>\n",
       "      <td>6.754145</td>\n",
       "      <td>NaN</td>\n",
       "      <td>NaN</td>\n",
       "      <td>NaN</td>\n",
       "      <td>0.019351</td>\n",
       "      <td>0.621533</td>\n",
       "      <td>2.959713</td>\n",
       "      <td>11.865248</td>\n",
       "      <td>1.783266</td>\n",
       "      <td>3.024331</td>\n",
       "      <td>lala</td>\n",
       "      <td>boo</td>\n",
       "      <td>1</td>\n",
       "      <td>2</td>\n",
       "    </tr>\n",
       "    <tr>\n",
       "      <th>5</th>\n",
       "      <td>7.300673</td>\n",
       "      <td>3.089303</td>\n",
       "      <td>9.703372</td>\n",
       "      <td>NaN</td>\n",
       "      <td>NaN</td>\n",
       "      <td>NaN</td>\n",
       "      <td>0.240818</td>\n",
       "      <td>0.719070</td>\n",
       "      <td>5.363631</td>\n",
       "      <td>8.047284</td>\n",
       "      <td>18.515804</td>\n",
       "      <td>5.416973</td>\n",
       "      <td>feeeee</td>\n",
       "      <td>foo20</td>\n",
       "      <td>4</td>\n",
       "      <td>5</td>\n",
       "    </tr>\n",
       "  </tbody>\n",
       "</table>"
      ],
      "text/plain": [
       "          X         Y         Z  X_r  Y_r  Z_r       G_x       G_y        G_z        dip    azimuth   polarity surface series  id  order_series\n",
       "0  2.236362  9.289332  7.069177  NaN  NaN  NaN  0.009900  0.064134   0.239981  15.131408   8.775031   0.248601     foo   foo7   3             3\n",
       "1  3.746931  5.376924  3.602518  NaN  NaN  NaN  1.293404  3.921952  12.104145  18.838738  18.251817  12.789250    foo5    boo   2             2\n",
       "2  1.009549  0.824145  7.769260  NaN  NaN  NaN  0.635225  3.700102  13.204787  15.870903   9.741438  13.728097    lala    boo   1             2\n",
       "3  7.664131  0.616635  7.039326  NaN  NaN  NaN  0.034972  0.271297  10.147020   1.544194   7.345296  10.150706    foo5    boo   2             2\n",
       "4  4.119740  2.983007  6.754145  NaN  NaN  NaN  0.019351  0.621533   2.959713  11.865248   1.783266   3.024331    lala    boo   1             2\n",
       "5  7.300673  3.089303  9.703372  NaN  NaN  NaN  0.240818  0.719070   5.363631   8.047284  18.515804   5.416973  feeeee  foo20   4             5"
      ]
     },
     "execution_count": 65,
     "metadata": {},
     "output_type": "execute_result"
    }
   ],
   "source": [
    "orientations.map_data_from_series(series, 'order_series')\n",
    "orientations"
   ]
  },
  {
   "cell_type": "code",
   "execution_count": 66,
   "metadata": {},
   "outputs": [],
   "source": [
    "orientations.update_annotations()"
   ]
  },
  {
   "cell_type": "markdown",
   "metadata": {},
   "source": [
    "### Grid"
   ]
  },
  {
   "cell_type": "code",
   "execution_count": 67,
   "metadata": {},
   "outputs": [
    {
     "data": {
      "text/plain": [
       "<gempy.core.grid_modules.grid_types.RegularGrid at 0x7fb199223898>"
      ]
     },
     "execution_count": 67,
     "metadata": {},
     "output_type": "execute_result"
    }
   ],
   "source": [
    "grid = gp.Grid()\n",
    "grid.set_regular_grid([0,10,0,10,0,10], [50,50,50])"
   ]
  },
  {
   "cell_type": "code",
   "execution_count": 68,
   "metadata": {},
   "outputs": [
    {
     "data": {
      "text/plain": [
       "array([[0.1, 0.1, 0.1],\n",
       "       [0.1, 0.1, 0.3],\n",
       "       [0.1, 0.1, 0.5],\n",
       "       ...,\n",
       "       [9.9, 9.9, 9.5],\n",
       "       [9.9, 9.9, 9.7],\n",
       "       [9.9, 9.9, 9.9]])"
      ]
     },
     "execution_count": 68,
     "metadata": {},
     "output_type": "execute_result"
    }
   ],
   "source": [
    "grid.values"
   ]
  },
  {
   "cell_type": "markdown",
   "metadata": {},
   "source": [
    "#### Rescaling Data"
   ]
  },
  {
   "cell_type": "code",
   "execution_count": 69,
   "metadata": {},
   "outputs": [],
   "source": [
    "rescaling = gp.RescaledData(surface_points, orientations, grid)\n"
   ]
  },
  {
   "cell_type": "code",
   "execution_count": 70,
   "metadata": {},
   "outputs": [
    {
     "data": {
      "text/html": [
       "<table border=\"1\" class=\"dataframe\">\n",
       "  <thead>\n",
       "    <tr style=\"text-align: right;\">\n",
       "      <th></th>\n",
       "      <th>X</th>\n",
       "      <th>Y</th>\n",
       "      <th>Z</th>\n",
       "      <th>X_r</th>\n",
       "      <th>Y_r</th>\n",
       "      <th>Z_r</th>\n",
       "      <th>surface</th>\n",
       "      <th>series</th>\n",
       "      <th>id</th>\n",
       "      <th>order_series</th>\n",
       "    </tr>\n",
       "  </thead>\n",
       "  <tbody>\n",
       "    <tr>\n",
       "      <th>2</th>\n",
       "      <td>0.059345</td>\n",
       "      <td>0.010588</td>\n",
       "      <td>0.681098</td>\n",
       "      <td>0.301718</td>\n",
       "      <td>0.258050</td>\n",
       "      <td>0.279380</td>\n",
       "      <td>lala</td>\n",
       "      <td>boo</td>\n",
       "      <td>1</td>\n",
       "      <td>2</td>\n",
       "    </tr>\n",
       "    <tr>\n",
       "      <th>4</th>\n",
       "      <td>0.404212</td>\n",
       "      <td>0.451895</td>\n",
       "      <td>0.428327</td>\n",
       "      <td>0.319710</td>\n",
       "      <td>0.281074</td>\n",
       "      <td>0.266192</td>\n",
       "      <td>lala</td>\n",
       "      <td>boo</td>\n",
       "      <td>1</td>\n",
       "      <td>2</td>\n",
       "    </tr>\n",
       "    <tr>\n",
       "      <th>1</th>\n",
       "      <td>0.733557</td>\n",
       "      <td>0.710490</td>\n",
       "      <td>0.657090</td>\n",
       "      <td>0.336893</td>\n",
       "      <td>0.294566</td>\n",
       "      <td>0.278128</td>\n",
       "      <td>foo5</td>\n",
       "      <td>boo</td>\n",
       "      <td>2</td>\n",
       "      <td>2</td>\n",
       "    </tr>\n",
       "    <tr>\n",
       "      <th>3</th>\n",
       "      <td>0.696453</td>\n",
       "      <td>0.191715</td>\n",
       "      <td>0.119883</td>\n",
       "      <td>0.334957</td>\n",
       "      <td>0.267500</td>\n",
       "      <td>0.250100</td>\n",
       "      <td>foo5</td>\n",
       "      <td>boo</td>\n",
       "      <td>2</td>\n",
       "      <td>2</td>\n",
       "    </tr>\n",
       "    <tr>\n",
       "      <th>0</th>\n",
       "      <td>0.989980</td>\n",
       "      <td>0.199619</td>\n",
       "      <td>0.131031</td>\n",
       "      <td>0.350272</td>\n",
       "      <td>0.267912</td>\n",
       "      <td>0.250682</td>\n",
       "      <td>foo</td>\n",
       "      <td>foo7</td>\n",
       "      <td>3</td>\n",
       "      <td>3</td>\n",
       "    </tr>\n",
       "    <tr>\n",
       "      <th>5</th>\n",
       "      <td>0.235594</td>\n",
       "      <td>0.583180</td>\n",
       "      <td>0.299830</td>\n",
       "      <td>0.310913</td>\n",
       "      <td>0.287924</td>\n",
       "      <td>0.259488</td>\n",
       "      <td>feeeee</td>\n",
       "      <td>foo20</td>\n",
       "      <td>4</td>\n",
       "      <td>5</td>\n",
       "    </tr>\n",
       "  </tbody>\n",
       "</table>"
      ],
      "text/plain": [
       "          X         Y         Z       X_r       Y_r       Z_r surface series  id  order_series\n",
       "2  0.059345  0.010588  0.681098  0.301718  0.258050  0.279380    lala    boo   1             2\n",
       "4  0.404212  0.451895  0.428327  0.319710  0.281074  0.266192    lala    boo   1             2\n",
       "1  0.733557  0.710490  0.657090  0.336893  0.294566  0.278128    foo5    boo   2             2\n",
       "3  0.696453  0.191715  0.119883  0.334957  0.267500  0.250100    foo5    boo   2             2\n",
       "0  0.989980  0.199619  0.131031  0.350272  0.267912  0.250682     foo   foo7   3             3\n",
       "5  0.235594  0.583180  0.299830  0.310913  0.287924  0.259488  feeeee  foo20   4             5"
      ]
     },
     "execution_count": 70,
     "metadata": {},
     "output_type": "execute_result"
    }
   ],
   "source": [
    "surface_points"
   ]
  },
  {
   "cell_type": "code",
   "execution_count": 71,
   "metadata": {},
   "outputs": [
    {
     "data": {
      "text/html": [
       "<table border=\"1\" class=\"dataframe\">\n",
       "  <thead>\n",
       "    <tr style=\"text-align: right;\">\n",
       "      <th></th>\n",
       "      <th>X</th>\n",
       "      <th>Y</th>\n",
       "      <th>Z</th>\n",
       "      <th>X_r</th>\n",
       "      <th>Y_r</th>\n",
       "      <th>Z_r</th>\n",
       "      <th>G_x</th>\n",
       "      <th>G_y</th>\n",
       "      <th>G_z</th>\n",
       "      <th>dip</th>\n",
       "      <th>azimuth</th>\n",
       "      <th>polarity</th>\n",
       "      <th>surface</th>\n",
       "      <th>series</th>\n",
       "      <th>id</th>\n",
       "      <th>order_series</th>\n",
       "      <th>annotations</th>\n",
       "    </tr>\n",
       "  </thead>\n",
       "  <tbody>\n",
       "    <tr>\n",
       "      <th>0</th>\n",
       "      <td>2.236362</td>\n",
       "      <td>9.289332</td>\n",
       "      <td>7.069177</td>\n",
       "      <td>0.415299</td>\n",
       "      <td>0.742150</td>\n",
       "      <td>0.612666</td>\n",
       "      <td>0.009900</td>\n",
       "      <td>0.064134</td>\n",
       "      <td>0.239981</td>\n",
       "      <td>15.131408</td>\n",
       "      <td>8.775031</td>\n",
       "      <td>0.248601</td>\n",
       "      <td>foo</td>\n",
       "      <td>foo7</td>\n",
       "      <td>3</td>\n",
       "      <td>3</td>\n",
       "      <td>${\\bf{x}}_{\\beta \\,{\\bf{3}},0}$</td>\n",
       "    </tr>\n",
       "    <tr>\n",
       "      <th>1</th>\n",
       "      <td>3.746931</td>\n",
       "      <td>5.376924</td>\n",
       "      <td>3.602518</td>\n",
       "      <td>0.494110</td>\n",
       "      <td>0.538028</td>\n",
       "      <td>0.431800</td>\n",
       "      <td>1.293404</td>\n",
       "      <td>3.921952</td>\n",
       "      <td>12.104145</td>\n",
       "      <td>18.838738</td>\n",
       "      <td>18.251817</td>\n",
       "      <td>12.789250</td>\n",
       "      <td>foo5</td>\n",
       "      <td>boo</td>\n",
       "      <td>2</td>\n",
       "      <td>2</td>\n",
       "      <td>${\\bf{x}}_{\\beta \\,{\\bf{2}},0}$</td>\n",
       "    </tr>\n",
       "    <tr>\n",
       "      <th>2</th>\n",
       "      <td>1.009549</td>\n",
       "      <td>0.824145</td>\n",
       "      <td>7.769260</td>\n",
       "      <td>0.351293</td>\n",
       "      <td>0.300496</td>\n",
       "      <td>0.649191</td>\n",
       "      <td>0.635225</td>\n",
       "      <td>3.700102</td>\n",
       "      <td>13.204787</td>\n",
       "      <td>15.870903</td>\n",
       "      <td>9.741438</td>\n",
       "      <td>13.728097</td>\n",
       "      <td>lala</td>\n",
       "      <td>boo</td>\n",
       "      <td>1</td>\n",
       "      <td>2</td>\n",
       "      <td>${\\bf{x}}_{\\beta \\,{\\bf{1}},0}$</td>\n",
       "    </tr>\n",
       "    <tr>\n",
       "      <th>3</th>\n",
       "      <td>7.664131</td>\n",
       "      <td>0.616635</td>\n",
       "      <td>7.039326</td>\n",
       "      <td>0.698482</td>\n",
       "      <td>0.289669</td>\n",
       "      <td>0.611109</td>\n",
       "      <td>0.034972</td>\n",
       "      <td>0.271297</td>\n",
       "      <td>10.147020</td>\n",
       "      <td>1.544194</td>\n",
       "      <td>7.345296</td>\n",
       "      <td>10.150706</td>\n",
       "      <td>foo5</td>\n",
       "      <td>boo</td>\n",
       "      <td>2</td>\n",
       "      <td>2</td>\n",
       "      <td>${\\bf{x}}_{\\beta \\,{\\bf{2}},1}$</td>\n",
       "    </tr>\n",
       "    <tr>\n",
       "      <th>4</th>\n",
       "      <td>4.119740</td>\n",
       "      <td>2.983007</td>\n",
       "      <td>6.754145</td>\n",
       "      <td>0.513561</td>\n",
       "      <td>0.413130</td>\n",
       "      <td>0.596230</td>\n",
       "      <td>0.019351</td>\n",
       "      <td>0.621533</td>\n",
       "      <td>2.959713</td>\n",
       "      <td>11.865248</td>\n",
       "      <td>1.783266</td>\n",
       "      <td>3.024331</td>\n",
       "      <td>lala</td>\n",
       "      <td>boo</td>\n",
       "      <td>1</td>\n",
       "      <td>2</td>\n",
       "      <td>${\\bf{x}}_{\\beta \\,{\\bf{1}},1}$</td>\n",
       "    </tr>\n",
       "    <tr>\n",
       "      <th>5</th>\n",
       "      <td>7.300673</td>\n",
       "      <td>3.089303</td>\n",
       "      <td>9.703372</td>\n",
       "      <td>0.679520</td>\n",
       "      <td>0.418676</td>\n",
       "      <td>0.750100</td>\n",
       "      <td>0.240818</td>\n",
       "      <td>0.719070</td>\n",
       "      <td>5.363631</td>\n",
       "      <td>8.047284</td>\n",
       "      <td>18.515804</td>\n",
       "      <td>5.416973</td>\n",
       "      <td>feeeee</td>\n",
       "      <td>foo20</td>\n",
       "      <td>4</td>\n",
       "      <td>5</td>\n",
       "      <td>${\\bf{x}}_{\\beta \\,{\\bf{4}},0}$</td>\n",
       "    </tr>\n",
       "  </tbody>\n",
       "</table>"
      ],
      "text/plain": [
       "          X         Y         Z       X_r       Y_r       Z_r       G_x       G_y        G_z        dip    azimuth   polarity surface series  id  order_series                      annotations\n",
       "0  2.236362  9.289332  7.069177  0.415299  0.742150  0.612666  0.009900  0.064134   0.239981  15.131408   8.775031   0.248601     foo   foo7   3             3  ${\\bf{x}}_{\\beta \\,{\\bf{3}},0}$\n",
       "1  3.746931  5.376924  3.602518  0.494110  0.538028  0.431800  1.293404  3.921952  12.104145  18.838738  18.251817  12.789250    foo5    boo   2             2  ${\\bf{x}}_{\\beta \\,{\\bf{2}},0}$\n",
       "2  1.009549  0.824145  7.769260  0.351293  0.300496  0.649191  0.635225  3.700102  13.204787  15.870903   9.741438  13.728097    lala    boo   1             2  ${\\bf{x}}_{\\beta \\,{\\bf{1}},0}$\n",
       "3  7.664131  0.616635  7.039326  0.698482  0.289669  0.611109  0.034972  0.271297  10.147020   1.544194   7.345296  10.150706    foo5    boo   2             2  ${\\bf{x}}_{\\beta \\,{\\bf{2}},1}$\n",
       "4  4.119740  2.983007  6.754145  0.513561  0.413130  0.596230  0.019351  0.621533   2.959713  11.865248   1.783266   3.024331    lala    boo   1             2  ${\\bf{x}}_{\\beta \\,{\\bf{1}},1}$\n",
       "5  7.300673  3.089303  9.703372  0.679520  0.418676  0.750100  0.240818  0.719070   5.363631   8.047284  18.515804   5.416973  feeeee  foo20   4             5  ${\\bf{x}}_{\\beta \\,{\\bf{4}},0}$"
      ]
     },
     "execution_count": 71,
     "metadata": {},
     "output_type": "execute_result"
    }
   ],
   "source": [
    "orientations"
   ]
  },
  {
   "cell_type": "markdown",
   "metadata": {},
   "source": [
    "### Additional Data"
   ]
  },
  {
   "cell_type": "code",
   "execution_count": 72,
   "metadata": {},
   "outputs": [],
   "source": [
    "ad = gp.AdditionalData(surface_points, orientations, grid, faults, surfaces, rescaling)\n"
   ]
  },
  {
   "cell_type": "code",
   "execution_count": 73,
   "metadata": {},
   "outputs": [
    {
     "data": {
      "text/html": [
       "<table border=\"1\" class=\"dataframe\">\n",
       "  <thead>\n",
       "    <tr style=\"text-align: right;\">\n",
       "      <th></th>\n",
       "      <th></th>\n",
       "      <th>values</th>\n",
       "    </tr>\n",
       "  </thead>\n",
       "  <tbody>\n",
       "    <tr>\n",
       "      <th rowspan=\"9\" valign=\"top\">Structure</th>\n",
       "      <th>isLith</th>\n",
       "      <td>True</td>\n",
       "    </tr>\n",
       "    <tr>\n",
       "      <th>isFault</th>\n",
       "      <td>True</td>\n",
       "    </tr>\n",
       "    <tr>\n",
       "      <th>number faults</th>\n",
       "      <td>1</td>\n",
       "    </tr>\n",
       "    <tr>\n",
       "      <th>number surfaces</th>\n",
       "      <td>4</td>\n",
       "    </tr>\n",
       "    <tr>\n",
       "      <th>number series</th>\n",
       "      <td>3</td>\n",
       "    </tr>\n",
       "    <tr>\n",
       "      <th>number surfaces per series</th>\n",
       "      <td>[2, 1, 1]</td>\n",
       "    </tr>\n",
       "    <tr>\n",
       "      <th>len surfaces surface_points</th>\n",
       "      <td>[2, 2, 1, 1]</td>\n",
       "    </tr>\n",
       "    <tr>\n",
       "      <th>len series surface_points</th>\n",
       "      <td>[4, 1, 1]</td>\n",
       "    </tr>\n",
       "    <tr>\n",
       "      <th>len series orientations</th>\n",
       "      <td>[4, 1, 1]</td>\n",
       "    </tr>\n",
       "    <tr>\n",
       "      <th rowspan=\"5\" valign=\"top\">Options</th>\n",
       "      <th>dtype</th>\n",
       "      <td>float64</td>\n",
       "    </tr>\n",
       "    <tr>\n",
       "      <th>output</th>\n",
       "      <td>geology</td>\n",
       "    </tr>\n",
       "    <tr>\n",
       "      <th>theano_optimizer</th>\n",
       "      <td>fast_compile</td>\n",
       "    </tr>\n",
       "    <tr>\n",
       "      <th>device</th>\n",
       "      <td>cpu</td>\n",
       "    </tr>\n",
       "    <tr>\n",
       "      <th>verbosity</th>\n",
       "      <td>[]</td>\n",
       "    </tr>\n",
       "    <tr>\n",
       "      <th rowspan=\"5\" valign=\"top\">Kriging</th>\n",
       "      <th>range</th>\n",
       "      <td>1732.05</td>\n",
       "    </tr>\n",
       "    <tr>\n",
       "      <th>$C_o$</th>\n",
       "      <td>71428.6</td>\n",
       "    </tr>\n",
       "    <tr>\n",
       "      <th>drift equations</th>\n",
       "      <td>[3, 0, 0]</td>\n",
       "    </tr>\n",
       "    <tr>\n",
       "      <th>nugget grad</th>\n",
       "      <td>0.01</td>\n",
       "    </tr>\n",
       "    <tr>\n",
       "      <th>nugget scalar</th>\n",
       "      <td>1e-06</td>\n",
       "    </tr>\n",
       "    <tr>\n",
       "      <th rowspan=\"2\" valign=\"top\">Rescaling</th>\n",
       "      <th>rescaling factor</th>\n",
       "      <td>19.167</td>\n",
       "    </tr>\n",
       "    <tr>\n",
       "      <th>centers</th>\n",
       "      <td>[3.8617381861045827, 4.649959731166183, 4.9116...</td>\n",
       "    </tr>\n",
       "  </tbody>\n",
       "</table>"
      ],
      "text/plain": [
       "                                                                                  values\n",
       "Structure isLith                                                                    True\n",
       "          isFault                                                                   True\n",
       "          number faults                                                                1\n",
       "          number surfaces                                                              4\n",
       "          number series                                                                3\n",
       "          number surfaces per series                                           [2, 1, 1]\n",
       "          len surfaces surface_points                                       [2, 2, 1, 1]\n",
       "          len series surface_points                                            [4, 1, 1]\n",
       "          len series orientations                                              [4, 1, 1]\n",
       "Options   dtype                                                                  float64\n",
       "          output                                                                 geology\n",
       "          theano_optimizer                                                  fast_compile\n",
       "          device                                                                     cpu\n",
       "          verbosity                                                                   []\n",
       "Kriging   range                                                                  1732.05\n",
       "          $C_o$                                                                  71428.6\n",
       "          drift equations                                                      [3, 0, 0]\n",
       "          nugget grad                                                               0.01\n",
       "          nugget scalar                                                            1e-06\n",
       "Rescaling rescaling factor                                                        19.167\n",
       "          centers                      [3.8617381861045827, 4.649959731166183, 4.9116..."
      ]
     },
     "execution_count": 73,
     "metadata": {},
     "output_type": "execute_result"
    }
   ],
   "source": [
    "ad"
   ]
  },
  {
   "cell_type": "code",
   "execution_count": 74,
   "metadata": {},
   "outputs": [
    {
     "data": {
      "text/html": [
       "<table border=\"1\" class=\"dataframe\">\n",
       "  <thead>\n",
       "    <tr style=\"text-align: right;\">\n",
       "      <th></th>\n",
       "      <th>values</th>\n",
       "    </tr>\n",
       "  </thead>\n",
       "  <tbody>\n",
       "    <tr>\n",
       "      <th>isLith</th>\n",
       "      <td>True</td>\n",
       "    </tr>\n",
       "    <tr>\n",
       "      <th>isFault</th>\n",
       "      <td>True</td>\n",
       "    </tr>\n",
       "    <tr>\n",
       "      <th>number faults</th>\n",
       "      <td>1</td>\n",
       "    </tr>\n",
       "    <tr>\n",
       "      <th>number surfaces</th>\n",
       "      <td>4</td>\n",
       "    </tr>\n",
       "    <tr>\n",
       "      <th>number series</th>\n",
       "      <td>3</td>\n",
       "    </tr>\n",
       "    <tr>\n",
       "      <th>number surfaces per series</th>\n",
       "      <td>[2, 1, 1]</td>\n",
       "    </tr>\n",
       "    <tr>\n",
       "      <th>len surfaces surface_points</th>\n",
       "      <td>[2, 2, 1, 1]</td>\n",
       "    </tr>\n",
       "    <tr>\n",
       "      <th>len series surface_points</th>\n",
       "      <td>[4, 1, 1]</td>\n",
       "    </tr>\n",
       "    <tr>\n",
       "      <th>len series orientations</th>\n",
       "      <td>[4, 1, 1]</td>\n",
       "    </tr>\n",
       "  </tbody>\n",
       "</table>"
      ],
      "text/plain": [
       "                                   values\n",
       "isLith                               True\n",
       "isFault                              True\n",
       "number faults                           1\n",
       "number surfaces                         4\n",
       "number series                           3\n",
       "number surfaces per series      [2, 1, 1]\n",
       "len surfaces surface_points  [2, 2, 1, 1]\n",
       "len series surface_points       [4, 1, 1]\n",
       "len series orientations         [4, 1, 1]"
      ]
     },
     "execution_count": 74,
     "metadata": {},
     "output_type": "execute_result"
    }
   ],
   "source": [
    "ad.structure_data"
   ]
  },
  {
   "cell_type": "code",
   "execution_count": 75,
   "metadata": {},
   "outputs": [
    {
     "data": {
      "text/html": [
       "<table border=\"1\" class=\"dataframe\">\n",
       "  <thead>\n",
       "    <tr style=\"text-align: right;\">\n",
       "      <th></th>\n",
       "      <th>values</th>\n",
       "    </tr>\n",
       "  </thead>\n",
       "  <tbody>\n",
       "    <tr>\n",
       "      <th>dtype</th>\n",
       "      <td>float64</td>\n",
       "    </tr>\n",
       "    <tr>\n",
       "      <th>output</th>\n",
       "      <td>geology</td>\n",
       "    </tr>\n",
       "    <tr>\n",
       "      <th>theano_optimizer</th>\n",
       "      <td>fast_compile</td>\n",
       "    </tr>\n",
       "    <tr>\n",
       "      <th>device</th>\n",
       "      <td>cpu</td>\n",
       "    </tr>\n",
       "    <tr>\n",
       "      <th>verbosity</th>\n",
       "      <td>[]</td>\n",
       "    </tr>\n",
       "  </tbody>\n",
       "</table>"
      ],
      "text/plain": [
       "                        values\n",
       "dtype                  float64\n",
       "output                 geology\n",
       "theano_optimizer  fast_compile\n",
       "device                     cpu\n",
       "verbosity                   []"
      ]
     },
     "execution_count": 75,
     "metadata": {},
     "output_type": "execute_result"
    }
   ],
   "source": [
    "ad.options"
   ]
  },
  {
   "cell_type": "code",
   "execution_count": 76,
   "metadata": {},
   "outputs": [
    {
     "data": {
      "text/html": [
       "<div>\n",
       "<style scoped>\n",
       "    .dataframe tbody tr th:only-of-type {\n",
       "        vertical-align: middle;\n",
       "    }\n",
       "\n",
       "    .dataframe tbody tr th {\n",
       "        vertical-align: top;\n",
       "    }\n",
       "\n",
       "    .dataframe thead th {\n",
       "        text-align: right;\n",
       "    }\n",
       "</style>\n",
       "<table border=\"1\" class=\"dataframe\">\n",
       "  <thead>\n",
       "    <tr style=\"text-align: right;\">\n",
       "      <th></th>\n",
       "      <th>dtype</th>\n",
       "      <th>output</th>\n",
       "      <th>theano_optimizer</th>\n",
       "      <th>device</th>\n",
       "      <th>verbosity</th>\n",
       "    </tr>\n",
       "  </thead>\n",
       "  <tbody>\n",
       "    <tr>\n",
       "      <th>values</th>\n",
       "      <td>float64</td>\n",
       "      <td>geology</td>\n",
       "      <td>fast_compile</td>\n",
       "      <td>cpu</td>\n",
       "      <td>[]</td>\n",
       "    </tr>\n",
       "  </tbody>\n",
       "</table>\n",
       "</div>"
      ],
      "text/plain": [
       "          dtype   output theano_optimizer device verbosity\n",
       "values  float64  geology     fast_compile    cpu        []"
      ]
     },
     "execution_count": 76,
     "metadata": {},
     "output_type": "execute_result"
    }
   ],
   "source": [
    "ad.options.df"
   ]
  },
  {
   "cell_type": "code",
   "execution_count": 77,
   "metadata": {},
   "outputs": [
    {
     "data": {
      "text/plain": [
       "dtype               category\n",
       "output              category\n",
       "theano_optimizer    category\n",
       "device              category\n",
       "verbosity             object\n",
       "dtype: object"
      ]
     },
     "execution_count": 77,
     "metadata": {},
     "output_type": "execute_result"
    }
   ],
   "source": [
    "ad.options.df.dtypes"
   ]
  },
  {
   "cell_type": "code",
   "execution_count": 78,
   "metadata": {},
   "outputs": [
    {
     "data": {
      "text/html": [
       "<table border=\"1\" class=\"dataframe\">\n",
       "  <thead>\n",
       "    <tr style=\"text-align: right;\">\n",
       "      <th></th>\n",
       "      <th>values</th>\n",
       "    </tr>\n",
       "  </thead>\n",
       "  <tbody>\n",
       "    <tr>\n",
       "      <th>range</th>\n",
       "      <td>1732.05</td>\n",
       "    </tr>\n",
       "    <tr>\n",
       "      <th>$C_o$</th>\n",
       "      <td>71428.6</td>\n",
       "    </tr>\n",
       "    <tr>\n",
       "      <th>drift equations</th>\n",
       "      <td>[3, 0, 0]</td>\n",
       "    </tr>\n",
       "    <tr>\n",
       "      <th>nugget grad</th>\n",
       "      <td>0.01</td>\n",
       "    </tr>\n",
       "    <tr>\n",
       "      <th>nugget scalar</th>\n",
       "      <td>1e-06</td>\n",
       "    </tr>\n",
       "  </tbody>\n",
       "</table>"
      ],
      "text/plain": [
       "                    values\n",
       "range              1732.05\n",
       "$C_o$              71428.6\n",
       "drift equations  [3, 0, 0]\n",
       "nugget grad           0.01\n",
       "nugget scalar        1e-06"
      ]
     },
     "execution_count": 78,
     "metadata": {},
     "output_type": "execute_result"
    }
   ],
   "source": [
    "ad.kriging_data"
   ]
  },
  {
   "cell_type": "code",
   "execution_count": 79,
   "metadata": {},
   "outputs": [
    {
     "data": {
      "text/html": [
       "<table border=\"1\" class=\"dataframe\">\n",
       "  <thead>\n",
       "    <tr style=\"text-align: right;\">\n",
       "      <th></th>\n",
       "      <th>values</th>\n",
       "    </tr>\n",
       "  </thead>\n",
       "  <tbody>\n",
       "    <tr>\n",
       "      <th>rescaling factor</th>\n",
       "      <td>19.167</td>\n",
       "    </tr>\n",
       "    <tr>\n",
       "      <th>centers</th>\n",
       "      <td>[3.8617381861045827, 4.649959731166183, 4.9116...</td>\n",
       "    </tr>\n",
       "  </tbody>\n",
       "</table>"
      ],
      "text/plain": [
       "                                                             values\n",
       "rescaling factor                                             19.167\n",
       "centers           [3.8617381861045827, 4.649959731166183, 4.9116..."
      ]
     },
     "execution_count": 79,
     "metadata": {},
     "output_type": "execute_result"
    }
   ],
   "source": [
    "ad.rescaling_data"
   ]
  },
  {
   "cell_type": "markdown",
   "metadata": {},
   "source": [
    "### Interpolator"
   ]
  },
  {
   "cell_type": "code",
   "execution_count": 80,
   "metadata": {},
   "outputs": [
    {
     "ename": "AttributeError",
     "evalue": "module 'gempy' has no attribute 'Interpolator'",
     "output_type": "error",
     "traceback": [
      "\u001b[0;31m------------------------------------------------------------------------\u001b[0m",
      "\u001b[0;31mAttributeError\u001b[0m                         Traceback (most recent call last)",
      "\u001b[0;32m<ipython-input-80-59d16e4c6e16>\u001b[0m in \u001b[0;36m<module>\u001b[0;34m()\u001b[0m\n\u001b[0;32m----> 1\u001b[0;31m \u001b[0minterp\u001b[0m \u001b[0;34m=\u001b[0m \u001b[0mgp\u001b[0m\u001b[0;34m.\u001b[0m\u001b[0mInterpolator\u001b[0m\u001b[0;34m(\u001b[0m\u001b[0msurface_points\u001b[0m\u001b[0;34m,\u001b[0m \u001b[0morientations\u001b[0m\u001b[0;34m,\u001b[0m \u001b[0mgrid\u001b[0m\u001b[0;34m,\u001b[0m \u001b[0msurfaces\u001b[0m\u001b[0;34m,\u001b[0m \u001b[0mfaults\u001b[0m\u001b[0;34m,\u001b[0m \u001b[0mad\u001b[0m\u001b[0;34m)\u001b[0m\u001b[0;34m\u001b[0m\u001b[0;34m\u001b[0m\u001b[0m\n\u001b[0m",
      "\u001b[0;31mAttributeError\u001b[0m: module 'gempy' has no attribute 'Interpolator'"
     ]
    }
   ],
   "source": [
    "interp = gp.Interpolator(surface_points, orientations, grid, surfaces, faults, ad)"
   ]
  },
  {
   "cell_type": "code",
   "execution_count": null,
   "metadata": {},
   "outputs": [],
   "source": [
    "interp.compile_th_fn()"
   ]
  },
  {
   "cell_type": "code",
   "execution_count": null,
   "metadata": {},
   "outputs": [],
   "source": [
    "interp.print_theano_shared()"
   ]
  },
  {
   "cell_type": "code",
   "execution_count": null,
   "metadata": {},
   "outputs": [],
   "source": []
  }
 ],
 "metadata": {
  "kernelspec": {
   "display_name": "Python 3",
   "language": "python",
   "name": "python3"
  },
  "language_info": {
   "codemirror_mode": {
    "name": "ipython",
    "version": 3
   },
   "file_extension": ".py",
   "mimetype": "text/x-python",
   "name": "python",
   "nbconvert_exporter": "python",
   "pygments_lexer": "ipython3",
   "version": "3.6.6"
  }
 },
 "nbformat": 4,
 "nbformat_minor": 2
}
